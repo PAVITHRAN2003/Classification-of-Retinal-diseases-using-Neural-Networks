{
  "cells": [
    {
      "cell_type": "code",
      "execution_count": 1,
      "metadata": {
        "id": "BCyhjd33Eto7"
      },
      "outputs": [],
      "source": [
        "# For tips on running notebooks in Google Colab, see\n",
        "# https://pytorch.org/tutorials/beginner/colab\n",
        "%matplotlib inline"
      ]
    },
    {
      "cell_type": "markdown",
      "metadata": {
        "id": "76WV8FiREto-"
      },
      "source": [
        "**Introduction** \\|\\| [Tensors](tensors_deeper_tutorial.html) \\|\\|\n",
        "[Autograd](autogradyt_tutorial.html) \\|\\| [Building\n",
        "Models](modelsyt_tutorial.html) \\|\\| [TensorBoard\n",
        "Support](tensorboardyt_tutorial.html) \\|\\| [Training\n",
        "Models](trainingyt.html) \\|\\| [Model Understanding](captumyt.html)\n",
        "\n",
        "Introduction to PyTorch\n",
        "=======================\n",
        "\n",
        "Follow along with the video below or on\n",
        "[youtube](https://www.youtube.com/watch?v=IC0_FRiX-sw).\n",
        "\n",
        "``` {.python .jupyter-code-cell}\n",
        "from IPython.display import display, HTML\n",
        "html_code = \"\"\"\n",
        "<div style=\"margin-top:10px; margin-bottom:10px;\">\n",
        "  <iframe width=\"560\" height=\"315\" src=\"https://www.youtube.com/embed/IC0_FRiX-sw\" frameborder=\"0\" allow=\"accelerometer; encrypted-media; gyroscope; picture-in-picture\" allowfullscreen></iframe>\n",
        "</div>\n",
        "\"\"\"\n",
        "display(HTML(html_code))\n",
        "```\n",
        "\n",
        "PyTorch Tensors\n",
        "---------------\n",
        "\n",
        "Follow along with the video beginning at\n",
        "[03:50](https://www.youtube.com/watch?v=IC0_FRiX-sw&t=230s).\n",
        "\n",
        "First, we'll import pytorch.\n"
      ]
    },
    {
      "cell_type": "code",
      "execution_count": 2,
      "metadata": {
        "id": "1R8hE3GYEto_"
      },
      "outputs": [],
      "source": [
        "import torch"
      ]
    },
    {
      "cell_type": "markdown",
      "metadata": {
        "id": "fKZs5GSCEtpA"
      },
      "source": [
        "Let's see a few basic tensor manipulations. First, just a few of the\n",
        "ways to create tensors:\n"
      ]
    },
    {
      "cell_type": "code",
      "execution_count": 3,
      "metadata": {
        "colab": {
          "base_uri": "https://localhost:8080/"
        },
        "id": "rC_BxbIAEtpA",
        "outputId": "b365f7fe-b500-4d65-f95b-acf557b0ebee"
      },
      "outputs": [
        {
          "output_type": "stream",
          "name": "stdout",
          "text": [
            "tensor([[0., 0., 0.],\n",
            "        [0., 0., 0.],\n",
            "        [0., 0., 0.],\n",
            "        [0., 0., 0.],\n",
            "        [0., 0., 0.]])\n",
            "torch.float32\n"
          ]
        }
      ],
      "source": [
        "z = torch.zeros(4, 4)\n",
        "print(z)\n",
        "print(z.dtype)"
      ]
    },
    {
      "cell_type": "markdown",
      "metadata": {
        "id": "nVOvYtLfEtpA"
      },
      "source": [
        "Above, we create a 5x3 matrix filled with zeros, and query its datatype\n",
        "to find out that the zeros are 32-bit floating point numbers, which is\n",
        "the default PyTorch.\n",
        "\n",
        "What if you wanted integers instead? You can always override the\n",
        "default:\n"
      ]
    },
    {
      "cell_type": "code",
      "execution_count": 4,
      "metadata": {
        "colab": {
          "base_uri": "https://localhost:8080/"
        },
        "id": "rGEtNl1iEtpA",
        "outputId": "b0dca4b1-a41a-4153-832a-10b5ca889438"
      },
      "outputs": [
        {
          "output_type": "stream",
          "name": "stdout",
          "text": [
            "tensor([[1, 1, 1],\n",
            "        [1, 1, 1],\n",
            "        [1, 1, 1],\n",
            "        [1, 1, 1],\n",
            "        [1, 1, 1]], dtype=torch.int16)\n"
          ]
        }
      ],
      "source": [
        "i = torch.ones((5, 3), dtype=torch.int16)\n",
        "print(i)"
      ]
    },
    {
      "cell_type": "markdown",
      "metadata": {
        "id": "l1B3hKM8EtpB"
      },
      "source": [
        "You can see that when we do change the default, the tensor helpfully\n",
        "reports this when printed.\n",
        "\n",
        "It's common to initialize learning weights randomly, often with a\n",
        "specific seed for the PRNG for reproducibility of results:\n"
      ]
    },
    {
      "cell_type": "code",
      "execution_count": 5,
      "metadata": {
        "colab": {
          "base_uri": "https://localhost:8080/"
        },
        "id": "8zsdqpILEtpB",
        "outputId": "62a4e643-2953-43d1-e8d2-0822118e7524"
      },
      "outputs": [
        {
          "output_type": "stream",
          "name": "stdout",
          "text": [
            "A random tensor:\n",
            "tensor([[0.3126, 0.3791],\n",
            "        [0.3087, 0.0736]])\n",
            "\n",
            "A different random tensor:\n",
            "tensor([[0.4216, 0.0691],\n",
            "        [0.2332, 0.4047]])\n",
            "\n",
            "Should match r1:\n",
            "tensor([[0.3126, 0.3791],\n",
            "        [0.3087, 0.0736]])\n"
          ]
        }
      ],
      "source": [
        "torch.manual_seed(1729)\n",
        "r1 = torch.rand(2, 2)\n",
        "print('A random tensor:')\n",
        "print(r1)\n",
        "\n",
        "r2 = torch.rand(2, 2)\n",
        "print('\\nA different random tensor:')\n",
        "print(r2) # new values\n",
        "\n",
        "torch.manual_seed(1729)\n",
        "r3 = torch.rand(2, 2)\n",
        "print('\\nShould match r1:')\n",
        "print(r3) # repeats values of r1 because of re-seed"
      ]
    },
    {
      "cell_type": "markdown",
      "metadata": {
        "id": "5G98TD99EtpB"
      },
      "source": [
        "PyTorch tensors perform arithmetic operations intuitively. Tensors of\n",
        "similar shapes may be added, multiplied, etc. Operations with scalars\n",
        "are distributed over the tensor:\n"
      ]
    },
    {
      "cell_type": "code",
      "execution_count": 6,
      "metadata": {
        "colab": {
          "base_uri": "https://localhost:8080/"
        },
        "id": "O0CaiuTGEtpC",
        "outputId": "be0d5274-3a21-49d4-b04b-720d7047d48e"
      },
      "outputs": [
        {
          "output_type": "stream",
          "name": "stdout",
          "text": [
            "tensor([[1., 1., 1.],\n",
            "        [1., 1., 1.]])\n",
            "tensor([[2., 2., 2.],\n",
            "        [2., 2., 2.]])\n",
            "tensor([[3., 3., 3.],\n",
            "        [3., 3., 3.]])\n",
            "torch.Size([2, 3])\n"
          ]
        }
      ],
      "source": [
        "ones = torch.ones(2, 3)\n",
        "print(ones)\n",
        "\n",
        "twos = torch.ones(2, 3) * 2 # every element is multiplied by 2\n",
        "print(twos)\n",
        "\n",
        "threes = ones + twos       # addition allowed because shapes are similar\n",
        "print(threes)              # tensors are added element-wise\n",
        "print(threes.shape)        # this has the same dimensions as input tensors\n",
        "\n",
        "r1 = torch.rand(2, 3)\n",
        "r2 = torch.rand(3, 2)\n",
        "# uncomment this line to get a runtime error\n",
        "# r3 = r1 + r2"
      ]
    },
    {
      "cell_type": "markdown",
      "metadata": {
        "id": "23XRx00SEtpC"
      },
      "source": [
        "Here's a small sample of the mathematical operations available:\n"
      ]
    },
    {
      "cell_type": "code",
      "execution_count": 7,
      "metadata": {
        "colab": {
          "base_uri": "https://localhost:8080/"
        },
        "id": "t27IuUeAEtpC",
        "outputId": "68274ad7-a798-46ab-bec9-dc5f7ef184ef"
      },
      "outputs": [
        {
          "output_type": "stream",
          "name": "stdout",
          "text": [
            "A random matrix, r:\n",
            "tensor([[ 0.9956, -0.2232],\n",
            "        [ 0.3858, -0.6593]])\n",
            "\n",
            "Absolute value of r:\n",
            "tensor([[0.9956, 0.2232],\n",
            "        [0.3858, 0.6593]])\n",
            "\n",
            "Inverse sine of r:\n",
            "tensor([[ 1.4775, -0.2251],\n",
            "        [ 0.3961, -0.7199]])\n",
            "\n",
            "Determinant of r:\n",
            "tensor(-0.5703)\n",
            "\n",
            "Singular value decomposition of r:\n",
            "torch.return_types.svd(\n",
            "U=tensor([[-0.8353, -0.5497],\n",
            "        [-0.5497,  0.8353]]),\n",
            "S=tensor([1.1793, 0.4836]),\n",
            "V=tensor([[-0.8851, -0.4654],\n",
            "        [ 0.4654, -0.8851]]))\n",
            "\n",
            "Average and standard deviation of r:\n",
            "(tensor(0.7217), tensor(0.1247))\n",
            "\n",
            "Maximum value of r:\n",
            "tensor(0.9956)\n"
          ]
        }
      ],
      "source": [
        "r = (torch.rand(2, 2) - 0.5) * 2 # values between -1 and 1\n",
        "print('A random matrix, r:')\n",
        "print(r)\n",
        "\n",
        "# Common mathematical operations are supported:\n",
        "print('\\nAbsolute value of r:')\n",
        "print(torch.abs(r))\n",
        "\n",
        "# ...as are trigonometric functions:\n",
        "print('\\nInverse sine of r:')\n",
        "print(torch.asin(r))\n",
        "\n",
        "# ...and linear algebra operations like determinant and singular value decomposition\n",
        "print('\\nDeterminant of r:')\n",
        "print(torch.det(r))\n",
        "print('\\nSingular value decomposition of r:')\n",
        "print(torch.svd(r))\n",
        "\n",
        "# ...and statistical and aggregate operations:\n",
        "print('\\nAverage and standard deviation of r:')\n",
        "print(torch.std_mean(r))\n",
        "print('\\nMaximum value of r:')\n",
        "print(torch.max(r))"
      ]
    },
    {
      "cell_type": "markdown",
      "metadata": {
        "id": "a-VGuMoVEtpC"
      },
      "source": [
        "There's a good deal more to know about the power of PyTorch tensors,\n",
        "including how to set them up for parallel computations on GPU - we'll be\n",
        "going into more depth in another video.\n",
        "\n",
        "PyTorch Models\n",
        "==============\n",
        "\n",
        "Follow along with the video beginning at\n",
        "[10:00](https://www.youtube.com/watch?v=IC0_FRiX-sw&t=600s).\n",
        "\n",
        "Let's talk about how we can express models in PyTorch\n"
      ]
    },
    {
      "cell_type": "code",
      "execution_count": 8,
      "metadata": {
        "id": "dqyQmO0YEtpD"
      },
      "outputs": [],
      "source": [
        "import torch                     # for all things PyTorch\n",
        "import torch.nn as nn            # for torch.nn.Module, the parent object for PyTorch models\n",
        "import torch.nn.functional as F  # for the activation function"
      ]
    },
    {
      "cell_type": "markdown",
      "metadata": {
        "id": "8awrMMMsEtpD"
      },
      "source": [
        "![](https://pytorch.org/tutorials/_static/img/mnist.png)\n",
        "\n",
        "*Figure: LeNet-5*\n",
        "\n",
        "Above is a diagram of LeNet-5, one of the earliest convolutional neural\n",
        "nets, and one of the drivers of the explosion in Deep Learning. It was\n",
        "built to read small images of handwritten numbers (the MNIST dataset),\n",
        "and correctly classify which digit was represented in the image.\n",
        "\n",
        "Here's the abridged version of how it works:\n",
        "\n",
        "-   Layer C1 is a convolutional layer, meaning that it scans the input\n",
        "    image for features it learned during training. It outputs a map of\n",
        "    where it saw each of its learned features in the image. This\n",
        "    \"activation map\" is downsampled in layer S2.\n",
        "-   Layer C3 is another convolutional layer, this time scanning C1's\n",
        "    activation map for *combinations* of features. It also puts out an\n",
        "    activation map describing the spatial locations of these feature\n",
        "    combinations, which is downsampled in layer S4.\n",
        "-   Finally, the fully-connected layers at the end, F5, F6, and OUTPUT,\n",
        "    are a *classifier* that takes the final activation map, and\n",
        "    classifies it into one of ten bins representing the 10 digits.\n",
        "\n",
        "How do we express this simple neural network in code?\n"
      ]
    },
    {
      "cell_type": "code",
      "execution_count": 9,
      "metadata": {
        "id": "y1Muct1qEtpD"
      },
      "outputs": [],
      "source": [
        "class LeNet(nn.Module):\n",
        "\n",
        "    def __init__(self):\n",
        "        super(LeNet, self).__init__()\n",
        "        # 1 input image channel (black & white), 6 output channels, 5x5 square convolution\n",
        "        # kernel\n",
        "        self.conv1 = nn.Conv2d(1, 6, 5)\n",
        "        self.conv2 = nn.Conv2d(6, 16, 5)\n",
        "        # an affine operation: y = Wx + b\n",
        "        self.fc1 = nn.Linear(16 * 5 * 5, 120)  # 5*5 from image dimension\n",
        "        self.fc2 = nn.Linear(120, 84)\n",
        "        self.fc3 = nn.Linear(84, 10)\n",
        "\n",
        "    def forward(self, x):\n",
        "        # Max pooling over a (2, 2) window\n",
        "        x = F.max_pool2d(F.relu(self.conv1(x)), (2, 2))\n",
        "        # If the size is a square you can only specify a single number\n",
        "        x = F.max_pool2d(F.relu(self.conv2(x)), 2)\n",
        "        x = x.view(-1, self.num_flat_features(x))\n",
        "        x = F.relu(self.fc1(x))\n",
        "        x = F.relu(self.fc2(x))\n",
        "        x = self.fc3(x)\n",
        "        return x\n",
        "\n",
        "    def num_flat_features(self, x):\n",
        "        size = x.size()[1:]  # all dimensions except the batch dimension\n",
        "        num_features = 1\n",
        "        for s in size:\n",
        "            num_features *= s\n",
        "        return num_features"
      ]
    },
    {
      "cell_type": "markdown",
      "metadata": {
        "id": "Vqa83MkVEtpD"
      },
      "source": [
        "Looking over this code, you should be able to spot some structural\n",
        "similarities with the diagram above.\n",
        "\n",
        "This demonstrates the structure of a typical PyTorch model:\n",
        "\n",
        "-   It inherits from `torch.nn.Module` - modules may be nested - in\n",
        "    fact, even the `Conv2d` and `Linear` layer classes inherit from\n",
        "    `torch.nn.Module`.\n",
        "-   A model will have an `__init__()` function, where it instantiates\n",
        "    its layers, and loads any data artifacts it might need (e.g., an NLP\n",
        "    model might load a vocabulary).\n",
        "-   A model will have a `forward()` function. This is where the actual\n",
        "    computation happens: An input is passed through the network layers\n",
        "    and various functions to generate an output.\n",
        "-   Other than that, you can build out your model class like any other\n",
        "    Python class, adding whatever properties and methods you need to\n",
        "    support your model's computation.\n",
        "\n",
        "Let's instantiate this object and run a sample input through it.\n"
      ]
    },
    {
      "cell_type": "code",
      "execution_count": 10,
      "metadata": {
        "colab": {
          "base_uri": "https://localhost:8080/"
        },
        "id": "CXSluwBdEtpD",
        "outputId": "4a257fd3-621c-4cd7-85ad-edc44bbfdffa"
      },
      "outputs": [
        {
          "output_type": "stream",
          "name": "stdout",
          "text": [
            "LeNet(\n",
            "  (conv1): Conv2d(1, 6, kernel_size=(5, 5), stride=(1, 1))\n",
            "  (conv2): Conv2d(6, 16, kernel_size=(5, 5), stride=(1, 1))\n",
            "  (fc1): Linear(in_features=400, out_features=120, bias=True)\n",
            "  (fc2): Linear(in_features=120, out_features=84, bias=True)\n",
            "  (fc3): Linear(in_features=84, out_features=10, bias=True)\n",
            ")\n",
            "\n",
            "Image batch shape:\n",
            "torch.Size([1, 1, 32, 32])\n",
            "\n",
            "Raw output:\n",
            "tensor([[ 0.0898,  0.0318,  0.1485,  0.0301, -0.0085, -0.1135, -0.0296,  0.0164,\n",
            "          0.0039,  0.0616]], grad_fn=<AddmmBackward0>)\n",
            "torch.Size([1, 10])\n"
          ]
        }
      ],
      "source": [
        "net = LeNet()\n",
        "print(net)                         # what does the object tell us about itself?\n",
        "\n",
        "input = torch.rand(1, 1, 32, 32)   # stand-in for a 32x32 black & white image\n",
        "print('\\nImage batch shape:')\n",
        "print(input.shape)\n",
        "\n",
        "output = net(input)                # we don't call forward() directly\n",
        "print('\\nRaw output:')\n",
        "print(output)\n",
        "print(output.shape)"
      ]
    },
    {
      "cell_type": "markdown",
      "metadata": {
        "id": "-sWn9mxCEtpE"
      },
      "source": [
        "There are a few important things happening above:\n",
        "\n",
        "First, we instantiate the `LeNet` class, and we print the `net` object.\n",
        "A subclass of `torch.nn.Module` will report the layers it has created\n",
        "and their shapes and parameters. This can provide a handy overview of a\n",
        "model if you want to get the gist of its processing.\n",
        "\n",
        "Below that, we create a dummy input representing a 32x32 image with 1\n",
        "color channel. Normally, you would load an image tile and convert it to\n",
        "a tensor of this shape.\n",
        "\n",
        "You may have noticed an extra dimension to our tensor - the *batch\n",
        "dimension.* PyTorch models assume they are working on *batches* of data\n",
        "- for example, a batch of 16 of our image tiles would have the shape\n",
        "`(16, 1, 32, 32)`. Since we're only using one image, we create a batch\n",
        "of 1 with shape `(1, 1, 32, 32)`.\n",
        "\n",
        "We ask the model for an inference by calling it like a function:\n",
        "`net(input)`. The output of this call represents the model's confidence\n",
        "that the input represents a particular digit. (Since this instance of\n",
        "the model hasn't learned anything yet, we shouldn't expect to see any\n",
        "signal in the output.) Looking at the shape of `output`, we can see that\n",
        "it also has a batch dimension, the size of which should always match the\n",
        "input batch dimension. If we had passed in an input batch of 16\n",
        "instances, `output` would have a shape of `(16, 10)`.\n",
        "\n",
        "Datasets and Dataloaders\n",
        "========================\n",
        "\n",
        "Follow along with the video beginning at\n",
        "[14:00](https://www.youtube.com/watch?v=IC0_FRiX-sw&t=840s).\n",
        "\n",
        "Below, we're going to demonstrate using one of the ready-to-download,\n",
        "open-access datasets from TorchVision, how to transform the images for\n",
        "consumption by your model, and how to use the DataLoader to feed batches\n",
        "of data to your model.\n",
        "\n",
        "The first thing we need to do is transform our incoming images into a\n",
        "PyTorch tensor.\n"
      ]
    },
    {
      "cell_type": "code",
      "execution_count": 11,
      "metadata": {
        "id": "HxfOPegGEtpE"
      },
      "outputs": [],
      "source": [
        "#%matplotlib inline\n",
        "\n",
        "import torch\n",
        "import torchvision\n",
        "import torchvision.transforms as transforms\n",
        "\n",
        "transform = transforms.Compose(\n",
        "    [transforms.ToTensor(),\n",
        "     transforms.Normalize((0.4914, 0.4822, 0.4465), (0.2470, 0.2435, 0.2616))])"
      ]
    },
    {
      "cell_type": "markdown",
      "metadata": {
        "id": "P9zt55knEtpE"
      },
      "source": [
        "Here, we specify two transformations for our input:\n",
        "\n",
        "-   `transforms.ToTensor()` converts images loaded by Pillow into\n",
        "    PyTorch tensors.\n",
        "-   `transforms.Normalize()` adjusts the values of the tensor so that\n",
        "    their average is zero and their standard deviation is 1.0. Most\n",
        "    activation functions have their strongest gradients around x = 0, so\n",
        "    centering our data there can speed learning. The values passed to\n",
        "    the transform are the means (first tuple) and the standard\n",
        "    deviations (second tuple) of the rgb values of the images in the\n",
        "    dataset. You can calculate these values yourself by running these\n",
        "    few lines of code:\n",
        "    `` `        from torch.utils.data import ConcatDataset        transform = transforms.Compose([transforms.ToTensor()])        trainset = torchvision.datasets.CIFAR10(root='./data', train=True,                                     download=True, transform=transform)         #stack all train images together into a tensor of shape         #(50000, 3, 32, 32)        x = torch.stack([sample[0] for sample in ConcatDataset([trainset])])         #get the mean of each channel                    mean = torch.mean(x, dim=(0,2,3)) #tensor([0.4914, 0.4822, 0.4465])        std = torch.std(x, dim=(0,2,3)) #tensor([0.2470, 0.2435, 0.2616]) ``\\`\n",
        "\n",
        "There are many more transforms available, including cropping, centering,\n",
        "rotation, and reflection.\n",
        "\n",
        "Next, we'll create an instance of the CIFAR10 dataset. This is a set of\n",
        "32x32 color image tiles representing 10 classes of objects: 6 of animals\n",
        "(bird, cat, deer, dog, frog, horse) and 4 of vehicles (airplane,\n",
        "automobile, ship, truck):\n"
      ]
    },
    {
      "cell_type": "code",
      "execution_count": 12,
      "metadata": {
        "colab": {
          "base_uri": "https://localhost:8080/"
        },
        "id": "PvDpnRTCEtpE",
        "outputId": "3a5070a6-1261-46d5-aa57-9fbba58ba2d6"
      },
      "outputs": [
        {
          "output_type": "stream",
          "name": "stdout",
          "text": [
            "Downloading https://www.cs.toronto.edu/~kriz/cifar-10-python.tar.gz to ./data/cifar-10-python.tar.gz\n"
          ]
        },
        {
          "output_type": "stream",
          "name": "stderr",
          "text": [
            "100%|██████████| 170M/170M [00:05<00:00, 31.2MB/s]\n"
          ]
        },
        {
          "output_type": "stream",
          "name": "stdout",
          "text": [
            "Extracting ./data/cifar-10-python.tar.gz to ./data\n"
          ]
        }
      ],
      "source": [
        "trainset = torchvision.datasets.CIFAR10(root='./data', train=True,\n",
        "                                        download=True, transform=transform)"
      ]
    },
    {
      "cell_type": "markdown",
      "metadata": {
        "id": "CNLWaQ65EtpE"
      },
      "source": [
        "<div style=\"background-color: #54c7ec; color: #fff; font-weight: 700; padding-left: 10px; padding-top: 5px; padding-bottom: 5px\"><strong>NOTE:</strong></div>\n",
        "\n",
        "<div style=\"background-color: #f3f4f7; padding-left: 10px; padding-top: 10px; padding-bottom: 10px; padding-right: 10px\">\n",
        "\n",
        "<p>When you run the cell above, it may take a little time for thedataset to download.</p>\n",
        "\n",
        "</div>\n",
        "\n",
        "This is an example of creating a dataset object in PyTorch. Downloadable\n",
        "datasets (like CIFAR-10 above) are subclasses of\n",
        "`torch.utils.data.Dataset`. `Dataset` classes in PyTorch include the\n",
        "downloadable datasets in TorchVision, Torchtext, and TorchAudio, as well\n",
        "as utility dataset classes such as `torchvision.datasets.ImageFolder`,\n",
        "which will read a folder of labeled images. You can also create your own\n",
        "subclasses of `Dataset`.\n",
        "\n",
        "When we instantiate our dataset, we need to tell it a few things:\n",
        "\n",
        "-   The filesystem path to where we want the data to go.\n",
        "-   Whether or not we are using this set for training; most datasets\n",
        "    will be split into training and test subsets.\n",
        "-   Whether we would like to download the dataset if we haven't already.\n",
        "-   The transformations we want to apply to the data.\n",
        "\n",
        "Once your dataset is ready, you can give it to the `DataLoader`:\n"
      ]
    },
    {
      "cell_type": "code",
      "execution_count": 13,
      "metadata": {
        "id": "1RIaVGAOEtpE"
      },
      "outputs": [],
      "source": [
        "trainloader = torch.utils.data.DataLoader(trainset, batch_size=4,\n",
        "                                          shuffle=True, num_workers=2)"
      ]
    },
    {
      "cell_type": "markdown",
      "metadata": {
        "id": "GmSRLTo_EtpE"
      },
      "source": [
        "A `Dataset` subclass wraps access to the data, and is specialized to the\n",
        "type of data it's serving. The `DataLoader` knows *nothing* about the\n",
        "data, but organizes the input tensors served by the `Dataset` into\n",
        "batches with the parameters you specify.\n",
        "\n",
        "In the example above, we've asked a `DataLoader` to give us batches of 4\n",
        "images from `trainset`, randomizing their order (`shuffle=True`), and we\n",
        "told it to spin up two workers to load data from disk.\n",
        "\n",
        "It's good practice to visualize the batches your `DataLoader` serves:\n"
      ]
    },
    {
      "cell_type": "code",
      "execution_count": 14,
      "metadata": {
        "colab": {
          "base_uri": "https://localhost:8080/",
          "height": 249
        },
        "id": "sCiCaqfiEtpE",
        "outputId": "58b57ddd-1fca-41b8-8513-db9f07e9b5b1"
      },
      "outputs": [
        {
          "output_type": "stream",
          "name": "stderr",
          "text": [
            "WARNING:matplotlib.image:Clipping input data to the valid range for imshow with RGB data ([0..1] for floats or [0..255] for integers). Got range [-0.49473685..1.5632443].\n"
          ]
        },
        {
          "output_type": "stream",
          "name": "stdout",
          "text": [
            " ship   car horse  ship\n"
          ]
        },
        {
          "output_type": "display_data",
          "data": {
            "text/plain": [
              "<Figure size 640x480 with 1 Axes>"
            ],
            "image/png": "[encoded data removed]"
          },
          "metadata": {}
        }
      ],
      "source": [
        "import matplotlib.pyplot as plt\n",
        "import numpy as np\n",
        "\n",
        "classes = ('plane', 'car', 'bird', 'cat',\n",
        "           'deer', 'dog', 'frog', 'horse', 'ship', 'truck')\n",
        "\n",
        "def imshow(img):\n",
        "    img = img / 2 + 0.5     # unnormalize\n",
        "    npimg = img.numpy()\n",
        "    plt.imshow(np.transpose(npimg, (1, 2, 0)))\n",
        "\n",
        "\n",
        "# get some random training images\n",
        "dataiter = iter(trainloader)\n",
        "images, labels = next(dataiter)\n",
        "\n",
        "# show images\n",
        "imshow(torchvision.utils.make_grid(images))\n",
        "# print labels\n",
        "print(' '.join('%5s' % classes[labels[j]] for j in range(4)))"
      ]
    },
    {
      "cell_type": "markdown",
      "metadata": {
        "id": "_pvoMSvXEtpE"
      },
      "source": [
        "Running the above cell should show you a strip of four images, and the\n",
        "correct label for each.\n",
        "\n",
        "Training Your PyTorch Model\n",
        "===========================\n",
        "\n",
        "Follow along with the video beginning at\n",
        "[17:10](https://www.youtube.com/watch?v=IC0_FRiX-sw&t=1030s).\n",
        "\n",
        "Let's put all the pieces together, and train a model:\n"
      ]
    },
    {
      "cell_type": "code",
      "execution_count": 15,
      "metadata": {
        "id": "IxK23yN-EtpE"
      },
      "outputs": [],
      "source": [
        "#%matplotlib inline\n",
        "\n",
        "import torch\n",
        "import torch.nn as nn\n",
        "import torch.nn.functional as F\n",
        "import torch.optim as optim\n",
        "\n",
        "import torchvision\n",
        "import torchvision.transforms as transforms\n",
        "\n",
        "import matplotlib\n",
        "import matplotlib.pyplot as plt\n",
        "import numpy as np"
      ]
    },
    {
      "cell_type": "markdown",
      "metadata": {
        "id": "M4xH2is5EtpF"
      },
      "source": [
        "First, we'll need training and test datasets. If you haven't already,\n",
        "run the cell below to make sure the dataset is downloaded. (It may take\n",
        "a minute.)\n"
      ]
    },
    {
      "cell_type": "code",
      "execution_count": 16,
      "metadata": {
        "colab": {
          "base_uri": "https://localhost:8080/"
        },
        "id": "fgW9LNEFEtpF",
        "outputId": "0d873c3e-da75-4c4c-f175-712da2c4a332"
      },
      "outputs": [
        {
          "output_type": "stream",
          "name": "stdout",
          "text": [
            "Files already downloaded and verified\n",
            "Files already downloaded and verified\n"
          ]
        }
      ],
      "source": [
        "transform = transforms.Compose(\n",
        "    [transforms.ToTensor(),\n",
        "     transforms.Normalize((0.5, 0.5, 0.5), (0.5, 0.5, 0.5))])\n",
        "\n",
        "trainset = torchvision.datasets.CIFAR10(root='./data', train=True,\n",
        "                                        download=True, transform=transform)\n",
        "trainloader = torch.utils.data.DataLoader(trainset, batch_size=4,\n",
        "                                          shuffle=True, num_workers=2)\n",
        "\n",
        "testset = torchvision.datasets.CIFAR10(root='./data', train=False,\n",
        "                                       download=True, transform=transform)\n",
        "testloader = torch.utils.data.DataLoader(testset, batch_size=4,\n",
        "                                         shuffle=False, num_workers=2)\n",
        "\n",
        "classes = ('plane', 'car', 'bird', 'cat',\n",
        "           'deer', 'dog', 'frog', 'horse', 'ship', 'truck')"
      ]
    },
    {
      "cell_type": "markdown",
      "metadata": {
        "id": "WquM7xoyEtpF"
      },
      "source": [
        "We'll run our check on the output from `DataLoader`:\n"
      ]
    },
    {
      "cell_type": "code",
      "execution_count": 17,
      "metadata": {
        "colab": {
          "base_uri": "https://localhost:8080/",
          "height": 211
        },
        "id": "VUFW8J-gEtpF",
        "outputId": "de67644f-9db2-4690-faed-5a2a6e8fe41d"
      },
      "outputs": [
        {
          "output_type": "stream",
          "name": "stdout",
          "text": [
            "  cat   cat  deer  frog\n"
          ]
        },
        {
          "output_type": "display_data",
          "data": {
            "text/plain": [
              "<Figure size 640x480 with 1 Axes>"
            ],
            "image/png": "[encoded data removed]"
          },
          "metadata": {}
        }
      ],
      "source": [
        "import matplotlib.pyplot as plt\n",
        "import numpy as np\n",
        "\n",
        "# functions to show an image\n",
        "\n",
        "\n",
        "def imshow(img):\n",
        "    img = img / 2 + 0.5     # unnormalize\n",
        "    npimg = img.numpy()\n",
        "    plt.imshow(np.transpose(npimg, (1, 2, 0)))\n",
        "\n",
        "\n",
        "# get some random training images\n",
        "dataiter = iter(trainloader)\n",
        "images, labels = next(dataiter)\n",
        "\n",
        "# show images\n",
        "imshow(torchvision.utils.make_grid(images))\n",
        "# print labels\n",
        "print(' '.join('%5s' % classes[labels[j]] for j in range(4)))"
      ]
    },
    {
      "cell_type": "markdown",
      "metadata": {
        "id": "L6RwJI6eEtpF"
      },
      "source": [
        "This is the model we'll train. If it looks familiar, that's because it's\n",
        "a variant of LeNet - discussed earlier in this video - adapted for\n",
        "3-color images.\n"
      ]
    },
    {
      "cell_type": "code",
      "execution_count": 18,
      "metadata": {
        "id": "D6lo6CJzEtpF"
      },
      "outputs": [],
      "source": [
        "class Net(nn.Module):\n",
        "    def __init__(self):\n",
        "        super(Net, self).__init__()\n",
        "        self.conv1 = nn.Conv2d(3, 6, 5)\n",
        "        self.pool = nn.MaxPool2d(2, 2)\n",
        "        self.conv2 = nn.Conv2d(6, 16, 5)\n",
        "        self.fc1 = nn.Linear(16 * 5 * 5, 120)\n",
        "        self.fc2 = nn.Linear(120, 84)\n",
        "        self.fc3 = nn.Linear(84, 10)\n",
        "\n",
        "    def forward(self, x):\n",
        "        x = self.pool(F.relu(self.conv1(x)))\n",
        "        x = self.pool(F.relu(self.conv2(x)))\n",
        "        x = x.view(-1, 16 * 5 * 5)\n",
        "        x = F.relu(self.fc1(x))\n",
        "        x = F.relu(self.fc2(x))\n",
        "        x = self.fc3(x)\n",
        "        return x\n",
        "\n",
        "\n",
        "net = Net()"
      ]
    },
    {
      "cell_type": "markdown",
      "metadata": {
        "id": "_FxBnmz7EtpF"
      },
      "source": [
        "The last ingredients we need are a loss function and an optimizer:\n"
      ]
    },
    {
      "cell_type": "code",
      "execution_count": 19,
      "metadata": {
        "id": "SaFiNZPxEtpF"
      },
      "outputs": [],
      "source": [
        "criterion = nn.CrossEntropyLoss()\n",
        "optimizer = optim.SGD(net.parameters(), lr=0.005, momentum=0.9)"
      ]
    },
    {
      "cell_type": "markdown",
      "metadata": {
        "id": "YQX15CUVEtpF"
      },
      "source": [
        "The loss function, as discussed earlier in this video, is a measure of\n",
        "how far from our ideal output the model's prediction was. Cross-entropy\n",
        "loss is a typical loss function for classification models like ours.\n",
        "\n",
        "The **optimizer** is what drives the learning. Here we have created an\n",
        "optimizer that implements *stochastic gradient descent,* one of the more\n",
        "straightforward optimization algorithms. Besides parameters of the\n",
        "algorithm, like the learning rate (`lr`) and momentum, we also pass in\n",
        "`net.parameters()`, which is a collection of all the learning weights in\n",
        "the model - which is what the optimizer adjusts.\n",
        "\n",
        "Finally, all of this is assembled into the training loop. Go ahead and\n",
        "run this cell, as it will likely take a few minutes to execute:\n"
      ]
    },
    {
      "cell_type": "code",
      "execution_count": 20,
      "metadata": {
        "colab": {
          "base_uri": "https://localhost:8080/"
        },
        "id": "f-dh0jwuEtpF",
        "outputId": "bfbc69da-3d8d-476d-d3c8-28d3d59d50a2"
      },
      "outputs": [
        {
          "output_type": "stream",
          "name": "stdout",
          "text": [
            "[1,  2000] loss: 2.195\n",
            "[1,  4000] loss: 1.876\n",
            "[1,  6000] loss: 1.654\n",
            "[1,  8000] loss: 1.576\n",
            "[1, 10000] loss: 1.517\n",
            "[1, 12000] loss: 1.463\n",
            "[2,  2000] loss: 1.416\n",
            "[2,  4000] loss: 1.376\n",
            "[2,  6000] loss: 1.338\n",
            "[2,  8000] loss: 1.331\n",
            "[2, 10000] loss: 1.317\n",
            "[2, 12000] loss: 1.273\n",
            "Finished Training\n"
          ]
        }
      ],
      "source": [
        "for epoch in range(2):  # loop over the dataset multiple times\n",
        "\n",
        "    running_loss = 0.0\n",
        "    for i, data in enumerate(trainloader, 0):\n",
        "        # get the inputs\n",
        "        inputs, labels = data\n",
        "\n",
        "        # zero the parameter gradients\n",
        "        optimizer.zero_grad()\n",
        "\n",
        "        # forward + backward + optimize\n",
        "        outputs = net(inputs)\n",
        "        loss = criterion(outputs, labels)\n",
        "        loss.backward()\n",
        "        optimizer.step()\n",
        "\n",
        "        # print statistics\n",
        "        running_loss += loss.item()\n",
        "        if i % 2000 == 1999:    # print every 2000 mini-batches\n",
        "            print('[%d, %5d] loss: %.3f' %\n",
        "                  (epoch + 1, i + 1, running_loss / 2000))\n",
        "            running_loss = 0.0\n",
        "\n",
        "print('Finished Training')"
      ]
    },
    {
      "cell_type": "markdown",
      "metadata": {
        "id": "5oaa-yZEEtpK"
      },
      "source": [
        "Here, we are doing only **2 training epochs** (line 1) - that is, two\n",
        "passes over the training dataset. Each pass has an inner loop that\n",
        "**iterates over the training data** (line 4), serving batches of\n",
        "transformed input images and their correct labels.\n",
        "\n",
        "**Zeroing the gradients** (line 9) is an important step. Gradients are\n",
        "accumulated over a batch; if we do not reset them for every batch, they\n",
        "will keep accumulating, which will provide incorrect gradient values,\n",
        "making learning impossible.\n",
        "\n",
        "In line 12, we **ask the model for its predictions** on this batch. In\n",
        "the following line (13), we compute the loss - the difference between\n",
        "`outputs` (the model prediction) and `labels` (the correct output).\n",
        "\n",
        "In line 14, we do the `backward()` pass, and calculate the gradients\n",
        "that will direct the learning.\n",
        "\n",
        "In line 15, the optimizer performs one learning step - it uses the\n",
        "gradients from the `backward()` call to nudge the learning weights in\n",
        "the direction it thinks will reduce the loss.\n",
        "\n",
        "The remainder of the loop does some light reporting on the epoch number,\n",
        "how many training instances have been completed, and what the collected\n",
        "loss is over the training loop.\n",
        "\n",
        "**When you run the cell above,** you should see something like this:\n",
        "\n",
        "``` {.sh}\n",
        "[1,  2000] loss: 2.235\n",
        "[1,  4000] loss: 1.940\n",
        "[1,  6000] loss: 1.713\n",
        "[1,  8000] loss: 1.573\n",
        "[1, 10000] loss: 1.507\n",
        "[1, 12000] loss: 1.442\n",
        "[2,  2000] loss: 1.378\n",
        "[2,  4000] loss: 1.364\n",
        "[2,  6000] loss: 1.349\n",
        "[2,  8000] loss: 1.319\n",
        "[2, 10000] loss: 1.284\n",
        "[2, 12000] loss: 1.267\n",
        "Finished Training\n",
        "```\n",
        "\n",
        "Note that the loss is monotonically descending, indicating that our\n",
        "model is continuing to improve its performance on the training dataset.\n",
        "\n",
        "As a final step, we should check that the model is actually doing\n",
        "*general* learning, and not simply \"memorizing\" the dataset. This is\n",
        "called **overfitting,** and usually indicates that the dataset is too\n",
        "small (not enough examples for general learning), or that the model has\n",
        "more learning parameters than it needs to correctly model the dataset.\n",
        "\n",
        "This is the reason datasets are split into training and test subsets -to\n",
        "test the generality of the model, we ask it to make predictions on data\n",
        "it hasn't trained on:\n"
      ]
    },
    {
      "cell_type": "code",
      "execution_count": 21,
      "metadata": {
        "colab": {
          "base_uri": "https://localhost:8080/"
        },
        "id": "Q_FdcZwrEtpL",
        "outputId": "01db7ae2-40a9-4406-c629-0e5ebd25c428"
      },
      "outputs": [
        {
          "output_type": "stream",
          "name": "stdout",
          "text": [
            "Accuracy of the network on the 10000 test images: 55 %\n"
          ]
        }
      ],
      "source": [
        "correct = 0\n",
        "total = 0\n",
        "with torch.no_grad():\n",
        "    for data in testloader:\n",
        "        images, labels = data\n",
        "        outputs = net(images)\n",
        "        _, predicted = torch.max(outputs.data, 1)\n",
        "        total += labels.size(0)\n",
        "        correct += (predicted == labels).sum().item()\n",
        "\n",
        "print('Accuracy of the network on the 10000 test images: %d %%' % (\n",
        "    100 * correct / total))"
      ]
    },
    {
      "cell_type": "markdown",
      "metadata": {
        "id": "o2iAowgNEtpL"
      },
      "source": [
        "If you followed along, you should see that the model is roughly 50%\n",
        "accurate at this point. That's not exactly state-of-the-art, but it's\n",
        "far better than the 10% accuracy we'd expect from a random output. This\n",
        "demonstrates that some general learning did happen in the model.\n"
      ]
    },
    {
      "cell_type": "code",
      "execution_count": 22,
      "metadata": {
        "id": "_Uyzcn7gSgIM"
      },
      "outputs": [],
      "source": [
        "# For tips on running notebooks in Google Colab, see\n",
        "# https://pytorch.org/tutorials/beginner/colab\n",
        "%matplotlib inline"
      ]
    },
    {
      "cell_type": "markdown",
      "metadata": {
        "id": "-ZjimGIsSgIN"
      },
      "source": [
        "[Introduction](introyt1_tutorial.html) \\|\\| **Tensors** \\|\\|\n",
        "[Autograd](autogradyt_tutorial.html) \\|\\| [Building\n",
        "Models](modelsyt_tutorial.html) \\|\\| [TensorBoard\n",
        "Support](tensorboardyt_tutorial.html) \\|\\| [Training\n",
        "Models](trainingyt.html) \\|\\| [Model Understanding](captumyt.html)\n",
        "\n",
        "Introduction to PyTorch Tensors\n",
        "===============================\n",
        "\n",
        "Follow along with the video below or on\n",
        "[youtube](https://www.youtube.com/watch?v=r7QDUPb2dCM).\n",
        "\n",
        "``` {.python .jupyter-code-cell}\n",
        "from IPython.display import display, HTML\n",
        "html_code = \"\"\"\n",
        "<div style=\"margin-top:10px; margin-bottom:10px;\">\n",
        "  <iframe width=\"560\" height=\"315\" src=\"https://www.youtube.com/embed/r7QDUPb2dCM\" frameborder=\"0\" allow=\"accelerometer; encrypted-media; gyroscope; picture-in-picture\" allowfullscreen></iframe>\n",
        "</div>\n",
        "\"\"\"\n",
        "display(HTML(html_code))\n",
        "```\n",
        "\n",
        "Tensors are the central data abstraction in PyTorch. This interactive\n",
        "notebook provides an in-depth introduction to the `torch.Tensor` class.\n",
        "\n",
        "First things first, let's import the PyTorch module. We'll also add\n",
        "Python's math module to facilitate some of the examples.\n"
      ]
    },
    {
      "cell_type": "code",
      "execution_count": 23,
      "metadata": {
        "id": "MgSwN34USgIO"
      },
      "outputs": [],
      "source": [
        "import torch\n",
        "import math"
      ]
    },
    {
      "cell_type": "markdown",
      "metadata": {
        "id": "kRLlEHjZSgIO"
      },
      "source": [
        "Creating Tensors\n",
        "================\n",
        "\n",
        "The simplest way to create a tensor is with the `torch.empty()` call:\n"
      ]
    },
    {
      "cell_type": "code",
      "execution_count": 24,
      "metadata": {
        "colab": {
          "base_uri": "https://localhost:8080/"
        },
        "id": "HNRmP58YSgIO",
        "outputId": "ad4a2272-11fe-49be-9708-2a9b5c577b94"
      },
      "outputs": [
        {
          "output_type": "stream",
          "name": "stdout",
          "text": [
            "<class 'torch.Tensor'>\n",
            "tensor([[1.6211e-32, 0.0000e+00, 9.2825e-33, 0.0000e+00],\n",
            "        [3.1840e-36, 0.0000e+00, 0.0000e+00, 0.0000e+00],\n",
            "        [1.2859e-32, 0.0000e+00, 1.6664e+13, 4.5572e-41]])\n"
          ]
        }
      ],
      "source": [
        "x = torch.empty(3, 4)\n",
        "print(type(x))\n",
        "print(x)"
      ]
    },
    {
      "cell_type": "markdown",
      "metadata": {
        "id": "6hrt_6x5SgIO"
      },
      "source": [
        "Let's upack what we just did:\n",
        "\n",
        "-   We created a tensor using one of the numerous factory methods\n",
        "    attached to the `torch` module.\n",
        "-   The tensor itself is 2-dimensional, having 3 rows and 4 columns.\n",
        "-   The type of the object returned is `torch.Tensor`, which is an alias\n",
        "    for `torch.FloatTensor`; by default, PyTorch tensors are populated\n",
        "    with 32-bit floating point numbers. (More on data types below.)\n",
        "-   You will probably see some random-looking values when printing your\n",
        "    tensor. The `torch.empty()` call allocates memory for the tensor,\n",
        "    but does not initialize it with any values - so what you're seeing\n",
        "    is whatever was in memory at the time of allocation.\n",
        "\n",
        "A brief note about tensors and their number of dimensions, and\n",
        "terminology:\n",
        "\n",
        "-   You will sometimes see a 1-dimensional tensor called a *vector.*\n",
        "-   Likewise, a 2-dimensional tensor is often referred to as a *matrix.*\n",
        "-   Anything with more than two dimensions is generally just called a\n",
        "    tensor.\n",
        "\n",
        "More often than not, you'll want to initialize your tensor with some\n",
        "value. Common cases are all zeros, all ones, or random values, and the\n",
        "`torch` module provides factory methods for all of these:\n"
      ]
    },
    {
      "cell_type": "code",
      "execution_count": 25,
      "metadata": {
        "colab": {
          "base_uri": "https://localhost:8080/"
        },
        "id": "wAaPjEcCSgIP",
        "outputId": "7f38a02f-72be-4d2b-d592-af3f7b7deb74"
      },
      "outputs": [
        {
          "output_type": "stream",
          "name": "stdout",
          "text": [
            "tensor([[0., 0., 0.],\n",
            "        [0., 0., 0.]])\n",
            "tensor([[1., 1., 1.],\n",
            "        [1., 1., 1.]])\n",
            "tensor([[0.3126, 0.3791, 0.3087],\n",
            "        [0.0736, 0.4216, 0.0691]])\n"
          ]
        }
      ],
      "source": [
        "zeros = torch.zeros(2, 3)\n",
        "print(zeros)\n",
        "\n",
        "ones = torch.ones(2, 3)\n",
        "print(ones)\n",
        "\n",
        "torch.manual_seed(1729)\n",
        "random = torch.rand(2, 3)\n",
        "print(random)"
      ]
    },
    {
      "cell_type": "markdown",
      "metadata": {
        "id": "WJ5Eqkg_SgIP"
      },
      "source": [
        "The fctory methods all do just what you'd expect - we have a tensor full\n",
        "of zeros, another full of ones, and another with random values between 0\n",
        "and 1.\n",
        "\n",
        "Random Tensors and Seeding\n",
        "==========================\n",
        "\n",
        "Speaking of the random tensor, did you notice the call to\n",
        "`torch.manual_seed()` immediately preceding it? Initializing tensors,\n",
        "such as a model's learning weights, with random values is common but\n",
        "there are times - especially in research settings - where you'll want\n",
        "some assurance of the reproducibility of your results. Manually setting\n",
        "your random number generator's seed is the way to do this. Let's look\n",
        "more closely:\n"
      ]
    },
    {
      "cell_type": "code",
      "execution_count": 26,
      "metadata": {
        "colab": {
          "base_uri": "https://localhost:8080/"
        },
        "id": "X--wBfhlSgIP",
        "outputId": "0e947a59-b308-4311-d4d1-de54a68ea146"
      },
      "outputs": [
        {
          "output_type": "stream",
          "name": "stdout",
          "text": [
            "tensor([[0.3126, 0.3791, 0.3087],\n",
            "        [0.0736, 0.4216, 0.0691]])\n",
            "tensor([[0.2332, 0.4047, 0.2162],\n",
            "        [0.9927, 0.4128, 0.5938]])\n",
            "tensor([[0.3126, 0.3791, 0.3087],\n",
            "        [0.0736, 0.4216, 0.0691]])\n",
            "tensor([[0.2332, 0.4047, 0.2162],\n",
            "        [0.9927, 0.4128, 0.5938]])\n"
          ]
        }
      ],
      "source": [
        "torch.manual_seed(1729)\n",
        "random1 = torch.rand(2, 3)\n",
        "print(random1)\n",
        "\n",
        "random2 = torch.rand(2, 3)\n",
        "print(random2)\n",
        "\n",
        "torch.manual_seed(1729)\n",
        "random3 = torch.rand(2, 3)\n",
        "print(random3)\n",
        "\n",
        "random4 = torch.rand(2, 3)\n",
        "print(random4)"
      ]
    },
    {
      "cell_type": "markdown",
      "metadata": {
        "id": "53c8WKIKSgIP"
      },
      "source": [
        "What you should see above is that `random1` and `random3` carry\n",
        "identical values, as do `random2` and `random4`. Manually setting the\n",
        "RNG's seed resets it, so that identical computations depending on random\n",
        "number should, in most settings, provide identical results.\n",
        "\n",
        "For more information, see the [PyTorch documentation on\n",
        "reproducibility](https://pytorch.org/docs/stable/notes/randomness.html).\n",
        "\n",
        "Tensor Shapes\n",
        "=============\n",
        "\n",
        "Often, when you're performing operations on two or more tensors, they\n",
        "will need to be of the same *shape* - that is, having the same number of\n",
        "dimensions and the same number of cells in each dimension. For that, we\n",
        "have the `torch.*_like()` methods:\n"
      ]
    },
    {
      "cell_type": "code",
      "execution_count": 27,
      "metadata": {
        "colab": {
          "base_uri": "https://localhost:8080/"
        },
        "id": "by7dgBbaSgIP",
        "outputId": "d8a88b2f-9983-4054-e107-b8706bb573a5"
      },
      "outputs": [
        {
          "output_type": "stream",
          "name": "stdout",
          "text": [
            "torch.Size([2, 2, 3])\n",
            "tensor([[[6.7696e-33, 0.0000e+00, 0.0000e+00],\n",
            "         [1.4013e-45, 8.9683e-44, 0.0000e+00]],\n",
            "\n",
            "        [[1.1210e-43, 0.0000e+00, 1.4441e-33],\n",
            "         [0.0000e+00, 5.2360e-33, 0.0000e+00]]])\n",
            "torch.Size([2, 2, 3])\n",
            "tensor([[[-4.3854e-17,  4.5572e-41,  1.8545e-33],\n",
            "         [ 0.0000e+00,  4.4842e-44,  0.0000e+00]],\n",
            "\n",
            "        [[ 1.5695e-43,  0.0000e+00,  1.8597e-33],\n",
            "         [ 0.0000e+00,  1.4013e-45,  0.0000e+00]]])\n",
            "torch.Size([2, 2, 3])\n",
            "tensor([[[0., 0., 0.],\n",
            "         [0., 0., 0.]],\n",
            "\n",
            "        [[0., 0., 0.],\n",
            "         [0., 0., 0.]]])\n",
            "torch.Size([2, 2, 3])\n",
            "tensor([[[1., 1., 1.],\n",
            "         [1., 1., 1.]],\n",
            "\n",
            "        [[1., 1., 1.],\n",
            "         [1., 1., 1.]]])\n",
            "torch.Size([2, 2, 3])\n",
            "tensor([[[0.6128, 0.1519, 0.0453],\n",
            "         [0.5035, 0.9978, 0.3884]],\n",
            "\n",
            "        [[0.6929, 0.1703, 0.1384],\n",
            "         [0.4759, 0.7481, 0.0361]]])\n"
          ]
        }
      ],
      "source": [
        "x = torch.empty(2, 2, 3)\n",
        "print(x.shape)\n",
        "print(x)\n",
        "\n",
        "empty_like_x = torch.empty_like(x)\n",
        "print(empty_like_x.shape)\n",
        "print(empty_like_x)\n",
        "\n",
        "zeros_like_x = torch.zeros_like(x)\n",
        "print(zeros_like_x.shape)\n",
        "print(zeros_like_x)\n",
        "\n",
        "ones_like_x = torch.ones_like(x)\n",
        "print(ones_like_x.shape)\n",
        "print(ones_like_x)\n",
        "\n",
        "rand_like_x = torch.rand_like(x)\n",
        "print(rand_like_x.shape)\n",
        "print(rand_like_x)"
      ]
    },
    {
      "cell_type": "markdown",
      "metadata": {
        "id": "HrytyNT7SgIP"
      },
      "source": [
        "The first new thing in the code cell above is the use of the `.shape`\n",
        "property on a tensor. This property contains a list of the extent of\n",
        "each dimension of a tensor - in our case, `x` is a three-dimensional\n",
        "tensor with shape 2 x 2 x 3.\n",
        "\n",
        "Below that, we call the `.empty_like()`, `.zeros_like()`,\n",
        "`.ones_like()`, and `.rand_like()` methods. Using the `.shape` property,\n",
        "we can verify that each of these methods returns a tensor of identical\n",
        "dimensionality and extent.\n",
        "\n",
        "The last way to create a tensor that will cover is to specify its data\n",
        "directly from a PyTorch collection:\n"
      ]
    },
    {
      "cell_type": "code",
      "execution_count": 28,
      "metadata": {
        "colab": {
          "base_uri": "https://localhost:8080/"
        },
        "id": "f3RS3nUASgIP",
        "outputId": "2e0ff945-9cec-4ac5-c62d-c4f9fbcf642f"
      },
      "outputs": [
        {
          "output_type": "stream",
          "name": "stdout",
          "text": [
            "tensor([[3.1416, 2.7183],\n",
            "        [1.6180, 0.0073]])\n",
            "tensor([ 2,  3,  5,  7, 11, 13, 17, 19])\n",
            "tensor([[2, 4, 6],\n",
            "        [3, 6, 9]])\n"
          ]
        }
      ],
      "source": [
        "some_constants = torch.tensor([[3.1415926, 2.71828], [1.61803, 0.0072897]])\n",
        "print(some_constants)\n",
        "\n",
        "some_integers = torch.tensor((2, 3, 5, 5, 11, 13, 17, 19))\n",
        "print(some_integers)\n",
        "\n",
        "more_integers = torch.tensor(((2, 4, 6), [3, 6, 9]))\n",
        "print(more_integers)"
      ]
    },
    {
      "cell_type": "markdown",
      "metadata": {
        "id": "0HC54U1USgIP"
      },
      "source": [
        "Using `torch.tensor()` is the most straightforward way to create a\n",
        "tensor if you already have data in a Python tuple or list. As shown\n",
        "above, nesting the collections will result in a multi-dimensional\n",
        "tensor.\n",
        "\n",
        "<div style=\"background-color: #54c7ec; color: #fff; font-weight: 700; padding-left: 10px; padding-top: 5px; padding-bottom: 5px\"><strong>NOTE:</strong></div>\n",
        "\n",
        "<div style=\"background-color: #f3f4f7; padding-left: 10px; padding-top: 10px; padding-bottom: 10px; padding-right: 10px\">\n",
        "\n",
        "<p><code>torch.tensor()</code> creates a copy of the data.</p>\n",
        "\n",
        "</div>\n",
        "\n",
        "Tensor Data Types\n",
        "=================\n",
        "\n",
        "Setting the datatype of a tensor is possible a couple of ways:\n"
      ]
    },
    {
      "cell_type": "code",
      "execution_count": 29,
      "metadata": {
        "colab": {
          "base_uri": "https://localhost:8080/"
        },
        "id": "xkwBbY3ASgIQ",
        "outputId": "92532377-9881-4902-b5c5-4493284e9223"
      },
      "outputs": [
        {
          "output_type": "stream",
          "name": "stdout",
          "text": [
            "tensor([[1, 1, 1],\n",
            "        [1, 1, 1]], dtype=torch.int16)\n",
            "tensor([[ 0.9956,  1.4148,  5.8364],\n",
            "        [11.2406, 11.2083, 11.6692]], dtype=torch.float64)\n",
            "tensor([[ 0,  1,  5],\n",
            "        [11, 11, 11]], dtype=torch.int32)\n"
          ]
        }
      ],
      "source": [
        "a = torch.ones((2, 3), dtype=torch.int16)\n",
        "print(a)\n",
        "\n",
        "b = torch.rand((2, 3), dtype=torch.float64) * 20.\n",
        "print(b)\n",
        "\n",
        "c = b.to(torch.int32)\n",
        "print(c)"
      ]
    },
    {
      "cell_type": "markdown",
      "metadata": {
        "id": "lSS4jmHISgIQ"
      },
      "source": [
        "The simplest way to set the underlying data type of a tensor is with an\n",
        "optional argument at creation time. In the first line of the cell above,\n",
        "we set `dtype=torch.int16` for the tensor `a`. When we print `a`, we can\n",
        "see that it's full of `1` rather than `1.` - Python's subtle cue that\n",
        "this is an integer type rather than floating point.\n",
        "\n",
        "Another thing to notice about printing `a` is that, unlike when we left\n",
        "`dtype` as the default (32-bit floating point), printing the tensor also\n",
        "specifies its `dtype`.\n",
        "\n",
        "You may have also spotted that we went from specifying the tensor's\n",
        "shape as a series of integer arguments, to grouping those arguments in a\n",
        "tuple. This is not strictly necessary - PyTorch will take a series of\n",
        "initial, unlabeled integer arguments as a tensor shape - but when adding\n",
        "the optional arguments, it can make your intent more readable.\n",
        "\n",
        "The other way to set the datatype is with the `.to()` method. In the\n",
        "cell above, we create a random floating point tensor `b` in the usual\n",
        "way. Following that, we create `c` by converting `b` to a 32-bit integer\n",
        "with the `.to()` method. Note that `c` contains all the same values as\n",
        "`b`, but truncated to integers.\n",
        "\n",
        "For more information, see the [data types\n",
        "documentation](https://pytorch.org/docs/stable/tensor_attributes.html#torch.dtype).\n",
        "\n",
        "Math & Logic with PyTorch Tensors\n",
        "=================================\n",
        "\n",
        "Now that you know some of the ways to create a tensor... what can you do\n",
        "with them?\n",
        "\n",
        "Let's look at basic arithmetic first, and how tensors interact with\n",
        "simple scalars:\n"
      ]
    },
    {
      "cell_type": "code",
      "execution_count": 30,
      "metadata": {
        "colab": {
          "base_uri": "https://localhost:8080/"
        },
        "id": "W4eLkQXrSgIQ",
        "outputId": "842d0fc1-7e74-4261-8398-9f1b1e2dea2e"
      },
      "outputs": [
        {
          "output_type": "stream",
          "name": "stdout",
          "text": [
            "tensor([[1., 1.],\n",
            "        [1., 1.]])\n",
            "tensor([[2., 2.],\n",
            "        [2., 2.]])\n",
            "tensor([[3., 3.],\n",
            "        [3., 3.]])\n",
            "tensor([[4., 4.],\n",
            "        [4., 4.]])\n",
            "tensor([[1.4142, 1.4142],\n",
            "        [1.4142, 1.4142]])\n"
          ]
        }
      ],
      "source": [
        "ones = torch.zeros(2, 2) + 1\n",
        "twos = torch.ones(2, 2) * 2\n",
        "threes = (torch.ones(2, 2) * 7 - 1) / 2\n",
        "fours = twos ** 2\n",
        "sqrt2s = twos ** 0.5\n",
        "\n",
        "print(ones)\n",
        "print(twos)\n",
        "print(threes)\n",
        "print(fours)\n",
        "print(sqrt2s)"
      ]
    },
    {
      "cell_type": "markdown",
      "metadata": {
        "id": "07eO2MYeSgIQ"
      },
      "source": [
        "As you can see above, arithmetic operations between tensors and scalars,\n",
        "such as addition, subtraction, multiplication, division, and\n",
        "exponentiation are distributed over every element of the tensor. Because\n",
        "the output of such an operation will be a tensor, you can chain them\n",
        "together with the usual operator precedence rules, as in the line where\n",
        "we create `threes`.\n",
        "\n",
        "Similar operations between two tensors also behave like you'd\n",
        "intuitively expect:\n"
      ]
    },
    {
      "cell_type": "code",
      "execution_count": 31,
      "metadata": {
        "colab": {
          "base_uri": "https://localhost:8080/"
        },
        "id": "97L07PTQSgIQ",
        "outputId": "5b9e3cca-5207-43dc-e767-dafdbe68c932"
      },
      "outputs": [
        {
          "output_type": "stream",
          "name": "stdout",
          "text": [
            "tensor([[ 2.,  4.],\n",
            "        [ 8., 16.]])\n",
            "tensor([[5., 5.],\n",
            "        [5., 5.]])\n",
            "tensor([[12., 12.],\n",
            "        [12., 12.]])\n"
          ]
        }
      ],
      "source": [
        "powers2 = twos ** torch.tensor([[1, 2], [3, 4]])\n",
        "print(powers2)\n",
        "\n",
        "fives = ones + fours\n",
        "print(fives)\n",
        "\n",
        "dozens = threes * fours\n",
        "print(dozens)"
      ]
    },
    {
      "cell_type": "markdown",
      "metadata": {
        "id": "VwqKTzGTSgIQ"
      },
      "source": [
        "It's important to note here that all of the tensors in the previous code\n",
        "cell were of identical shape. What happens when we try to perform a\n",
        "binary operation on tensors if dissimilar shape?\n",
        "\n",
        "<div style=\"background-color: #54c7ec; color: #fff; font-weight: 700; padding-left: 10px; padding-top: 5px; padding-bottom: 5px\"><strong>NOTE:</strong></div>\n",
        "\n",
        "<div style=\"background-color: #f3f4f7; padding-left: 10px; padding-top: 10px; padding-bottom: 10px; padding-right: 10px\">\n",
        "\n",
        "<p>The following cell throws a run-time error. This is intentional.<pre><code>a = torch.rand(2, 3)\n",
        "b = torch.rand(3, 2)</p>\n",
        "<p>print(a * b)</code></pre></p>\n",
        "\n",
        "</div>\n",
        "\n"
      ]
    },
    {
      "cell_type": "markdown",
      "metadata": {
        "id": "sQESD1VASgIQ"
      },
      "source": [
        "In the general case, you cannot operate on tensors of different shape\n",
        "this way, even in a case like the cell above, where the tensors have an\n",
        "identical number of elements.\n",
        "\n",
        "In Brief: Tensor Broadcasting\n",
        "=============================\n",
        "\n",
        "<div style=\"background-color: #54c7ec; color: #fff; font-weight: 700; padding-left: 10px; padding-top: 5px; padding-bottom: 5px\"><strong>NOTE:</strong></div>\n",
        "\n",
        "<div style=\"background-color: #f3f4f7; padding-left: 10px; padding-top: 10px; padding-bottom: 10px; padding-right: 10px\">\n",
        "\n",
        "<p>If you are familiar with broadcasting semantics in NumPyndarrays, you’ll find the same rules apply here.</p>\n",
        "\n",
        "</div>\n",
        "\n",
        "The exception to the same-shapes rule is *tensor broadcasting.* Here's\n",
        "an example:\n"
      ]
    },
    {
      "cell_type": "code",
      "execution_count": 32,
      "metadata": {
        "colab": {
          "base_uri": "https://localhost:8080/"
        },
        "id": "mKkt9tDzSgIR",
        "outputId": "67acacde-70c1-4b93-c1c4-957b0bfa8ec7"
      },
      "outputs": [
        {
          "output_type": "stream",
          "name": "stdout",
          "text": [
            "tensor([[0.6146, 0.5999, 0.5013, 0.9397],\n",
            "        [0.8656, 0.5207, 0.6865, 0.3614]])\n",
            "tensor([[1.2291, 1.1998, 1.0026, 1.8793],\n",
            "        [1.7312, 1.0413, 1.3730, 0.7228]])\n"
          ]
        }
      ],
      "source": [
        "rand = torch.rand(2, 4)\n",
        "doubled = rand * (torch.ones(1, 4) * 2)\n",
        "\n",
        "print(rand)\n",
        "print(doubled)"
      ]
    },
    {
      "cell_type": "markdown",
      "metadata": {
        "id": "f2KLTBbKSgIR"
      },
      "source": [
        "What's the trick here? How is it we got to multiply a 2x4 tensor by a\n",
        "1x4 tensor?\n",
        "\n",
        "Broadcasting is a way to perform an operation between tensors that have\n",
        "similarities in their shapes. In the example above, the one-row,\n",
        "four-column tensor is multiplied by *both rows* of the two-row,\n",
        "four-column tensor.\n",
        "\n",
        "This is an important operation in Deep Learning. The common example is\n",
        "multiplying a tensor of learning weights by a *batch* of input tensors,\n",
        "applying the operation to each instance in the batch separately, and\n",
        "returning a tensor of identical shape - just like our (2, 4) \\* (1, 4)\n",
        "example above returned a tensor of shape (2, 4).\n",
        "\n",
        "The rules for broadcasting are:\n",
        "\n",
        "-   Each tensor must have at least one dimension - no empty tensors.\n",
        "-   Comparing the dimension sizes of the two tensors, *going from last\n",
        "    to first:*\n",
        "    -   Each dimension must be equal, *or*\n",
        "    -   One of the dimensions must be of size 1, *or*\n",
        "    -   The dimension does not exist in one of the tensors\n",
        "\n",
        "Tensors of identical shape, of course, are trivially \"broadcastable\", as\n",
        "you saw earlier.\n",
        "\n",
        "Here are some examples of situations that honor the above rules and\n",
        "allow broadcasting:\n"
      ]
    },
    {
      "cell_type": "code",
      "execution_count": 33,
      "metadata": {
        "colab": {
          "base_uri": "https://localhost:8080/"
        },
        "id": "u-vGALw6SgIR",
        "outputId": "02e0d8b8-4d8c-4382-8cbb-4b2ed7a70056"
      },
      "outputs": [
        {
          "output_type": "stream",
          "name": "stdout",
          "text": [
            "tensor([[[0.6493, 0.2633],\n",
            "         [0.4762, 0.0548],\n",
            "         [0.2024, 0.5731]],\n",
            "\n",
            "        [[0.6493, 0.2633],\n",
            "         [0.4762, 0.0548],\n",
            "         [0.2024, 0.5731]],\n",
            "\n",
            "        [[0.6493, 0.2633],\n",
            "         [0.4762, 0.0548],\n",
            "         [0.2024, 0.5731]],\n",
            "\n",
            "        [[0.6493, 0.2633],\n",
            "         [0.4762, 0.0548],\n",
            "         [0.2024, 0.5731]]])\n",
            "tensor([[[0.7191, 0.7191],\n",
            "         [0.4067, 0.4067],\n",
            "         [0.7301, 0.7301]],\n",
            "\n",
            "        [[0.7191, 0.7191],\n",
            "         [0.4067, 0.4067],\n",
            "         [0.7301, 0.7301]],\n",
            "\n",
            "        [[0.7191, 0.7191],\n",
            "         [0.4067, 0.4067],\n",
            "         [0.7301, 0.7301]],\n",
            "\n",
            "        [[0.7191, 0.7191],\n",
            "         [0.4067, 0.4067],\n",
            "         [0.7301, 0.7301]]])\n",
            "tensor([[[0.6276, 0.7357],\n",
            "         [0.6276, 0.7357],\n",
            "         [0.6276, 0.7357]],\n",
            "\n",
            "        [[0.6276, 0.7357],\n",
            "         [0.6276, 0.7357],\n",
            "         [0.6276, 0.7357]],\n",
            "\n",
            "        [[0.6276, 0.7357],\n",
            "         [0.6276, 0.7357],\n",
            "         [0.6276, 0.7357]],\n",
            "\n",
            "        [[0.6276, 0.7357],\n",
            "         [0.6276, 0.7357],\n",
            "         [0.6276, 0.7357]]])\n"
          ]
        }
      ],
      "source": [
        "a =     torch.ones(4, 3, 2)\n",
        "\n",
        "b = a * torch.rand(   3, 2) # 3rd & 2nd dims identical to a, dim 1 absent\n",
        "print(b)\n",
        "\n",
        "c = a * torch.rand(   3, 1) # 3rd dim = 1, 2nd dim identical to a\n",
        "print(c)\n",
        "\n",
        "d = a * torch.rand(   1, 2) # 3rd dim identical to a, 2nd dim = 1\n",
        "print(d)"
      ]
    },
    {
      "cell_type": "markdown",
      "metadata": {
        "id": "b5O0qI9sSgIR"
      },
      "source": [
        "Look closely at the values of each tensor above:\n",
        "\n",
        "-   The multiplication operation that created `b` was broadcast over\n",
        "    every \"layer\" of `a`.\n",
        "-   For `c`, the operation was broadcast over every layer and row of\n",
        "    `a` - every 3-element column is identical.\n",
        "-   For `d`, we switched it around - now every *row* is identical,\n",
        "    across layers and columns.\n",
        "\n",
        "For more information on broadcasting, see the [PyTorch\n",
        "documentation](https://pytorch.org/docs/stable/notes/broadcasting.html)\n",
        "on the topic.\n",
        "\n",
        "Here are some examples of attempts at broadcasting that will fail:\n",
        "\n",
        "<div style=\"background-color: #54c7ec; color: #fff; font-weight: 700; padding-left: 10px; padding-top: 5px; padding-bottom: 5px\"><strong>NOTE:</strong></div>\n",
        "\n",
        "<div style=\"background-color: #f3f4f7; padding-left: 10px; padding-top: 10px; padding-bottom: 10px; padding-right: 10px\">\n",
        "\n",
        "<p>The following cell throws a run-time error. This is intentional.<pre><code>a =     torch.ones(4, 3, 2)</p>\n",
        "<p>b = a * torch.rand(4, 3)    # dimensions must match last-to-first</p>\n",
        "<p>c = a * torch.rand(   2, 3) # both 3rd &amp; 2nd dims different</p>\n",
        "<p>d = a * torch.rand((0, ))   # can&#x27;t broadcast with an empty tensor</code></pre></p>\n",
        "\n",
        "</div>\n",
        "\n"
      ]
    },
    {
      "cell_type": "markdown",
      "metadata": {
        "id": "bMWrCM-vSgIR"
      },
      "source": [
        "More Math with Tensors\n",
        "======================\n",
        "\n",
        "PyTorch tensors have over three hundred operations that can be performed\n",
        "on them.\n",
        "\n",
        "Here is a small sample from some of the major categories of operations:\n"
      ]
    },
    {
      "cell_type": "code",
      "execution_count": 34,
      "metadata": {
        "colab": {
          "base_uri": "https://localhost:8080/"
        },
        "id": "cjF2J-vsSgIR",
        "outputId": "da28788d-cd9c-48f8-cd4b-0f647b80e2c3"
      },
      "outputs": [
        {
          "output_type": "stream",
          "name": "stdout",
          "text": [
            "Common functions:\n",
            "tensor([[0.9238, 0.5724, 0.0791, 0.2629],\n",
            "        [0.1986, 0.4439, 0.6434, 0.4776]])\n",
            "tensor([[-0., -0., 1., -0.],\n",
            "        [-0., 1., 1., -0.]])\n",
            "tensor([[-1., -1.,  0., -1.],\n",
            "        [-1.,  0.,  0., -1.]])\n",
            "tensor([[-0.5000, -0.5000,  0.0791, -0.2629],\n",
            "        [-0.1986,  0.4439,  0.5000, -0.4776]])\n",
            "\n",
            "Sine and arcsine:\n",
            "tensor([0.0000, 0.7854, 1.5708, 2.3562])\n",
            "tensor([0.0000, 0.7071, 1.0000, 0.7071])\n",
            "tensor([0.0000, 0.7854, 1.5708, 0.7854])\n",
            "\n",
            "Bitwise XOR:\n",
            "tensor([3, 2, 1])\n",
            "\n",
            "Broadcasted, element-wise equality comparison:\n",
            "tensor([[ True, False],\n",
            "        [False, False]])\n",
            "\n",
            "Reduction ops:\n",
            "tensor(4.)\n",
            "4.0\n",
            "tensor(2.5000)\n",
            "tensor(1.2910)\n",
            "tensor(24.)\n",
            "tensor([1, 2])\n",
            "\n",
            "Vectors & Matrices:\n",
            "tensor([ 0.,  0., -1.])\n",
            "tensor([[0.7375, 0.8328],\n",
            "        [0.8444, 0.2941]])\n",
            "tensor([[2.2125, 2.4985],\n",
            "        [2.5332, 0.8822]])\n",
            "torch.return_types.linalg_svd(\n",
            "U=tensor([[-0.7889, -0.6145],\n",
            "        [-0.6145,  0.7889]]),\n",
            "S=tensor([4.1498, 1.0548]),\n",
            "Vh=tensor([[-0.7957, -0.6056],\n",
            "        [ 0.6056, -0.7957]]))\n"
          ]
        }
      ],
      "source": [
        "# common functions\n",
        "a = torch.rand(2, 4) * 2 - 1\n",
        "print('Common functions:')\n",
        "print(torch.abs(a))\n",
        "print(torch.ceil(a))\n",
        "print(torch.floor(a))\n",
        "print(torch.clamp(a, -0.5, 0.5))\n",
        "\n",
        "# trigonometric functions and their inverses\n",
        "angles = torch.tensor([0, math.pi / 4, math.pi / 2, 3 * math.pi / 4])\n",
        "sines = torch.sin(angles)\n",
        "inverses = torch.asin(sines)\n",
        "print('\\nSine and arcsine:')\n",
        "print(angles)\n",
        "print(sines)\n",
        "print(inverses)\n",
        "\n",
        "# bitwise operations\n",
        "print('\\nBitwise XOR:')\n",
        "b = torch.tensor([1, 5, 11])\n",
        "c = torch.tensor([2, 7, 10])\n",
        "print(torch.bitwise_xor(b, c))\n",
        "\n",
        "# comparisons:\n",
        "print('\\nBroadcasted, element-wise equality comparison:')\n",
        "d = torch.tensor([[1., 2.], [3., 4.]])\n",
        "e = torch.ones(1, 2)  # many comparison ops support broadcasting!\n",
        "print(torch.eq(d, e)) # returns a tensor of type bool\n",
        "\n",
        "# reductions:\n",
        "print('\\nReduction ops:')\n",
        "print(torch.max(d))        # returns a single-element tensor\n",
        "print(torch.max(d).item()) # extracts the value from the returned tensor\n",
        "print(torch.mean(d))       # average\n",
        "print(torch.std(d))        # standard deviation\n",
        "print(torch.prod(d))       # product of all numbers\n",
        "print(torch.unique(torch.tensor([1, 2, 1, 2, 1, 2]))) # filter unique elements\n",
        "\n",
        "# vector and linear algebra operations\n",
        "v1 = torch.tensor([1., 0., 0.])         # x unit vector\n",
        "v2 = torch.tensor([0., 1., 0.])         # y unit vector\n",
        "m1 = torch.rand(2, 2)                   # random matrix\n",
        "m2 = torch.tensor([[3., 0.], [0., 3.]]) # three times identity matrix\n",
        "\n",
        "print('\\nVectors & Matrices:')\n",
        "print(torch.linalg.cross(v2, v1)) # negative of z unit vector (v1 x v2 == -v2 x v1)\n",
        "print(m1)\n",
        "m3 = torch.linalg.matmul(m1, m2)\n",
        "print(m3)                  # 3 times m1\n",
        "print(torch.linalg.svd(m3))       # singular value decomposition"
      ]
    },
    {
      "cell_type": "markdown",
      "metadata": {
        "id": "lZvlC-QDSgIR"
      },
      "source": [
        "This is a small sample of operations. For more details and the full\n",
        "inventory of math functions, have a look at the\n",
        "[documentation](https://pytorch.org/docs/stable/torch.html#math-operations).\n",
        "For more details and the full inventory of linear algebra operations,\n",
        "have a look at this\n",
        "[documentation](https://pytorch.org/docs/stable/linalg.html).\n",
        "\n",
        "Altering Tensors in Place\n",
        "=========================\n",
        "\n",
        "Most binary operations on tensors will return a third, new tensor. When\n",
        "we say `c = a * b` (where `a` and `b` are tensors), the new tensor `c`\n",
        "will occupy a region of memory distinct from the other tensors.\n",
        "\n",
        "There are times, though, that you may wish to alter a tensor in place\n",
        "-for example, if you're doing an element-wise computation where you can\n",
        "discard intermediate values. For this, most of the math functions have a\n",
        "version with an appended underscore (`_`) that will alter a tensor in\n",
        "place.\n",
        "\n",
        "For example:\n"
      ]
    },
    {
      "cell_type": "code",
      "execution_count": 35,
      "metadata": {
        "colab": {
          "base_uri": "https://localhost:8080/"
        },
        "id": "DthquPyoSgIR",
        "outputId": "1e8a2790-867f-4337-9b9d-bb60350c9e5b"
      },
      "outputs": [
        {
          "output_type": "stream",
          "name": "stdout",
          "text": [
            "a:\n",
            "tensor([0.0000, 0.7854, 1.5708, 2.3562])\n",
            "tensor([0.0000, 0.7071, 1.0000, 0.7071])\n",
            "tensor([0.0000, 0.7854, 1.5708, 2.3562])\n",
            "\n",
            "b:\n",
            "tensor([0.0000, 0.7854, 1.5708, 2.3562])\n",
            "tensor([0.0000, 0.7071, 1.0000, 0.7071])\n",
            "tensor([0.0000, 0.7071, 1.0000, 0.7071])\n"
          ]
        }
      ],
      "source": [
        "a = torch.tensor([0, math.pi / 4, math.pi / 2, 3 * math.pi / 4])\n",
        "print('a:')\n",
        "print(a)\n",
        "print(torch.sin(a))   # this operation creates a new tensor in memory\n",
        "print(a)              # a has not changed\n",
        "\n",
        "b = torch.tensor([0, math.pi / 4, math.pi / 2, 3 * math.pi / 4])\n",
        "print('\\nb:')\n",
        "print(b)\n",
        "print(torch.sin_(b))  # note the underscore\n",
        "print(b)              # b has changed"
      ]
    },
    {
      "cell_type": "markdown",
      "metadata": {
        "id": "Udtan4_rSgIR"
      },
      "source": [
        "For arithmetic operations, there are functions that behave similarly:\n"
      ]
    },
    {
      "cell_type": "code",
      "execution_count": 36,
      "metadata": {
        "colab": {
          "base_uri": "https://localhost:8080/"
        },
        "id": "grgU9wU1SgIR",
        "outputId": "32b8dd9e-cbb6-40f0-b975-531afa2f4440"
      },
      "outputs": [
        {
          "output_type": "stream",
          "name": "stdout",
          "text": [
            "Before:\n",
            "tensor([[1., 1.],\n",
            "        [1., 1.]])\n",
            "tensor([[0.3788, 0.4567],\n",
            "        [0.0649, 0.6677]])\n",
            "\n",
            "After adding:\n",
            "tensor([[1.3788, 1.4567],\n",
            "        [1.0649, 1.6677]])\n",
            "tensor([[1.3788, 1.4567],\n",
            "        [1.0649, 1.6677]])\n",
            "tensor([[0.3788, 0.4567],\n",
            "        [0.0649, 0.6677]])\n",
            "\n",
            "After multiplying\n",
            "tensor([[0.1435, 0.2086],\n",
            "        [0.0042, 0.4459]])\n",
            "tensor([[0.1435, 0.2086],\n",
            "        [0.0042, 0.4459]])\n"
          ]
        }
      ],
      "source": [
        "a = torch.ones(2, 2)\n",
        "b = torch.rand(2, 2)\n",
        "\n",
        "print('Before:')\n",
        "print(a)\n",
        "print(b)\n",
        "print('\\nAfter adding:')\n",
        "print(a.add_(b))\n",
        "print(a)\n",
        "print(b)\n",
        "print('\\nAfter multiplying')\n",
        "print(b\n",
        "      .mul_(b))\n",
        "print(b)"
      ]
    },
    {
      "cell_type": "markdown",
      "metadata": {
        "id": "MZiu1TU-SgIR"
      },
      "source": [
        "Note that these in-place arithmetic functions are methods on the\n",
        "`torch.Tensor` object, not attached to the `torch` module like many\n",
        "other functions (e.g., `torch.sin()`). As you can see from `a.add_(b)`,\n",
        "*the calling tensor is the one that gets changed in place.*\n",
        "\n",
        "There is another option for placing the result of a computation in an\n",
        "existing, allocated tensor. Many of the methods and functions we've seen\n",
        "so far - including creation methods! - have an `out` argument that lets\n",
        "you specify a tensor to receive the output. If the `out` tensor is the\n",
        "correct shape and `dtype`, this can happen without a new memory\n",
        "allocation:\n"
      ]
    },
    {
      "cell_type": "code",
      "execution_count": 37,
      "metadata": {
        "colab": {
          "base_uri": "https://localhost:8080/"
        },
        "id": "OViD88zFSgIS",
        "outputId": "8a9752bb-e800-41e6-9dc5-3a63337b65f7"
      },
      "outputs": [
        {
          "output_type": "stream",
          "name": "stdout",
          "text": [
            "tensor([[0., 0.],\n",
            "        [0., 0.]])\n",
            "tensor([[0.3653, 0.8699],\n",
            "        [0.2364, 0.3604]])\n",
            "tensor([[0.0776, 0.4004],\n",
            "        [0.9877, 0.0352]])\n"
          ]
        }
      ],
      "source": [
        "a = torch.rand(2, 2)\n",
        "b = torch.rand(2, 2)\n",
        "c = torch.zeros(2, 2)\n",
        "old_id = id(c)\n",
        "\n",
        "print(c)\n",
        "d = torch.matmul(a, b, out=c)\n",
        "print(c)                # contents of c have changed\n",
        "\n",
        "assert c is d           # test c & d are same object, not just containing equal values\n",
        "assert id(c) == old_id  # make sure that our new c is the same object as the old one\n",
        "\n",
        "torch.rand(2, 2, out=c) # works for creation too!\n",
        "print(c)                # c has changed again\n",
        "assert id(c) == old_id  # still the same object!"
      ]
    },
    {
      "cell_type": "markdown",
      "metadata": {
        "id": "F6oo64cnSgIS"
      },
      "source": [
        "Copying Tensors\n",
        "===============\n",
        "\n",
        "As with any object in Python, assigning a tensor to a variable makes the\n",
        "variable a *label* of the tensor, and does not copy it. For example:\n"
      ]
    },
    {
      "cell_type": "code",
      "execution_count": 38,
      "metadata": {
        "colab": {
          "base_uri": "https://localhost:8080/"
        },
        "id": "xxy2u2eaSgIS",
        "outputId": "64812f6d-a47b-4f6a-afc7-40bd0e6a58c0"
      },
      "outputs": [
        {
          "output_type": "stream",
          "name": "stdout",
          "text": [
            "tensor([[  1., 561.],\n",
            "        [  1.,   1.]])\n"
          ]
        }
      ],
      "source": [
        "a = torch.ones(2, 2)\n",
        "b = a\n",
        "\n",
        "a[0][1] = 561  # we change a...\n",
        "print(b)       # ...and b is also altered"
      ]
    },
    {
      "cell_type": "markdown",
      "metadata": {
        "id": "7srdtLsISgIS"
      },
      "source": [
        "But what if you want a separate copy of the data to work on? The\n",
        "`clone()` method is there for you:\n"
      ]
    },
    {
      "cell_type": "code",
      "execution_count": 39,
      "metadata": {
        "colab": {
          "base_uri": "https://localhost:8080/"
        },
        "id": "iqy9Bpq6SgIS",
        "outputId": "74e81d98-aa2d-446c-ef18-169992430657"
      },
      "outputs": [
        {
          "output_type": "stream",
          "name": "stdout",
          "text": [
            "tensor([[True, True],\n",
            "        [True, True]])\n",
            "tensor([[1., 1.],\n",
            "        [1., 1.]])\n"
          ]
        }
      ],
      "source": [
        "a = torch.ones(2, 2)\n",
        "b = a.clone()\n",
        "\n",
        "assert b is not a      # different objects in memory...\n",
        "print(torch.eq(a, b))  # ...but still with the same contents!\n",
        "\n",
        "a[0][1] = 561          # a changes...\n",
        "print(b)               # ...but b is still all ones"
      ]
    },
    {
      "cell_type": "markdown",
      "metadata": {
        "id": "repkIG2_SgIS"
      },
      "source": [
        "**There is an important thing to be aware of when using\n",
        "\\`\\`clone()\\`\\`.** If your source tensor has autograd, enabled then so\n",
        "will the clone. **This will be covered more deeply in the video on\n",
        "autograd,** but if you want the light version of the details, continue\n",
        "on.\n",
        "\n",
        "*In many cases, this will be what you want.* For example, if your model\n",
        "has multiple computation paths in its `forward()` method, and *both* the\n",
        "original tensor and its clone contribute to the model's output, then to\n",
        "enable model learning you want autograd turned on for both tensors. If\n",
        "your source tensor has autograd enabled (which it generally will if it's\n",
        "a set of learning weights or derived from a computation involving the\n",
        "weights), then you'll get the result you want.\n",
        "\n",
        "On the other hand, if you're doing a computation where *neither* the\n",
        "original tensor nor its clone need to track gradients, then as long as\n",
        "the source tensor has autograd turned off, you're good to go.\n",
        "\n",
        "*There is a third case,* though: Imagine you're performing a computation\n",
        "in your model's `forward()` function, where gradients are turned on for\n",
        "everything by default, but you want to pull out some values mid-stream\n",
        "to generate some metrics. In this case, you *don't* want the cloned copy\n",
        "of your source tensor to track gradients - performance is improved with\n",
        "autograd's history tracking turned off. For this, you can use the\n",
        "`.detach()` method on the source tensor:\n"
      ]
    },
    {
      "cell_type": "code",
      "execution_count": 40,
      "metadata": {
        "colab": {
          "base_uri": "https://localhost:8080/"
        },
        "id": "m_Fot7xCSgIS",
        "outputId": "abea3371-9bc3-458e-88ca-501b83236449"
      },
      "outputs": [
        {
          "output_type": "stream",
          "name": "stdout",
          "text": [
            "tensor([[0.0905, 0.4485],\n",
            "        [0.8740, 0.2526]], requires_grad=True)\n",
            "tensor([[0.0905, 0.4485],\n",
            "        [0.8740, 0.2526]], grad_fn=<CloneBackward0>)\n",
            "tensor([[0.0905, 0.4485],\n",
            "        [0.8740, 0.2526]])\n",
            "tensor([[0.0905, 0.4485],\n",
            "        [0.8740, 0.2526]], requires_grad=True)\n"
          ]
        }
      ],
      "source": [
        "a = torch.rand(2, 2, requires_grad=True) # turn on autograd\n",
        "print(a)\n",
        "\n",
        "b = a.clone()\n",
        "print(b)\n",
        "\n",
        "c = a.detach().clone()\n",
        "print(c)\n",
        "\n",
        "print(a)"
      ]
    },
    {
      "cell_type": "markdown",
      "metadata": {
        "id": "cYAED3wDSgIe"
      },
      "source": [
        "What's happening here?\n",
        "\n",
        "-   We create `a` with `requires_grad=True` turned on. **We haven't\n",
        "    covered this optional argument yet, but will during the unit on\n",
        "    autograd.**\n",
        "-   When we print `a`, it informs us that the property\n",
        "    `requires_grad=True` - this means that autograd and computation\n",
        "    history tracking are turned on.\n",
        "-   We clone `a` and label it `b`. When we print `b`, we can see that\n",
        "    it's tracking its computation history - it has inherited `a`'s\n",
        "    autograd settings, and added to the computation history.\n",
        "-   We clone `a` into `c`, but we call `detach()` first.\n",
        "-   Printing `c`, we see no computation history, and no\n",
        "    `requires_grad=True`.\n",
        "\n",
        "The `detach()` method *detaches the tensor from its computation\n",
        "history.* It says, \"do whatever comes next as if autograd was off.\" It\n",
        "does this *without* changing `a` - you can see that when we print `a`\n",
        "again at the end, it retains its `requires_grad=True` property.\n",
        "\n",
        "Moving to\n",
        "[Accelerator](https://pytorch.org/docs/stable/torch.html#accelerators)\n",
        "\\-\\-\\-\\-\\-\\-\\-\\-\\-\\-\\-\\--\n",
        "\n",
        "One of the major advantages of PyTorch is its robust acceleration on an\n",
        "[accelerator](https://pytorch.org/docs/stable/torch.html#accelerators)\n",
        "such as CUDA, MPS, MTIA, or XPU. So far, everything we've done has been\n",
        "on CPU. How do we move to the faster hardware?\n",
        "\n",
        "First, we should check whether an accelerator is available, with the\n",
        "`is_available()` method.\n",
        "\n",
        "<div style=\"background-color: #54c7ec; color: #fff; font-weight: 700; padding-left: 10px; padding-top: 5px; padding-bottom: 5px\"><strong>NOTE:</strong></div>\n",
        "\n",
        "<div style=\"background-color: #f3f4f7; padding-left: 10px; padding-top: 10px; padding-bottom: 10px; padding-right: 10px\">\n",
        "\n",
        "<p>If you do not have an accelerator, the executable cells in this section will not execute anyaccelerator-related code.</p>\n",
        "\n",
        "</div>\n",
        "\n"
      ]
    },
    {
      "cell_type": "code",
      "execution_count": 41,
      "metadata": {
        "colab": {
          "base_uri": "https://localhost:8080/"
        },
        "id": "Vcr9J1mSSgIf",
        "outputId": "3e26c440-5c7f-4b0a-caab-36adc88e575a"
      },
      "outputs": [
        {
          "output_type": "stream",
          "name": "stdout",
          "text": [
            "We have an accelerator!\n"
          ]
        }
      ],
      "source": [
        "if torch.cuda.is_available():\n",
        "    print('We have an accelerator!')\n",
        "else:\n",
        "    print('Sorry, CPU only.')"
      ]
    },
    {
      "cell_type": "markdown",
      "metadata": {
        "id": "kv6X9anNSgIf"
      },
      "source": [
        "Once we've determined that one or more accelerators is available, we\n",
        "need to put our data someplace where the accelerator can see it. Your\n",
        "CPU does computation on data in your computer's RAM. Your accelerator\n",
        "has dedicated memory attached to it. Whenever you want to perform a\n",
        "computation on a device, you must move *all* the data needed for that\n",
        "computation to memory accessible by that device. (Colloquially, \"moving\n",
        "the data to memory accessible by the GPU\" is shorted to, \"moving the\n",
        "data to the GPU\".)\n",
        "\n",
        "There are multiple ways to get your data onto your target device. You\n",
        "may do it at creation time:\n"
      ]
    },
    {
      "cell_type": "code",
      "execution_count": 43,
      "metadata": {
        "colab": {
          "base_uri": "https://localhost:8080/"
        },
        "id": "BZzzkifWSgIf",
        "outputId": "e487c7b5-0358-4249-bb14-01f809628277"
      },
      "outputs": [
        {
          "output_type": "stream",
          "name": "stdout",
          "text": [
            "tensor([[0.3344, 0.2640],\n",
            "        [0.2119, 0.0582]], device='cuda:0')\n"
          ]
        }
      ],
      "source": [
        "if torch.cuda.is_available():\n",
        "    device = torch.device('cuda' if torch.cuda.is_available() else 'cpu')\n",
        "    gpu_rand = torch.rand(2, 2, device=device)\n",
        "    print(gpu_rand)\n",
        "else:\n",
        "    print('Sorry, CPU only.')"
      ]
    },
    {
      "cell_type": "markdown",
      "metadata": {
        "id": "qPDO2xiQSgIf"
      },
      "source": [
        "By default, new tensors are created on the CPU, so we have to specify\n",
        "when we want to create our tensor on the accelerator with the optional\n",
        "`device` argument. You can see when we print the new tensor, PyTorch\n",
        "informs us which device it's on (if it's not on CPU).\n",
        "\n",
        "You can query the number of accelerators with\n",
        "`torch.accelerator.device_count()`. If you have more than one\n",
        "accelerator, you can specify them by index, take CUDA for example:\n",
        "`device='cuda:0'`, `device='cuda:1'`, etc.\n",
        "\n",
        "As a coding practice, specifying our devices everywhere with string\n",
        "constants is pretty fragile. In an ideal world, your code would perform\n",
        "robustly whether you're on CPU or accelerator hardware. You can do this\n",
        "by creating a device handle that can be passed to your tensors instead\n",
        "of a string:\n"
      ]
    },
    {
      "cell_type": "code",
      "execution_count": 44,
      "metadata": {
        "colab": {
          "base_uri": "https://localhost:8080/"
        },
        "id": "6z9OeUG4SgIf",
        "outputId": "bd2af04f-8367-4acd-9f6d-b80d3eeb0431"
      },
      "outputs": [
        {
          "output_type": "stream",
          "name": "stdout",
          "text": [
            "Device: cuda\n",
            "tensor([[0.0024, 0.6778],\n",
            "        [0.2441, 0.6812]], device='cuda:0')\n"
          ]
        }
      ],
      "source": [
        "my_device = torch.device(\"cuda\" if torch.cuda.is_available() else \"cpu\")\n",
        "print('Device: {}'.format(my_device))\n",
        "\n",
        "x = torch.rand(2, 2, device=my_device)\n",
        "print(x)"
      ]
    },
    {
      "cell_type": "markdown",
      "metadata": {
        "id": "UjX1h3pNSgIf"
      },
      "source": [
        "If you have an existing tensor living on one device, you can move it to\n",
        "another with the `to()` method. The following line of code creates a\n",
        "tensor on CPU, and moves it to whichever device handle you acquired in\n",
        "the previous cell.\n"
      ]
    },
    {
      "cell_type": "code",
      "execution_count": 45,
      "metadata": {
        "id": "nUj9iwaaSgIf"
      },
      "outputs": [],
      "source": [
        "y = torch.rand(2, 2)\n",
        "y = y.to(my_device)"
      ]
    },
    {
      "cell_type": "markdown",
      "metadata": {
        "id": "oHYyLI18SgIf"
      },
      "source": [
        "It is important to know that in order to do computation involving two or\n",
        "more tensors, *all of the tensors must be on the same device*. The\n",
        "following code will throw a runtime error, regardless of whether you\n",
        "have an accelerator device available, take CUDA for example:\n",
        "\n",
        "``` {.python}\n",
        "x = torch.rand(2, 2)\n",
        "y = torch.rand(2, 2, device='cuda')\n",
        "z = x + y  # exception will be thrown\n",
        "```\n"
      ]
    },
    {
      "cell_type": "markdown",
      "metadata": {
        "id": "XEGrkFNeSgIf"
      },
      "source": [
        "Manipulating Tensor Shapes\n",
        "==========================\n",
        "\n",
        "Sometimes, you'll need to change the shape of your tensor. Below, we'll\n",
        "look at a few common cases, and how to handle them.\n",
        "\n",
        "Changing the Number of Dimensions\n",
        "---------------------------------\n",
        "\n",
        "One case where you might need to change the number of dimensions is\n",
        "passing a single instance of input to your model. PyTorch models\n",
        "generally expect *batches* of input.\n",
        "\n",
        "For example, imagine having a model that works on 3 x 226 x 226 images\n",
        "-a 226-pixel square with 3 color channels. When you load and transform\n",
        "it, you'll get a tensor of shape `(3, 226, 226)`. Your model, though, is\n",
        "expecting input of shape `(N, 3, 226, 226)`, where `N` is the number of\n",
        "images in the batch. So how do you make a batch of one?\n"
      ]
    },
    {
      "cell_type": "code",
      "execution_count": 46,
      "metadata": {
        "colab": {
          "base_uri": "https://localhost:8080/"
        },
        "id": "LPK_iH8SSgIf",
        "outputId": "466e1ebe-c214-4388-de30-5f798cdaa5cb"
      },
      "outputs": [
        {
          "output_type": "stream",
          "name": "stdout",
          "text": [
            "torch.Size([3, 226, 226])\n",
            "torch.Size([1, 3, 226, 226])\n"
          ]
        }
      ],
      "source": [
        "a = torch.rand(3, 226, 226)\n",
        "b = a.unsqueeze(0)\n",
        "\n",
        "print(a.shape)\n",
        "print(b.shape)"
      ]
    },
    {
      "cell_type": "markdown",
      "metadata": {
        "id": "jEUfEYhNSgIf"
      },
      "source": [
        "The `unsqueeze()` method adds a dimension of extent 1. `unsqueeze(0)`\n",
        "adds it as a new zeroth dimension - now you have a batch of one!\n",
        "\n",
        "So if that's *un*squeezing? What do we mean by squeezing? We're taking\n",
        "advantage of the fact that any dimension of extent 1 *does not* change\n",
        "the number of elements in the tensor.\n"
      ]
    },
    {
      "cell_type": "code",
      "execution_count": 47,
      "metadata": {
        "colab": {
          "base_uri": "https://localhost:8080/"
        },
        "id": "HJC_ugJUSgIf",
        "outputId": "35a189cf-2dbd-419d-aaa5-7b5e1c11d471"
      },
      "outputs": [
        {
          "output_type": "stream",
          "name": "stdout",
          "text": [
            "tensor([[[[[0.2347]]]]])\n"
          ]
        }
      ],
      "source": [
        "c = torch.rand(1, 1, 1, 1, 1)\n",
        "print(c)"
      ]
    },
    {
      "cell_type": "markdown",
      "metadata": {
        "id": "IXZWHfmlSgIg"
      },
      "source": [
        "Continuing the example above, let's say the model's output is a\n",
        "20-element vector for each input. You would then expect the output to\n",
        "have shape `(N, 20)`, where `N` is the number of instances in the input\n",
        "batch. That means that for our single-input batch, we'll get an output\n",
        "of shape `(1, 20)`.\n",
        "\n",
        "What if you want to do some *non-batched* computation with that output\n",
        "-something that's just expecting a 20-element vector?\n"
      ]
    },
    {
      "cell_type": "code",
      "execution_count": 49,
      "metadata": {
        "colab": {
          "base_uri": "https://localhost:8080/"
        },
        "id": "h_LNWkUjSgIg",
        "outputId": "8fd2bbfd-0525-404e-de11-c1dbf77a1d64"
      },
      "outputs": [
        {
          "output_type": "stream",
          "name": "stdout",
          "text": [
            "torch.Size([1, 5])\n",
            "tensor([[0.1891, 0.3952, 0.9176, 0.8960, 0.4887]])\n",
            "torch.Size([5])\n",
            "tensor([0.1891, 0.3952, 0.9176, 0.8960, 0.4887])\n",
            "torch.Size([2, 2])\n",
            "torch.Size([2, 2])\n"
          ]
        }
      ],
      "source": [
        "a = torch.rand(1, 5)\n",
        "print(a.shape)\n",
        "print(a)\n",
        "\n",
        "b = a.squeeze(0)\n",
        "print(b.shape)\n",
        "print(b)\n",
        "\n",
        "c = torch.rand(2, 2)\n",
        "print(c.shape)\n",
        "\n",
        "d = c.squeeze(0)\n",
        "print(d.shape)"
      ]
    },
    {
      "cell_type": "markdown",
      "metadata": {
        "id": "-gJa2LAdSgIg"
      },
      "source": [
        "You can see from the shapes that our 2-dimensional tensor is now\n",
        "1-dimensional, and if you look closely at the output of the cell above\n",
        "you'll see that printing `a` shows an \"extra\" set of square brackets\n",
        "`[]` due to having an extra dimension.\n",
        "\n",
        "You may only `squeeze()` dimensions of extent 1. See above where we try\n",
        "to squeeze a dimension of size 2 in `c`, and get back the same shape we\n",
        "started with. Calls to `squeeze()` and `unsqueeze()` can only act on\n",
        "dimensions of extent 1 because to do otherwise would change the number\n",
        "of elements in the tensor.\n",
        "\n",
        "Another place you might use `unsqueeze()` is to ease broadcasting.\n",
        "Recall the example above where we had the following code:\n",
        "\n",
        "``` {.python}\n",
        "a = torch.ones(4, 3, 2)\n",
        "\n",
        "c = a * torch.rand(   3, 1) # 3rd dim = 1, 2nd dim identical to a\n",
        "print(c)\n",
        "```\n",
        "\n",
        "The net effect of that was to broadcast the operation over dimensions 0\n",
        "and 2, causing the random, 3 x 1 tensor to be multiplied element-wise by\n",
        "every 3-element column in `a`.\n",
        "\n",
        "What if the random vector had just been 3-element vector? We'd lose the\n",
        "ability to do the broadcast, because the final dimensions would not\n",
        "match up according to the broadcasting rules. `unsqueeze()` comes to the\n",
        "rescue:\n"
      ]
    },
    {
      "cell_type": "code",
      "execution_count": 50,
      "metadata": {
        "colab": {
          "base_uri": "https://localhost:8080/"
        },
        "id": "EXJa0x2BSgIg",
        "outputId": "a94cec36-0dea-4e7e-9bea-7e6f2aab0140"
      },
      "outputs": [
        {
          "output_type": "stream",
          "name": "stdout",
          "text": [
            "torch.Size([3, 1])\n",
            "tensor([[[0.6138, 0.6138],\n",
            "         [0.6854, 0.6854],\n",
            "         [0.0438, 0.0438]],\n",
            "\n",
            "        [[0.6138, 0.6138],\n",
            "         [0.6854, 0.6854],\n",
            "         [0.0438, 0.0438]],\n",
            "\n",
            "        [[0.6138, 0.6138],\n",
            "         [0.6854, 0.6854],\n",
            "         [0.0438, 0.0438]],\n",
            "\n",
            "        [[0.6138, 0.6138],\n",
            "         [0.6854, 0.6854],\n",
            "         [0.0438, 0.0438]]])\n"
          ]
        }
      ],
      "source": [
        "a = torch.ones(4, 3, 2)\n",
        "b = torch.rand(   3)     # trying to multiply a * b will give a runtime error\n",
        "c = b.unsqueeze(1)       # change to a 2-dimensional tensor, adding new dim at the end\n",
        "print(c.shape)\n",
        "print(a * c)             # broadcasting works again!"
      ]
    },
    {
      "cell_type": "markdown",
      "metadata": {
        "id": "lvfJy3a7SgIg"
      },
      "source": [
        "The `squeeze()` and `unsqueeze()` methods also have in-place versions,\n",
        "`squeeze_()` and `unsqueeze_()`:\n"
      ]
    },
    {
      "cell_type": "code",
      "execution_count": 51,
      "metadata": {
        "colab": {
          "base_uri": "https://localhost:8080/"
        },
        "id": "XJ4yLNyaSgIg",
        "outputId": "f5cd8abe-1818-43fb-867b-5aa3ebed1fdc"
      },
      "outputs": [
        {
          "output_type": "stream",
          "name": "stdout",
          "text": [
            "torch.Size([3, 226, 226])\n",
            "torch.Size([1, 3, 226, 226])\n"
          ]
        }
      ],
      "source": [
        "batch_me = torch.rand(3, 226, 226)\n",
        "print(batch_me.shape)\n",
        "batch_me.unsqueeze_(0)\n",
        "print(batch_me.shape)"
      ]
    },
    {
      "cell_type": "markdown",
      "metadata": {
        "id": "ShBX3pjQSgIg"
      },
      "source": [
        "Sometimes you'll want to change the shape of a tensor more radically,\n",
        "while still preserving the number of elements and their contents. One\n",
        "case where this happens is at the interface between a convolutional\n",
        "layer of a model and a linear layer of the model - this is common in\n",
        "image classification models. A convolution kernel will yield an output\n",
        "tensor of shape *features x width x height,* but the following linear\n",
        "layer expects a 1-dimensional input. `reshape()` will do this for you,\n",
        "provided that the dimensions you request yield the same number of\n",
        "elements as the input tensor has:\n"
      ]
    },
    {
      "cell_type": "code",
      "execution_count": 52,
      "metadata": {
        "colab": {
          "base_uri": "https://localhost:8080/"
        },
        "id": "7cWzx11mSgIg",
        "outputId": "a4b73252-4318-4750-cf27-f3c7ed0dd47d"
      },
      "outputs": [
        {
          "output_type": "stream",
          "name": "stdout",
          "text": [
            "torch.Size([6, 20, 20])\n",
            "torch.Size([2400])\n",
            "torch.Size([2400])\n"
          ]
        }
      ],
      "source": [
        "output3d = torch.rand(6, 20, 20)\n",
        "print(output3d.shape)\n",
        "\n",
        "input1d = output3d.reshape(6 * 20 * 20)\n",
        "print(input1d.shape)\n",
        "\n",
        "# can also call it as a method on the torch module:\n",
        "print(torch.reshape(output3d, (6 * 20 * 20,)).shape)"
      ]
    },
    {
      "cell_type": "markdown",
      "metadata": {
        "id": "4dZoY9OYSgIg"
      },
      "source": [
        "<div style=\"background-color: #54c7ec; color: #fff; font-weight: 700; padding-left: 10px; padding-top: 5px; padding-bottom: 5px\"><strong>NOTE:</strong></div>\n",
        "\n",
        "<div style=\"background-color: #f3f4f7; padding-left: 10px; padding-top: 10px; padding-bottom: 10px; padding-right: 10px\">\n",
        "\n",
        "<p>The <code>(6 * 20 * 20,)</code> argument in the final line of the cellabove is because PyTorch expects a  when specifying atensor shape - but when the shape is the first argument of a method, itlets us cheat and just use a series of integers. Here, we had to add theparentheses and comma to convince the method that this is really aone-element tuple.</p>\n",
        "\n",
        "</div>\n",
        "\n",
        "When it can, `reshape()` will return a *view* on the tensor to be\n",
        "changed - that is, a separate tensor object looking at the same\n",
        "underlying region of memory. *This is important:* That means any change\n",
        "made to the source tensor will be reflected in the view on that tensor,\n",
        "unless you `clone()` it.\n",
        "\n",
        "There *are* conditions, beyond the scope of this introduction, where\n",
        "`reshape()` has to return a tensor carrying a copy of the data. For more\n",
        "information, see the\n",
        "[docs](https://pytorch.org/docs/stable/torch.html#torch.reshape).\n"
      ]
    },
    {
      "cell_type": "markdown",
      "metadata": {
        "id": "FoQ6wtfQSgIg"
      },
      "source": [
        "NumPy Bridge\n",
        "============\n",
        "\n",
        "In the section above on broadcasting, it was mentioned that PyTorch's\n",
        "broadcast semantics are compatible with NumPy's - but the kinship\n",
        "between PyTorch and NumPy goes even deeper than that.\n",
        "\n",
        "If you have existing ML or scientific code with data stored in NumPy\n",
        "ndarrays, you may wish to express that same data as PyTorch tensors,\n",
        "whether to take advantage of PyTorch's GPU acceleration, or its\n",
        "efficient abstractions for building ML models. It's easy to switch\n",
        "between ndarrays and PyTorch tensors:\n"
      ]
    },
    {
      "cell_type": "code",
      "execution_count": 53,
      "metadata": {
        "colab": {
          "base_uri": "https://localhost:8080/"
        },
        "id": "VQzXckmHSgIg",
        "outputId": "e127deb6-f406-4495-b745-6d092bb37069"
      },
      "outputs": [
        {
          "output_type": "stream",
          "name": "stdout",
          "text": [
            "[[1. 1. 1.]\n",
            " [1. 1. 1.]]\n",
            "tensor([[1., 1., 1.],\n",
            "        [1., 1., 1.]], dtype=torch.float64)\n"
          ]
        }
      ],
      "source": [
        "import numpy as np\n",
        "\n",
        "numpy_array = np.ones((2, 3))\n",
        "print(numpy_array)\n",
        "\n",
        "pytorch_tensor = torch.from_numpy(numpy_array)\n",
        "print(pytorch_tensor)"
      ]
    },
    {
      "cell_type": "markdown",
      "metadata": {
        "id": "Wuc0-YA_SgIg"
      },
      "source": [
        "PyTorch creates a tensor of the same shape and containing the same data\n",
        "as the NumPy array, going so far as to keep NumPy's default 64-bit float\n",
        "data type.\n",
        "\n",
        "The conversion can just as easily go the other way:\n"
      ]
    },
    {
      "cell_type": "code",
      "execution_count": 55,
      "metadata": {
        "colab": {
          "base_uri": "https://localhost:8080/"
        },
        "id": "Ikgb2GsfSgIh",
        "outputId": "e2fa7dab-0928-439f-8b91-3621ae0036a2"
      },
      "outputs": [
        {
          "output_type": "stream",
          "name": "stdout",
          "text": [
            "tensor([[0.3838, 0.0171],\n",
            "        [0.2775, 0.0935],\n",
            "        [0.1874, 0.3136]])\n",
            "[[0.38376427 0.01713592]\n",
            " [0.27750254 0.09351915]\n",
            " [0.18740034 0.31359702]]\n"
          ]
        }
      ],
      "source": [
        "pytorch_rand = torch.rand(3, 2)\n",
        "print(pytorch_rand)\n",
        "\n",
        "numpy_rand = pytorch_rand.numpy()\n",
        "print(numpy_rand)"
      ]
    },
    {
      "cell_type": "markdown",
      "metadata": {
        "id": "RlV5PZp6SgIh"
      },
      "source": [
        "It is important to know that these converted objects are using *the same\n",
        "underlying memory* as their source objects, meaning that changes to one\n",
        "are reflected in the other:\n"
      ]
    },
    {
      "cell_type": "code",
      "execution_count": 56,
      "metadata": {
        "colab": {
          "base_uri": "https://localhost:8080/"
        },
        "id": "Gtj90lukSgIh",
        "outputId": "1d3dabca-b9a6-47f2-f6d8-44a6a9ca4554"
      },
      "outputs": [
        {
          "output_type": "stream",
          "name": "stdout",
          "text": [
            "tensor([[ 1.,  1.,  1.],\n",
            "        [ 1., 27.,  1.]], dtype=torch.float64)\n",
            "[[ 0.38376427  0.01713592]\n",
            " [ 0.27750254 13.        ]\n",
            " [ 0.18740034  0.31359702]]\n"
          ]
        }
      ],
      "source": [
        "numpy_array[1, 1] = 27\n",
        "print(pytorch_tensor)\n",
        "\n",
        "pytorch_rand[1, 1] = 13\n",
        "print(numpy_rand)"
      ]
    },
    {
      "cell_type": "code",
      "execution_count": null,
      "metadata": {
        "id": "3YVFIa_HZf7o"
      },
      "outputs": [],
      "source": []
    },
    {
      "cell_type": "code",
      "execution_count": 57,
      "metadata": {
        "id": "r4fuZbtcOsre"
      },
      "outputs": [],
      "source": [
        "# For tips on running notebooks in Google Colab, see\n",
        "# https://pytorch.org/tutorials/beginner/colab\n",
        "%matplotlib inline"
      ]
    },
    {
      "cell_type": "markdown",
      "metadata": {
        "id": "IyBBwy7gOsrf"
      },
      "source": [
        "[Introduction](introyt1_tutorial.html) \\|\\|\n",
        "[Tensors](tensors_deeper_tutorial.html) \\|\\| **Autograd** \\|\\| [Building\n",
        "Models](modelsyt_tutorial.html) \\|\\| [TensorBoard\n",
        "Support](tensorboardyt_tutorial.html) \\|\\| [Training\n",
        "Models](trainingyt.html) \\|\\| [Model Understanding](captumyt.html)\n",
        "\n",
        "The Fundamentals of Autograd\n",
        "============================\n",
        "\n",
        "Follow along with the video below or on\n",
        "[youtube](https://www.youtube.com/watch?v=M0fX15_-xrY).\n",
        "\n",
        "``` {.python .jupyter-code-cell}\n",
        "from IPython.display import display, HTML\n",
        "html_code = \"\"\"\n",
        "<div style=\"margin-top:10px; margin-bottom:10px;\">\n",
        "  <iframe width=\"560\" height=\"315\" src=\"https://www.youtube.com/embed/M0fX15_-xrY\" frameborder=\"0\" allow=\"accelerometer; encrypted-media; gyroscope; picture-in-picture\" allowfullscreen></iframe>\n",
        "</div>\n",
        "\"\"\"\n",
        "display(HTML(html_code))\n",
        "```\n",
        "\n",
        "PyTorch's *Autograd* feature is part of what make PyTorch flexible and\n",
        "fast for building machine learning projects. It allows for the rapid and\n",
        "easy computation of multiple partial derivatives (also referred to as\n",
        "*gradients)* over a complex computation. This operation is central to\n",
        "backpropagation-based neural network learning.\n",
        "\n",
        "The power of autograd comes from the fact that it traces your\n",
        "computation dynamically *at runtime,* meaning that if your model has\n",
        "decision branches, or loops whose lengths are not known until runtime,\n",
        "the computation will still be traced correctly, and you'll get correct\n",
        "gradients to drive learning. This, combined with the fact that your\n",
        "models are built in Python, offers far more flexibility than frameworks\n",
        "that rely on static analysis of a more rigidly-structured model for\n",
        "computing gradients.\n",
        "\n",
        "What Do We Need Autograd For?\n",
        "-----------------------------\n"
      ]
    },
    {
      "cell_type": "markdown",
      "metadata": {
        "id": "CSvfWgMMOsrg"
      },
      "source": [
        "A machine learning model is a *function*, with inputs and outputs. For\n",
        "this discussion, we'll treat the inputs as an *i*-dimensional vector\n",
        "$\\vec{x}$, with elements $x_{i}$. We can then express the model, *M*, as\n",
        "a vector-valued function of the input: $\\vec{y} =\n",
        "\\vec{M}(\\vec{x})$. (We treat the value of M's output as a vector because\n",
        "in general, a model may have any number of outputs.)\n",
        "\n",
        "Since we'll mostly be discussing autograd in the context of training,\n",
        "our output of interest will be the model's loss. The *loss function*\n",
        "L($\\vec{y}$) = L($\\vec{M}$($\\vec{x}$)) is a single-valued scalar\n",
        "function of the model's output. This function expresses how far off our\n",
        "model's prediction was from a particular input's *ideal* output. *Note:\n",
        "After this point, we will often omit the vector sign where it should be\n",
        "contextually clear - e.g.,* $y$ instead of $\\vec y$.\n",
        "\n",
        "In training a model, we want to minimize the loss. In the idealized case\n",
        "of a perfect model, that means adjusting its learning weights - that is,\n",
        "the adjustable parameters of the function - such that loss is zero for\n",
        "all inputs. In the real world, it means an iterative process of nudging\n",
        "the learning weights until we see that we get a tolerable loss for a\n",
        "wide variety of inputs.\n",
        "\n",
        "How do we decide how far and in which direction to nudge the weights? We\n",
        "want to *minimize* the loss, which means making its first derivative\n",
        "with respect to the input equal to 0:\n",
        "$\\frac{\\partial L}{\\partial x} = 0$.\n",
        "\n",
        "Recall, though, that the loss is not *directly* derived from the input,\n",
        "but a function of the model's output (which is a function of the input\n",
        "directly), $\\frac{\\partial L}{\\partial x}$ =\n",
        "$\\frac{\\partial {L({\\vec y})}}{\\partial x}$. By the chain rule of\n",
        "differential calculus, we have\n",
        "$\\frac{\\partial {L({\\vec y})}}{\\partial x}$ =\n",
        "$\\frac{\\partial L}{\\partial y}\\frac{\\partial y}{\\partial x}$ =\n",
        "$\\frac{\\partial L}{\\partial y}\\frac{\\partial M(x)}{\\partial x}$.\n",
        "\n",
        "$\\frac{\\partial M(x)}{\\partial x}$ is where things get complex. The\n",
        "partial derivatives of the model's outputs with respect to its inputs,\n",
        "if we were to expand the expression using the chain rule again, would\n",
        "involve many local partial derivatives over every multiplied learning\n",
        "weight, every activation function, and every other mathematical\n",
        "transformation in the model. The full expression for each such partial\n",
        "derivative is the sum of the products of the local gradient of *every\n",
        "possible path* through the computation graph that ends with the variable\n",
        "whose gradient we are trying to measure.\n",
        "\n",
        "In particular, the gradients over the learning weights are of interest\n",
        "to us - they tell us *what direction to change each weight* to get the\n",
        "loss function closer to zero.\n",
        "\n",
        "Since the number of such local derivatives (each corresponding to a\n",
        "separate path through the model's computation graph) will tend to go up\n",
        "exponentially with the depth of a neural network, so does the complexity\n",
        "in computing them. This is where autograd comes in: It tracks the\n",
        "history of every computation. Every computed tensor in your PyTorch\n",
        "model carries a history of its input tensors and the function used to\n",
        "create it. Combined with the fact that PyTorch functions meant to act on\n",
        "tensors each have a built-in implementation for computing their own\n",
        "derivatives, this greatly speeds the computation of the local\n",
        "derivatives needed for learning.\n",
        "\n",
        "A Simple Example\n",
        "================\n",
        "\n",
        "That was a lot of theory - but what does it look like to use autograd in\n",
        "practice?\n",
        "\n",
        "Let's start with a straightforward example. First, we'll do some imports\n",
        "to let us graph our results:\n"
      ]
    },
    {
      "cell_type": "code",
      "execution_count": 58,
      "metadata": {
        "id": "O7CU-F7UOsrg"
      },
      "outputs": [],
      "source": [
        "# %matplotlib inline\n",
        "\n",
        "import torch\n",
        "\n",
        "import matplotlib.pyplot as plt\n",
        "import matplotlib.ticker as ticker\n",
        "import math"
      ]
    },
    {
      "cell_type": "markdown",
      "metadata": {
        "id": "9K4X6Dp7Osrg"
      },
      "source": [
        "Next, we'll create an input tensor full of evenly spaced values on the\n",
        "interval $[0, 2{\\pi}]$, and specify `requires_grad=True`. (Like most\n",
        "functions that create tensors, `torch.linspace()` accepts an optional\n",
        "`requires_grad` option.) Setting this flag means that in every\n",
        "computation that follows, autograd will be accumulating the history of\n",
        "the computation in the output tensors of that computation.\n"
      ]
    },
    {
      "cell_type": "code",
      "execution_count": 59,
      "metadata": {
        "colab": {
          "base_uri": "https://localhost:8080/"
        },
        "id": "-9w1E4SiOsrh",
        "outputId": "cd4911de-b895-4056-a399-9150404b4701"
      },
      "outputs": [
        {
          "output_type": "stream",
          "name": "stdout",
          "text": [
            "tensor([0.0000, 0.2618, 0.5236, 0.7854, 1.0472, 1.3090, 1.5708, 1.8326, 2.0944,\n",
            "        2.3562, 2.6180, 2.8798, 3.1416, 3.4034, 3.6652, 3.9270, 4.1888, 4.4506,\n",
            "        4.7124, 4.9742, 5.2360, 5.4978, 5.7596, 6.0214, 6.2832],\n",
            "       requires_grad=True)\n"
          ]
        }
      ],
      "source": [
        "a = torch.linspace(0., 2. * math.pi, steps=25, requires_grad=True)\n",
        "print(a)"
      ]
    },
    {
      "cell_type": "markdown",
      "metadata": {
        "id": "jL6WnFxGOsrh"
      },
      "source": [
        "Next, we'll perform a computation, and plot its output in terms of its\n",
        "inputs:\n"
      ]
    },
    {
      "cell_type": "code",
      "execution_count": 60,
      "metadata": {
        "colab": {
          "base_uri": "https://localhost:8080/",
          "height": 448
        },
        "id": "Kwd3cl1QOsrh",
        "outputId": "317de65e-adf3-411f-eee8-cba159fb450a"
      },
      "outputs": [
        {
          "output_type": "execute_result",
          "data": {
            "text/plain": [
              "[<matplotlib.lines.Line2D at 0x7f08903d8390>]"
            ]
          },
          "metadata": {},
          "execution_count": 60
        },
        {
          "output_type": "display_data",
          "data": {
            "text/plain": [
              "<Figure size 640x480 with 1 Axes>"
            ],
            "image/png": "[encoded data removed]"
          },
          "metadata": {}
        }
      ],
      "source": [
        "b = torch.sin(a)\n",
        "plt.plot(a.detach(), b.detach())"
      ]
    },
    {
      "cell_type": "markdown",
      "metadata": {
        "id": "TmFVgfggOsrh"
      },
      "source": [
        "Let's have a closer look at the tensor `b`. When we print it, we see an\n",
        "indicator that it is tracking its computation history:\n"
      ]
    },
    {
      "cell_type": "code",
      "execution_count": 61,
      "metadata": {
        "colab": {
          "base_uri": "https://localhost:8080/"
        },
        "id": "ZbdM2_gSOsrh",
        "outputId": "f6779293-6a26-4ac0-d8df-2ec441a70ac9"
      },
      "outputs": [
        {
          "output_type": "stream",
          "name": "stdout",
          "text": [
            "tensor([ 0.0000e+00,  2.5882e-01,  5.0000e-01,  7.0711e-01,  8.6603e-01,\n",
            "         9.6593e-01,  1.0000e+00,  9.6593e-01,  8.6603e-01,  7.0711e-01,\n",
            "         5.0000e-01,  2.5882e-01, -8.7423e-08, -2.5882e-01, -5.0000e-01,\n",
            "        -7.0711e-01, -8.6603e-01, -9.6593e-01, -1.0000e+00, -9.6593e-01,\n",
            "        -8.6603e-01, -7.0711e-01, -5.0000e-01, -2.5882e-01,  1.7485e-07],\n",
            "       grad_fn=<SinBackward0>)\n"
          ]
        }
      ],
      "source": [
        "print(b)"
      ]
    },
    {
      "cell_type": "markdown",
      "metadata": {
        "id": "am36FWzkOsrh"
      },
      "source": [
        "This `grad_fn` gives us a hint that when we execute the backpropagation\n",
        "step and compute gradients, we'll need to compute the derivative of\n",
        "$\\sin(x)$ for all this tensor's inputs.\n",
        "\n",
        "Let's perform some more computations:\n"
      ]
    },
    {
      "cell_type": "code",
      "execution_count": 62,
      "metadata": {
        "colab": {
          "base_uri": "https://localhost:8080/"
        },
        "id": "s9w9_vV3Osrh",
        "outputId": "9bae4778-94dd-4a01-f806-dbd8dd8dee4e"
      },
      "outputs": [
        {
          "output_type": "stream",
          "name": "stdout",
          "text": [
            "tensor([ 0.0000e+00,  5.1764e-01,  1.0000e+00,  1.4142e+00,  1.7321e+00,\n",
            "         1.9319e+00,  2.0000e+00,  1.9319e+00,  1.7321e+00,  1.4142e+00,\n",
            "         1.0000e+00,  5.1764e-01, -1.7485e-07, -5.1764e-01, -1.0000e+00,\n",
            "        -1.4142e+00, -1.7321e+00, -1.9319e+00, -2.0000e+00, -1.9319e+00,\n",
            "        -1.7321e+00, -1.4142e+00, -1.0000e+00, -5.1764e-01,  3.4969e-07],\n",
            "       grad_fn=<MulBackward0>)\n",
            "tensor([ 1.0000e+00,  1.5176e+00,  2.0000e+00,  2.4142e+00,  2.7321e+00,\n",
            "         2.9319e+00,  3.0000e+00,  2.9319e+00,  2.7321e+00,  2.4142e+00,\n",
            "         2.0000e+00,  1.5176e+00,  1.0000e+00,  4.8236e-01, -3.5763e-07,\n",
            "        -4.1421e-01, -7.3205e-01, -9.3185e-01, -1.0000e+00, -9.3185e-01,\n",
            "        -7.3205e-01, -4.1421e-01,  4.7684e-07,  4.8236e-01,  1.0000e+00],\n",
            "       grad_fn=<AddBackward0>)\n"
          ]
        }
      ],
      "source": [
        "c = 2 * b\n",
        "print(c)\n",
        "\n",
        "d = c + 1\n",
        "print(d)"
      ]
    },
    {
      "cell_type": "markdown",
      "metadata": {
        "id": "Fc3ciWzCOsrh"
      },
      "source": [
        "Finally, let's compute a single-element output. When you call\n",
        "`.backward()` on a tensor with no arguments, it expects the calling\n",
        "tensor to contain only a single element, as is the case when computing a\n",
        "loss function.\n"
      ]
    },
    {
      "cell_type": "code",
      "execution_count": 63,
      "metadata": {
        "colab": {
          "base_uri": "https://localhost:8080/"
        },
        "id": "MeBdIl4eOsrh",
        "outputId": "e5b18e41-c881-4bd6-91d3-727184667267"
      },
      "outputs": [
        {
          "output_type": "stream",
          "name": "stdout",
          "text": [
            "tensor(25., grad_fn=<SumBackward0>)\n"
          ]
        }
      ],
      "source": [
        "out = d.sum()\n",
        "print(out)"
      ]
    },
    {
      "cell_type": "markdown",
      "metadata": {
        "id": "8AWFkfclOsrh"
      },
      "source": [
        "Each `grad_fn` stored with our tensors allows you to walk the\n",
        "computation all the way back to its inputs with its `next_functions`\n",
        "property. We can see below that drilling down on this property on `d`\n",
        "shows us the gradient functions for all the prior tensors. Note that\n",
        "`a.grad_fn` is reported as `None`, indicating that this was an input to\n",
        "the function with no history of its own.\n"
      ]
    },
    {
      "cell_type": "code",
      "execution_count": 64,
      "metadata": {
        "colab": {
          "base_uri": "https://localhost:8080/"
        },
        "id": "dtDRmgJjOsri",
        "outputId": "1ea56d2f-9020-44f6-8050-b668b5bdaf67"
      },
      "outputs": [
        {
          "output_type": "stream",
          "name": "stdout",
          "text": [
            "d:\n",
            "<AddBackward0 object at 0x7f0899b630d0>\n",
            "((<MulBackward0 object at 0x7f0899c22b30>, 0), (None, 0))\n",
            "((<SinBackward0 object at 0x7f0899b630d0>, 0), (None, 0))\n",
            "((<AccumulateGrad object at 0x7f08905d4850>, 0),)\n",
            "()\n",
            "\n",
            "c:\n",
            "<MulBackward0 object at 0x7f08905d49a0>\n",
            "\n",
            "b:\n",
            "<SinBackward0 object at 0x7f08905d49a0>\n",
            "\n",
            "a:\n",
            "None\n"
          ]
        }
      ],
      "source": [
        "print('d:')\n",
        "print(d.grad_fn)\n",
        "print(d.grad_fn.next_functions)\n",
        "print(d.grad_fn.next_functions[0][0].next_functions)\n",
        "print(d.grad_fn.next_functions[0][0].next_functions[0][0].next_functions)\n",
        "print(d.grad_fn.next_functions[0][0].next_functions[0][0].next_functions[0][0].next_functions)\n",
        "print('\\nc:')\n",
        "print(c.grad_fn)\n",
        "print('\\nb:')\n",
        "print(b.grad_fn)\n",
        "print('\\na:')\n",
        "print(a.grad_fn)"
      ]
    },
    {
      "cell_type": "markdown",
      "metadata": {
        "id": "vGc4Qop0Osri"
      },
      "source": [
        "With all this machinery in place, how do we get derivatives out? You\n",
        "call the `backward()` method on the output, and check the input's `grad`\n",
        "property to inspect the gradients:\n"
      ]
    },
    {
      "cell_type": "code",
      "execution_count": 65,
      "metadata": {
        "colab": {
          "base_uri": "https://localhost:8080/",
          "height": 537
        },
        "id": "4LgaGsV7Osri",
        "outputId": "470ae108-232a-40ea-eaa4-5af9744c4f5c"
      },
      "outputs": [
        {
          "output_type": "stream",
          "name": "stdout",
          "text": [
            "tensor([ 2.0000e+00,  1.9319e+00,  1.7321e+00,  1.4142e+00,  1.0000e+00,\n",
            "         5.1764e-01, -8.7423e-08, -5.1764e-01, -1.0000e+00, -1.4142e+00,\n",
            "        -1.7321e+00, -1.9319e+00, -2.0000e+00, -1.9319e+00, -1.7321e+00,\n",
            "        -1.4142e+00, -1.0000e+00, -5.1764e-01,  2.3850e-08,  5.1764e-01,\n",
            "         1.0000e+00,  1.4142e+00,  1.7321e+00,  1.9319e+00,  2.0000e+00])\n"
          ]
        },
        {
          "output_type": "execute_result",
          "data": {
            "text/plain": [
              "[<matplotlib.lines.Line2D at 0x7f089055dcd0>]"
            ]
          },
          "metadata": {},
          "execution_count": 65
        },
        {
          "output_type": "display_data",
          "data": {
            "text/plain": [
              "<Figure size 640x480 with 1 Axes>"
            ],
            "image/png": "[encoded data removed]"
          },
          "metadata": {}
        }
      ],
      "source": [
        "out.backward()\n",
        "print(a.grad)\n",
        "plt.plot(a.detach(), a.grad.detach())"
      ]
    },
    {
      "cell_type": "markdown",
      "metadata": {
        "id": "L15ocy-nOsri"
      },
      "source": [
        "Recall the computation steps we took to get here:\n",
        "\n",
        "``` {.python}\n",
        "a = torch.linspace(0., 2. * math.pi, steps=25, requires_grad=True)\n",
        "b = torch.sin(a)\n",
        "c = 2 * b\n",
        "d = c + 1\n",
        "out = d.sum()\n",
        "```\n",
        "\n",
        "Adding a constant, as we did to compute `d`, does not change the\n",
        "derivative. That leaves $c = 2 * b = 2 * \\sin(a)$, the derivative of\n",
        "which should be $2 * \\cos(a)$. Looking at the graph above, that's just\n",
        "what we see.\n",
        "\n",
        "Be aware that only *leaf nodes* of the computation have their gradients\n",
        "computed. If you tried, for example, `print(c.grad)` you'd get back\n",
        "`None`. In this simple example, only the input is a leaf node, so only\n",
        "it has gradients computed.\n",
        "\n",
        "Autograd in Training\n",
        "====================\n",
        "\n",
        "We've had a brief look at how autograd works, but how does it look when\n",
        "it's used for its intended purpose? Let's define a small model and\n",
        "examine how it changes after a single training batch. First, define a\n",
        "few constants, our model, and some stand-ins for inputs and outputs:\n"
      ]
    },
    {
      "cell_type": "code",
      "execution_count": 66,
      "metadata": {
        "id": "L6KkXBC8Osri"
      },
      "outputs": [],
      "source": [
        "BATCH_SIZE = 16\n",
        "DIM_IN = 1000\n",
        "HIDDEN_SIZE = 100\n",
        "DIM_OUT = 10\n",
        "\n",
        "class TinyModel(torch.nn.Module):\n",
        "\n",
        "    def __init__(self):\n",
        "        super(TinyModel, self).__init__()\n",
        "\n",
        "        self.layer1 = torch.nn.Linear(DIM_IN, HIDDEN_SIZE)\n",
        "        self.relu = torch.nn.ReLU()\n",
        "        self.layer2 = torch.nn.Linear(HIDDEN_SIZE, DIM_OUT)\n",
        "\n",
        "    def forward(self, x):\n",
        "        x = self.layer1(x)\n",
        "        x = self.relu(x)\n",
        "        x = self.layer2(x)\n",
        "        return x\n",
        "\n",
        "some_input = torch.randn(BATCH_SIZE, DIM_IN, requires_grad=False)\n",
        "ideal_output = torch.randn(BATCH_SIZE, DIM_OUT, requires_grad=False)\n",
        "\n",
        "model = TinyModel()"
      ]
    },
    {
      "cell_type": "markdown",
      "metadata": {
        "id": "tx8HDVEOOsri"
      },
      "source": [
        "One thing you might notice is that we never specify `requires_grad=True`\n",
        "for the model's layers. Within a subclass of `torch.nn.Module`, it's\n",
        "assumed that we want to track gradients on the layers' weights for\n",
        "learning.\n",
        "\n",
        "If we look at the layers of the model, we can examine the values of the\n",
        "weights, and verify that no gradients have been computed yet:\n"
      ]
    },
    {
      "cell_type": "code",
      "execution_count": 67,
      "metadata": {
        "colab": {
          "base_uri": "https://localhost:8080/"
        },
        "id": "0wjtT4m-Osri",
        "outputId": "6a26b918-7940-4bd9-893f-0f226e7c9f54"
      },
      "outputs": [
        {
          "output_type": "stream",
          "name": "stdout",
          "text": [
            "tensor([-0.0578,  0.0164, -0.0324,  0.0208,  0.0642, -0.0139,  0.0779,  0.0258,\n",
            "        -0.0904, -0.0791], grad_fn=<SliceBackward0>)\n",
            "None\n"
          ]
        }
      ],
      "source": [
        "print(model.layer2.weight[0][0:10]) # just a small slice\n",
        "print(model.layer2.weight.grad)"
      ]
    },
    {
      "cell_type": "markdown",
      "metadata": {
        "id": "cfnEM5y5Osri"
      },
      "source": [
        "Let's see how this changes when we run through one training batch. For a\n",
        "loss function, we'll just use the square of the Euclidean distance\n",
        "between our `prediction` and the `ideal_output`, and we'll use a basic\n",
        "stochastic gradient descent optimizer.\n"
      ]
    },
    {
      "cell_type": "code",
      "execution_count": 68,
      "metadata": {
        "colab": {
          "base_uri": "https://localhost:8080/"
        },
        "id": "jSWWMqDROsri",
        "outputId": "c7cf2d6d-6759-4e9b-b911-212cccb95e39"
      },
      "outputs": [
        {
          "output_type": "stream",
          "name": "stdout",
          "text": [
            "tensor(196.7258, grad_fn=<SumBackward0>)\n"
          ]
        }
      ],
      "source": [
        "optimizer = torch.optim.SGD(model.parameters(), lr=0.005)\n",
        "\n",
        "prediction = model(some_input)\n",
        "\n",
        "loss = (ideal_output - prediction).pow(2).sum()\n",
        "print(loss)"
      ]
    },
    {
      "cell_type": "markdown",
      "metadata": {
        "id": "1q9HxvlSOsri"
      },
      "source": [
        "Now, let's call `loss.backward()` and see what happens:\n"
      ]
    },
    {
      "cell_type": "code",
      "execution_count": 69,
      "metadata": {
        "colab": {
          "base_uri": "https://localhost:8080/"
        },
        "id": "EwJNi9JgOsri",
        "outputId": "2ce534c5-0529-44b3-b699-f07ae9b3a8df"
      },
      "outputs": [
        {
          "output_type": "stream",
          "name": "stdout",
          "text": [
            "tensor([-0.0578,  0.0164, -0.0324,  0.0208,  0.0642, -0.0139,  0.0779,  0.0258,\n",
            "        -0.0904, -0.0791], grad_fn=<SliceBackward0>)\n",
            "tensor([6.3177, 8.6403, 6.8705, 0.2129, 1.1862, 4.9568, 3.0792, 7.8493, 1.8272,\n",
            "        8.8125])\n"
          ]
        }
      ],
      "source": [
        "loss.backward()\n",
        "print(model.layer2.weight[0][0:10])\n",
        "print(model.layer2.weight.grad[0][0:10])"
      ]
    },
    {
      "cell_type": "markdown",
      "metadata": {
        "id": "nK9zyU6BOsri"
      },
      "source": [
        "We can see that the gradients have been computed for each learning\n",
        "weight, but the weights remain unchanged, because we haven't run the\n",
        "optimizer yet. The optimizer is responsible for updating model weights\n",
        "based on the computed gradients.\n"
      ]
    },
    {
      "cell_type": "code",
      "execution_count": 70,
      "metadata": {
        "colab": {
          "base_uri": "https://localhost:8080/"
        },
        "id": "L-_ZF4yGOsri",
        "outputId": "ac8af052-0ba2-48f0-fbb7-3f47e3a4cc1c"
      },
      "outputs": [
        {
          "output_type": "stream",
          "name": "stdout",
          "text": [
            "tensor([-0.0894, -0.0268, -0.0667,  0.0197,  0.0583, -0.0387,  0.0625, -0.0134,\n",
            "        -0.0995, -0.1232], grad_fn=<SliceBackward0>)\n",
            "tensor([6.3177, 8.6403, 6.8705, 0.2129, 1.1862, 4.9568, 3.0792, 7.8493, 1.8272,\n",
            "        8.8125])\n"
          ]
        }
      ],
      "source": [
        "optimizer.step()\n",
        "print(model.layer2.weight[0][0:10])\n",
        "print(model.layer2.weight.grad[0][0:10])"
      ]
    },
    {
      "cell_type": "markdown",
      "metadata": {
        "id": "bd2RGtGXOsri"
      },
      "source": [
        "You should see that `layer2`'s weights have changed.\n",
        "\n",
        "One important thing about the process: After calling `optimizer.step()`,\n",
        "you need to call `optimizer.zero_grad()`, or else every time you run\n",
        "`loss.backward()`, the gradients on the learning weights will\n",
        "accumulate:\n"
      ]
    },
    {
      "cell_type": "code",
      "execution_count": null,
      "metadata": {
        "id": "qJnY4LWLOsrj"
      },
      "outputs": [],
      "source": [
        "print(model.layer2.weight.grad[0][0:10])\n",
        "\n",
        "for i in range(0, 5):\n",
        "    prediction = model(some_input)\n",
        "    loss = (ideal_output - prediction).pow(2).sum()\n",
        "    loss.backward()\n",
        "\n",
        "print(model.layer2.weight.grad[0][0:10])\n",
        "\n",
        "optimizer.zero_grad(set_to_none=False)\n",
        "\n",
        "print(model.layer2.weight.grad[0][0:10])"
      ]
    },
    {
      "cell_type": "markdown",
      "metadata": {
        "id": "mWsVdaAvOsrj"
      },
      "source": [
        "After running the cell above, you should see that after running\n",
        "`loss.backward()` multiple times, the magnitudes of most of the\n",
        "gradients will be much larger. Failing to zero the gradients before\n",
        "running your next training batch will cause the gradients to blow up in\n",
        "this manner, causing incorrect and unpredictable learning results.\n",
        "\n",
        "Turning Autograd Off and On\n",
        "===========================\n",
        "\n",
        "There are situations where you will need fine-grained control over\n",
        "whether autograd is enabled. There are multiple ways to do this,\n",
        "depending on the situation.\n",
        "\n",
        "The simplest is to change the `requires_grad` flag on a tensor directly:\n"
      ]
    },
    {
      "cell_type": "code",
      "execution_count": 72,
      "metadata": {
        "colab": {
          "base_uri": "https://localhost:8080/"
        },
        "id": "uHdisLQJOsrj",
        "outputId": "0b48d1d3-a9d4-40b8-c849-428fad941a77"
      },
      "outputs": [
        {
          "output_type": "stream",
          "name": "stdout",
          "text": [
            "tensor([[1., 1., 1.],\n",
            "        [1., 1., 1.]], requires_grad=True)\n",
            "tensor([[2., 2., 2.],\n",
            "        [2., 2., 2.]], grad_fn=<MulBackward0>)\n",
            "tensor([[2., 2., 2.],\n",
            "        [2., 2., 2.]])\n"
          ]
        }
      ],
      "source": [
        "a = torch.ones(2, 3, requires_grad=True)\n",
        "print(a)\n",
        "\n",
        "b1 = 2 * a\n",
        "print(b1)\n",
        "\n",
        "a.requires_grad = False\n",
        "b2 = 2 * a\n",
        "print(b2)"
      ]
    },
    {
      "cell_type": "markdown",
      "metadata": {
        "id": "w4n1jsR7Osrj"
      },
      "source": [
        "In the cell above, we see that `b1` has a `grad_fn` (i.e., a traced\n",
        "computation history), which is what we expect, since it was derived from\n",
        "a tensor, `a`, that had autograd turned on. When we turn off autograd\n",
        "explicitly with `a.requires_grad = False`, computation history is no\n",
        "longer tracked, as we see when we compute `b2`.\n",
        "\n",
        "If you only need autograd turned off temporarily, a better way is to use\n",
        "the `torch.no_grad()`:\n"
      ]
    },
    {
      "cell_type": "code",
      "execution_count": 73,
      "metadata": {
        "colab": {
          "base_uri": "https://localhost:8080/"
        },
        "id": "Fn8E5akzOsrj",
        "outputId": "9790cacc-5c50-47d9-d074-97053340c3a5"
      },
      "outputs": [
        {
          "output_type": "stream",
          "name": "stdout",
          "text": [
            "tensor([[5., 5., 5.],\n",
            "        [5., 5., 5.]], grad_fn=<AddBackward0>)\n",
            "tensor([[5., 5., 5.],\n",
            "        [5., 5., 5.]])\n",
            "tensor([[6., 6., 6.],\n",
            "        [6., 6., 6.]], grad_fn=<MulBackward0>)\n"
          ]
        }
      ],
      "source": [
        "a = torch.ones(2, 3, requires_grad=True) * 2\n",
        "b = torch.ones(2, 3, requires_grad=True) * 3\n",
        "\n",
        "c1 = a + b\n",
        "print(c1)\n",
        "\n",
        "with torch.no_grad():\n",
        "    c2 = a + b\n",
        "\n",
        "print(c2)\n",
        "\n",
        "c3 = a * b\n",
        "print(c3)"
      ]
    },
    {
      "cell_type": "markdown",
      "metadata": {
        "id": "9MS6LyXbOsrj"
      },
      "source": [
        "`torch.no_grad()` can also be used as a function or method decorator:\n"
      ]
    },
    {
      "cell_type": "code",
      "execution_count": 74,
      "metadata": {
        "colab": {
          "base_uri": "https://localhost:8080/"
        },
        "id": "_FHhJhTlOsrj",
        "outputId": "20dcd661-ab51-4ced-a317-d3625674e121"
      },
      "outputs": [
        {
          "output_type": "stream",
          "name": "stdout",
          "text": [
            "tensor([[5., 5., 5.],\n",
            "        [5., 5., 5.]], grad_fn=<AddBackward0>)\n",
            "tensor([[5., 5., 5.],\n",
            "        [5., 5., 5.]])\n"
          ]
        }
      ],
      "source": [
        "def add_tensors1(x, y):\n",
        "    return x + y\n",
        "\n",
        "@torch.no_grad()\n",
        "def add_tensors2(x, y):\n",
        "    return x + y\n",
        "\n",
        "\n",
        "a = torch.ones(2, 3, requires_grad=True) * 2\n",
        "b = torch.ones(2, 3, requires_grad=True) * 3\n",
        "\n",
        "c1 = add_tensors1(a, b)\n",
        "print(c1)\n",
        "\n",
        "c2 = add_tensors2(a, b)\n",
        "print(c2)"
      ]
    },
    {
      "cell_type": "markdown",
      "metadata": {
        "id": "7VmyXu-_Osrj"
      },
      "source": [
        "There's a corresponding context manager, `torch.enable_grad()`, for\n",
        "turning autograd on when it isn't already. It may also be used as a\n",
        "decorator.\n",
        "\n",
        "Finally, you may have a tensor that requires gradient tracking, but you\n",
        "want a copy that does not. For this we have the `Tensor` object's\n",
        "`detach()` method - it creates a copy of the tensor that is *detached*\n",
        "from the computation history:\n"
      ]
    },
    {
      "cell_type": "code",
      "execution_count": 75,
      "metadata": {
        "colab": {
          "base_uri": "https://localhost:8080/"
        },
        "id": "ZS9CviqPOsrj",
        "outputId": "def89a12-4cac-4f19-b786-56e428463c44"
      },
      "outputs": [
        {
          "output_type": "stream",
          "name": "stdout",
          "text": [
            "tensor([0.1783, 0.2207, 0.4478, 0.2368, 0.8141], requires_grad=True)\n",
            "tensor([0.1783, 0.2207, 0.4478, 0.2368, 0.8141])\n"
          ]
        }
      ],
      "source": [
        "x = torch.rand(5, requires_grad=True)\n",
        "y = x.detach()\n",
        "\n",
        "print(x)\n",
        "print(y)"
      ]
    },
    {
      "cell_type": "markdown",
      "metadata": {
        "id": "6Z7DMSgqOsrj"
      },
      "source": [
        "We did this above when we wanted to graph some of our tensors. This is\n",
        "because `matplotlib` expects a NumPy array as input, and the implicit\n",
        "conversion from a PyTorch tensor to a NumPy array is not enabled for\n",
        "tensors with requires\\_grad=True. Making a detached copy lets us move\n",
        "forward.\n",
        "\n",
        "Autograd and In-place Operations\n",
        "================================\n",
        "\n",
        "In every example in this notebook so far, we've used variables to\n",
        "capture the intermediate values of a computation. Autograd needs these\n",
        "intermediate values to perform gradient computations. *For this reason,\n",
        "you must be careful about using in-place operations when using\n",
        "autograd.* Doing so can destroy information you need to compute\n",
        "derivatives in the `backward()` call. PyTorch will even stop you if you\n",
        "attempt an in-place operation on leaf variable that requires autograd,\n",
        "as shown below.\n",
        "\n",
        "<div style=\"background-color: #54c7ec; color: #fff; font-weight: 700; padding-left: 10px; padding-top: 5px; padding-bottom: 5px\"><strong>NOTE:</strong></div>\n",
        "\n",
        "<div style=\"background-color: #f3f4f7; padding-left: 10px; padding-top: 10px; padding-bottom: 10px; padding-right: 10px\">\n",
        "\n",
        "<p>The following code cell throws a runtime error. This is expected.<pre><code>a = torch.linspace(0., 2. * math.pi, steps=25, requires_grad=True)\n",
        "torch.sin_(a)</code></pre></p>\n",
        "\n",
        "</div>\n",
        "\n"
      ]
    },
    {
      "cell_type": "markdown",
      "metadata": {
        "id": "XkT_TZVEOsro"
      },
      "source": [
        "Autograd Profiler\n",
        "=================\n",
        "\n",
        "Autograd tracks every step of your computation in detail. Such a\n",
        "computation history, combined with timing information, would make a\n",
        "handy profiler - and autograd has that feature baked in. Here's a quick\n",
        "example usage:\n"
      ]
    },
    {
      "cell_type": "code",
      "execution_count": 76,
      "metadata": {
        "colab": {
          "base_uri": "https://localhost:8080/"
        },
        "id": "8K2HlqmVOsro",
        "outputId": "7971445d-794b-468e-94ac-e42131913742"
      },
      "outputs": [
        {
          "output_type": "stream",
          "name": "stderr",
          "text": [
            "<ipython-input-76-cb25284932df>:11: FutureWarning: The attribute `use_cuda` will be deprecated soon, please use ``use_device = 'cuda'`` instead.\n",
            "  with torch.autograd.profiler.profile(use_cuda=run_on_gpu) as prf:\n"
          ]
        },
        {
          "output_type": "stream",
          "name": "stdout",
          "text": [
            "-------------------------  ------------  ------------  ------------  ------------  ------------  ------------  ------------  ------------  ------------  ------------  \n",
            "                     Name    Self CPU %      Self CPU   CPU total %     CPU total  CPU time avg     Self CUDA   Self CUDA %    CUDA total  CUDA time avg    # of Calls  \n",
            "-------------------------  ------------  ------------  ------------  ------------  ------------  ------------  ------------  ------------  ------------  ------------  \n",
            "          cudaEventRecord        39.60%       5.848ms        39.60%       5.848ms       1.462us       0.000us         0.00%       0.000us       0.000us          4000  \n",
            "                aten::mul        30.62%       4.521ms        30.62%       4.521ms       4.521us       7.845ms        50.93%       7.845ms       7.845us          1000  \n",
            "                aten::div        29.69%       4.385ms        29.69%       4.385ms       4.385us       7.558ms        49.07%       7.558ms       7.558us          1000  \n",
            "    cudaDeviceSynchronize         0.09%      12.784us         0.09%      12.784us      12.784us       0.000us         0.00%       0.000us       0.000us             1  \n",
            "-------------------------  ------------  ------------  ------------  ------------  ------------  ------------  ------------  ------------  ------------  ------------  \n",
            "Self CPU time total: 14.767ms\n",
            "Self CUDA time total: 15.403ms\n",
            "\n"
          ]
        }
      ],
      "source": [
        "device = torch.device('cpu')\n",
        "run_on_gpu = False\n",
        "if torch.cuda.is_available():\n",
        "    device = torch.device('cuda')\n",
        "    run_on_gpu = True\n",
        "\n",
        "x = torch.randn(2, 3, requires_grad=True)\n",
        "y = torch.rand(2, 3, requires_grad=True)\n",
        "z = torch.ones(2, 3, requires_grad=True)\n",
        "\n",
        "with torch.autograd.profiler.profile(use_cuda=run_on_gpu) as prf:\n",
        "    for _ in range(1000):\n",
        "        z = (z / x) * y\n",
        "\n",
        "print(prf.key_averages().table(sort_by='self_cpu_time_total'))"
      ]
    },
    {
      "cell_type": "markdown",
      "metadata": {
        "id": "NXcNax5WOsro"
      },
      "source": [
        "The profiler can also label individual sub-blocks of code, break out the\n",
        "data by input tensor shape, and export data as a Chrome tracing tools\n",
        "file. For full details of the API, see the\n",
        "[documentation](https://pytorch.org/docs/stable/autograd.html#profiler).\n",
        "\n",
        "Advanced Topic: More Autograd Detail and the High-Level API\n",
        "===========================================================\n",
        "\n",
        "If you have a function with an n-dimensional input and m-dimensional\n",
        "output, $\\vec{y}=f(\\vec{x})$, the complete gradient is a matrix of the\n",
        "derivative of every output with respect to every input, called the\n",
        "*Jacobian:*\n",
        "\n",
        "$$\\begin{aligned}\n",
        "J\n",
        "=\n",
        "\\left(\\begin{array}{ccc}\n",
        "\\frac{\\partial y_{1}}{\\partial x_{1}} & \\cdots & \\frac{\\partial y_{1}}{\\partial x_{n}}\\\\\n",
        "\\vdots & \\ddots & \\vdots\\\\\n",
        "\\frac{\\partial y_{m}}{\\partial x_{1}} & \\cdots & \\frac{\\partial y_{m}}{\\partial x_{n}}\n",
        "\\end{array}\\right)\n",
        "\\end{aligned}$$\n",
        "\n",
        "If you have a second function, $l=g\\left(\\vec{y}\\right)$ that takes\n",
        "m-dimensional input (that is, the same dimensionality as the output\n",
        "above), and returns a scalar output, you can express its gradients with\n",
        "respect to $\\vec{y}$ as a column vector,\n",
        "$v=\\left(\\begin{array}{ccc}\\frac{\\partial l}{\\partial y_{1}} & \\cdots & \\frac{\\partial l}{\\partial y_{m}}\\end{array}\\right)^{T}$\n",
        "- which is really just a one-column Jacobian.\n",
        "\n",
        "More concretely, imagine the first function as your PyTorch model (with\n",
        "potentially many inputs and many outputs) and the second function as a\n",
        "loss function (with the model's output as input, and the loss value as\n",
        "the scalar output).\n",
        "\n",
        "If we multiply the first function's Jacobian by the gradient of the\n",
        "second function, and apply the chain rule, we get:\n",
        "\n",
        "$$\\begin{aligned}\n",
        "J^{T}\\cdot v=\\left(\\begin{array}{ccc}\n",
        "\\frac{\\partial y_{1}}{\\partial x_{1}} & \\cdots & \\frac{\\partial y_{m}}{\\partial x_{1}}\\\\\n",
        "\\vdots & \\ddots & \\vdots\\\\\n",
        "\\frac{\\partial y_{1}}{\\partial x_{n}} & \\cdots & \\frac{\\partial y_{m}}{\\partial x_{n}}\n",
        "\\end{array}\\right)\\left(\\begin{array}{c}\n",
        "\\frac{\\partial l}{\\partial y_{1}}\\\\\n",
        "\\vdots\\\\\n",
        "\\frac{\\partial l}{\\partial y_{m}}\n",
        "\\end{array}\\right)=\\left(\\begin{array}{c}\n",
        "\\frac{\\partial l}{\\partial x_{1}}\\\\\n",
        "\\vdots\\\\\n",
        "\\frac{\\partial l}{\\partial x_{n}}\n",
        "\\end{array}\\right)\n",
        "\\end{aligned}$$\n",
        "\n",
        "Note: You could also use the equivalent operation $v^{T}\\cdot J$, and\n",
        "get back a row vector.\n",
        "\n",
        "The resulting column vector is the *gradient of the second function with\n",
        "respect to the inputs of the first* - or in the case of our model and\n",
        "loss function, the gradient of the loss with respect to the model\n",
        "inputs.\n",
        "\n",
        "**\\`\\`torch.autograd\\`\\` is an engine for computing these products.**\n",
        "This is how we accumulate the gradients over the learning weights during\n",
        "the backward pass.\n",
        "\n",
        "For this reason, the `backward()` call can *also* take an optional\n",
        "vector input. This vector represents a set of gradients over the tensor,\n",
        "which are multiplied by the Jacobian of the autograd-traced tensor that\n",
        "precedes it. Let's try a specific example with a small vector:\n"
      ]
    },
    {
      "cell_type": "code",
      "execution_count": 77,
      "metadata": {
        "colab": {
          "base_uri": "https://localhost:8080/"
        },
        "id": "eGcCwh0IOsro",
        "outputId": "62a06f24-fcca-4853-9da7-e887e3160249"
      },
      "outputs": [
        {
          "output_type": "stream",
          "name": "stdout",
          "text": [
            "tensor([1465.6471,  361.6230,  506.8873], grad_fn=<MulBackward0>)\n"
          ]
        }
      ],
      "source": [
        "x = torch.randn(3, requires_grad=True)\n",
        "\n",
        "y = x * 2\n",
        "while y.data.norm() < 1000:\n",
        "    y = y * 2\n",
        "\n",
        "print(y)"
      ]
    },
    {
      "cell_type": "markdown",
      "metadata": {
        "id": "TCjSTDDMOsro"
      },
      "source": [
        "If we tried to call `y.backward()` now, we'd get a runtime error and a\n",
        "message that gradients can only be *implicitly* computed for scalar\n",
        "outputs. For a multi-dimensional output, autograd expects us to provide\n",
        "gradients for those three outputs that it can multiply into the\n",
        "Jacobian:\n"
      ]
    },
    {
      "cell_type": "code",
      "execution_count": 78,
      "metadata": {
        "colab": {
          "base_uri": "https://localhost:8080/"
        },
        "id": "_3U9jXdcOsro",
        "outputId": "9c4d2608-0673-4a07-b097-b7f47d0669eb"
      },
      "outputs": [
        {
          "output_type": "stream",
          "name": "stdout",
          "text": [
            "tensor([2.0480e+02, 2.0480e+03, 2.0480e-01])\n"
          ]
        }
      ],
      "source": [
        "v = torch.tensor([0.1, 1.0, 0.0001], dtype=torch.float) # stand-in for gradients\n",
        "y.backward(v)\n",
        "\n",
        "print(x.grad)"
      ]
    },
    {
      "cell_type": "markdown",
      "metadata": {
        "id": "TAyw_1B3Osro"
      },
      "source": [
        "(Note that the output gradients are all related to powers of two - which\n",
        "we'd expect from a repeated doubling operation.)\n",
        "\n",
        "The High-Level API\n",
        "==================\n",
        "\n",
        "There is an API on autograd that gives you direct access to important\n",
        "differential matrix and vector operations. In particular, it allows you\n",
        "to calculate the Jacobian and the *Hessian* matrices of a particular\n",
        "function for particular inputs. (The Hessian is like the Jacobian, but\n",
        "expresses all partial *second* derivatives.) It also provides methods\n",
        "for taking vector products with these matrices.\n",
        "\n",
        "Let's take the Jacobian of a simple function, evaluated for a 2\n",
        "single-element inputs:\n"
      ]
    },
    {
      "cell_type": "code",
      "execution_count": 79,
      "metadata": {
        "colab": {
          "base_uri": "https://localhost:8080/"
        },
        "id": "XHFE606ZOsro",
        "outputId": "cab05c6c-193f-4b8c-c003-0710097cacf2"
      },
      "outputs": [
        {
          "output_type": "stream",
          "name": "stdout",
          "text": [
            "(tensor([0.3736]), tensor([0.9641]))\n"
          ]
        },
        {
          "output_type": "execute_result",
          "data": {
            "text/plain": [
              "(tensor([[2.9060]]), tensor([[3.]]))"
            ]
          },
          "metadata": {},
          "execution_count": 79
        }
      ],
      "source": [
        "def exp_adder(x, y):\n",
        "    return 2 * x.exp() + 3 * y\n",
        "\n",
        "inputs = (torch.rand(1), torch.rand(1)) # arguments for the function\n",
        "print(inputs)\n",
        "torch.autograd.functional.jacobian(exp_adder, inputs)"
      ]
    },
    {
      "cell_type": "markdown",
      "metadata": {
        "id": "75nOaik5Osro"
      },
      "source": [
        "If you look closely, the first output should equal $2e^x$ (since the\n",
        "derivative of $e^x$ is $e^x$), and the second value should be 3.\n",
        "\n",
        "You can, of course, do this with higher-order tensors:\n"
      ]
    },
    {
      "cell_type": "code",
      "execution_count": 80,
      "metadata": {
        "colab": {
          "base_uri": "https://localhost:8080/"
        },
        "id": "7OXPn_dPOsro",
        "outputId": "97817b34-d33d-4cb8-bae8-5382d46ca08e"
      },
      "outputs": [
        {
          "output_type": "stream",
          "name": "stdout",
          "text": [
            "(tensor([0.3364, 0.4112, 0.4752]), tensor([0.4107, 0.8640, 0.6348]))\n"
          ]
        },
        {
          "output_type": "execute_result",
          "data": {
            "text/plain": [
              "(tensor([[2.7997, 0.0000, 0.0000],\n",
              "         [0.0000, 3.0174, 0.0000],\n",
              "         [0.0000, 0.0000, 3.2168]]),\n",
              " tensor([[3., 0., 0.],\n",
              "         [0., 3., 0.],\n",
              "         [0., 0., 3.]]))"
            ]
          },
          "metadata": {},
          "execution_count": 80
        }
      ],
      "source": [
        "inputs = (torch.rand(3), torch.rand(3)) # arguments for the function\n",
        "print(inputs)\n",
        "torch.autograd.functional.jacobian(exp_adder, inputs)"
      ]
    },
    {
      "cell_type": "markdown",
      "metadata": {
        "id": "L0ijP6McOsro"
      },
      "source": [
        "The `torch.autograd.functional.hessian()` method works identically\n",
        "(assuming your function is twice differentiable), but returns a matrix\n",
        "of all second derivatives.\n",
        "\n",
        "There is also a function to directly compute the vector-Jacobian\n",
        "product, if you provide the vector:\n"
      ]
    },
    {
      "cell_type": "code",
      "execution_count": 81,
      "metadata": {
        "colab": {
          "base_uri": "https://localhost:8080/"
        },
        "id": "ye0rU8aEOsrp",
        "outputId": "b8883b2b-5dfe-4525-c344-020c77896be7"
      },
      "outputs": [
        {
          "output_type": "execute_result",
          "data": {
            "text/plain": [
              "(tensor([ 509.9130, -536.9694,  703.9870]),\n",
              " tensor([1.0240e+02, 1.0240e+03, 1.0240e-01]))"
            ]
          },
          "metadata": {},
          "execution_count": 81
        }
      ],
      "source": [
        "def do_some_doubling(x):\n",
        "    y = x * 2\n",
        "    while y.data.norm() < 1000:\n",
        "        y = y * 2\n",
        "    return y\n",
        "\n",
        "inputs = torch.randn(3)\n",
        "my_gradients = torch.tensor([0.1, 1.0, 0.0001])\n",
        "torch.autograd.functional.vjp(do_some_doubling, inputs, v=my_gradients)"
      ]
    },
    {
      "cell_type": "markdown",
      "metadata": {
        "id": "7PdwkeAqOsrp"
      },
      "source": [
        "The `torch.autograd.functional.jvp()` method performs the same matrix\n",
        "multiplication as `vjp()` with the operands reversed. The `vhp()` and\n",
        "`hvp()` methods do the same for a vector-Hessian product.\n",
        "\n",
        "For more information, including performance notes on the [docs for the\n",
        "functional\n",
        "API](https://pytorch.org/docs/stable/autograd.html#functional-higher-level-api)\n"
      ]
    },
    {
      "cell_type": "code",
      "execution_count": null,
      "metadata": {
        "id": "3yerU0xRQsZD"
      },
      "outputs": [],
      "source": [
        "# For tips on running notebooks in Google Colab, see\n",
        "# https://pytorch.org/tutorials/beginner/colab\n",
        "%matplotlib inline"
      ]
    },
    {
      "cell_type": "markdown",
      "metadata": {
        "id": "QJ9VuLL3QsZE"
      },
      "source": [
        "[Introduction](introyt1_tutorial.html) \\|\\|\n",
        "[Tensors](tensors_deeper_tutorial.html) \\|\\|\n",
        "[Autograd](autogradyt_tutorial.html) \\|\\| **Building Models** \\|\\|\n",
        "[TensorBoard Support](tensorboardyt_tutorial.html) \\|\\| [Training\n",
        "Models](trainingyt.html) \\|\\| [Model Understanding](captumyt.html)\n",
        "\n",
        "Building Models with PyTorch\n",
        "============================\n",
        "\n",
        "Follow along with the video below or on\n",
        "[youtube](https://www.youtube.com/watch?v=OSqIP-mOWOI).\n",
        "\n",
        "``` {.python .jupyter-code-cell}\n",
        "from IPython.display import display, HTML\n",
        "html_code = \"\"\"\n",
        "<div style=\"margin-top:10px; margin-bottom:10px;\">\n",
        "  <iframe width=\"560\" height=\"315\" src=\"https://www.youtube.com/embed/OSqIP-mOWOI\" frameborder=\"0\" allow=\"accelerometer; encrypted-media; gyroscope; picture-in-picture\" allowfullscreen></iframe>\n",
        "</div>\n",
        "\"\"\"\n",
        "display(HTML(html_code))\n",
        "```\n",
        "\n",
        "`torch.nn.Module` and `torch.nn.Parameter`\n",
        "------------------------------------------\n",
        "\n",
        "In this video, we'll be discussing some of the tools PyTorch makes\n",
        "available for building deep learning networks.\n",
        "\n",
        "Except for `Parameter`, the classes we discuss in this video are all\n",
        "subclasses of `torch.nn.Module`. This is the PyTorch base class meant to\n",
        "encapsulate behaviors specific to PyTorch Models and their components.\n",
        "\n",
        "One important behavior of `torch.nn.Module` is registering parameters.\n",
        "If a particular `Module` subclass has learning weights, these weights\n",
        "are expressed as instances of `torch.nn.Parameter`. The `Parameter`\n",
        "class is a subclass of `torch.Tensor`, with the special behavior that\n",
        "when they are assigned as attributes of a `Module`, they are added to\n",
        "the list of that modules parameters. These parameters may be accessed\n",
        "through the `parameters()` method on the `Module` class.\n",
        "\n",
        "As a simple example, here's a very simple model with two linear layers\n",
        "and an activation function. We'll create an instance of it and ask it to\n",
        "report on its parameters:\n"
      ]
    },
    {
      "cell_type": "code",
      "execution_count": 82,
      "metadata": {
        "colab": {
          "base_uri": "https://localhost:8080/"
        },
        "id": "0KIRUD7pQsZF",
        "outputId": "578542f8-0d71-4541-f2c6-94addcd41e8f"
      },
      "outputs": [
        {
          "output_type": "stream",
          "name": "stdout",
          "text": [
            "The model:\n",
            "TinyModel(\n",
            "  (linear1): Linear(in_features=100, out_features=200, bias=True)\n",
            "  (activation): ReLU()\n",
            "  (linear2): Linear(in_features=200, out_features=10, bias=True)\n",
            "  (softmax): Softmax(dim=None)\n",
            ")\n",
            "\n",
            "\n",
            "Just one layer:\n",
            "Linear(in_features=200, out_features=10, bias=True)\n",
            "\n",
            "\n",
            "Model params:\n",
            "Parameter containing:\n",
            "tensor([[-0.0660,  0.0478, -0.0288,  ...,  0.0162,  0.0195,  0.0897],\n",
            "        [ 0.0243, -0.0374, -0.0433,  ...,  0.0417,  0.0148, -0.0725],\n",
            "        [-0.0959, -0.0544, -0.0092,  ..., -0.0745,  0.0534,  0.0166],\n",
            "        ...,\n",
            "        [ 0.0981,  0.0826, -0.0586,  ...,  0.0799,  0.0394, -0.0395],\n",
            "        [-0.0136, -0.0432, -0.0400,  ...,  0.0031,  0.0923, -0.0946],\n",
            "        [-0.0271, -0.0012, -0.0947,  ...,  0.0419,  0.0254,  0.0930]],\n",
            "       requires_grad=True)\n",
            "Parameter containing:\n",
            "tensor([ 0.0508,  0.0166, -0.0871, -0.0174,  0.0944,  0.0273,  0.0831, -0.0961,\n",
            "         0.0085, -0.0208, -0.0344, -0.0505,  0.0488, -0.0067, -0.0428,  0.0489,\n",
            "         0.0444,  0.0900,  0.0620,  0.0518,  0.0936,  0.0831, -0.0188,  0.0487,\n",
            "         0.0976, -0.0658, -0.0008,  0.0974,  0.0943,  0.0274,  0.0654, -0.0064,\n",
            "        -0.0286, -0.0274, -0.0914, -0.0295, -0.0918,  0.0126, -0.0914,  0.0324,\n",
            "        -0.0845, -0.0933, -0.0107, -0.0260, -0.0272, -0.0226, -0.0708, -0.0375,\n",
            "         0.0626, -0.0573,  0.0087,  0.0425, -0.0119,  0.0218, -0.0204,  0.0630,\n",
            "         0.0199,  0.0534, -0.0339,  0.0184, -0.0961, -0.0280, -0.0947, -0.0182,\n",
            "         0.0255,  0.0232, -0.0980, -0.0029,  0.0418,  0.0786, -0.0464, -0.0401,\n",
            "        -0.0466, -0.0679, -0.0880,  0.0613, -0.0541,  0.0822, -0.0488,  0.0615,\n",
            "        -0.0558,  0.0436, -0.0804, -0.0443, -0.0346,  0.0037,  0.0609,  0.0635,\n",
            "         0.0412,  0.0717,  0.0372,  0.0436,  0.0131, -0.0135, -0.0592,  0.0979,\n",
            "        -0.0607,  0.0519, -0.0516,  0.0992, -0.0806, -0.0536,  0.0081, -0.0989,\n",
            "         0.0762, -0.0175, -0.0036,  0.0903, -0.0188, -0.0362,  0.0362, -0.0368,\n",
            "         0.0481, -0.0482, -0.0296, -0.0913, -0.0233,  0.0788, -0.0173,  0.0784,\n",
            "         0.0419, -0.0348, -0.0566,  0.0089, -0.0638, -0.0538,  0.0106,  0.0749,\n",
            "         0.0833, -0.0628, -0.0671, -0.0667, -0.0660,  0.0471,  0.0524, -0.0149,\n",
            "         0.0091, -0.0272, -0.0179,  0.0645, -0.0826, -0.0657, -0.0975,  0.0900,\n",
            "        -0.0589,  0.0145, -0.0148,  0.0151, -0.0835,  0.0761,  0.0319,  0.0163,\n",
            "         0.0007,  0.0666,  0.0438,  0.0546,  0.0622, -0.0134, -0.0880,  0.0924,\n",
            "        -0.0757, -0.0539, -0.0582,  0.0412, -0.0884, -0.0379,  0.0885, -0.0890,\n",
            "         0.0370, -0.0286,  0.0728,  0.0263,  0.0394, -0.0275, -0.0340,  0.0825,\n",
            "         0.0046,  0.0753,  0.0476,  0.0273, -0.0112, -0.0375, -0.0626,  0.0332,\n",
            "         0.0810,  0.0687,  0.0430, -0.0312, -0.0992, -0.0293,  0.0835,  0.0514,\n",
            "         0.0659, -0.0692, -0.0083, -0.0772,  0.0640,  0.0448,  0.0126, -0.0147],\n",
            "       requires_grad=True)\n",
            "Parameter containing:\n",
            "tensor([[-0.0095,  0.0491,  0.0389,  ..., -0.0261, -0.0254, -0.0296],\n",
            "        [ 0.0569,  0.0664,  0.0654,  ..., -0.0340, -0.0270,  0.0044],\n",
            "        [ 0.0157,  0.0054, -0.0057,  ..., -0.0324,  0.0201,  0.0667],\n",
            "        ...,\n",
            "        [ 0.0564,  0.0322, -0.0571,  ..., -0.0148, -0.0233,  0.0046],\n",
            "        [-0.0074, -0.0413, -0.0116,  ...,  0.0612, -0.0358,  0.0184],\n",
            "        [ 0.0405, -0.0528, -0.0028,  ..., -0.0491,  0.0630,  0.0174]],\n",
            "       requires_grad=True)\n",
            "Parameter containing:\n",
            "tensor([-0.0026,  0.0279, -0.0503,  0.0022,  0.0102, -0.0437,  0.0277, -0.0479,\n",
            "         0.0144,  0.0184], requires_grad=True)\n",
            "\n",
            "\n",
            "Layer params:\n",
            "Parameter containing:\n",
            "tensor([[-0.0095,  0.0491,  0.0389,  ..., -0.0261, -0.0254, -0.0296],\n",
            "        [ 0.0569,  0.0664,  0.0654,  ..., -0.0340, -0.0270,  0.0044],\n",
            "        [ 0.0157,  0.0054, -0.0057,  ..., -0.0324,  0.0201,  0.0667],\n",
            "        ...,\n",
            "        [ 0.0564,  0.0322, -0.0571,  ..., -0.0148, -0.0233,  0.0046],\n",
            "        [-0.0074, -0.0413, -0.0116,  ...,  0.0612, -0.0358,  0.0184],\n",
            "        [ 0.0405, -0.0528, -0.0028,  ..., -0.0491,  0.0630,  0.0174]],\n",
            "       requires_grad=True)\n",
            "Parameter containing:\n",
            "tensor([-0.0026,  0.0279, -0.0503,  0.0022,  0.0102, -0.0437,  0.0277, -0.0479,\n",
            "         0.0144,  0.0184], requires_grad=True)\n"
          ]
        }
      ],
      "source": [
        "import torch\n",
        "\n",
        "class TinyModel(torch.nn.Module):\n",
        "\n",
        "    def __init__(self):\n",
        "        super(TinyModel, self).__init__()\n",
        "\n",
        "        self.linear1 = torch.nn.Linear(100, 200)\n",
        "        self.activation = torch.nn.ReLU()\n",
        "        self.linear2 = torch.nn.Linear(200, 10)\n",
        "        self.softmax = torch.nn.Softmax()\n",
        "\n",
        "    def forward(self, x):\n",
        "        x = self.linear1(x)\n",
        "        x = self.activation(x)\n",
        "        x = self.linear2(x)\n",
        "        x = self.softmax(x)\n",
        "        return x\n",
        "\n",
        "tinymodel = TinyModel()\n",
        "\n",
        "print('The model:')\n",
        "print(tinymodel)\n",
        "\n",
        "print('\\n\\nJust one layer:')\n",
        "print(tinymodel.linear2)\n",
        "\n",
        "print('\\n\\nModel params:')\n",
        "for param in tinymodel.parameters():\n",
        "    print(param)\n",
        "\n",
        "print('\\n\\nLayer params:')\n",
        "for param in tinymodel.linear2.parameters():\n",
        "    print(param)"
      ]
    },
    {
      "cell_type": "markdown",
      "metadata": {
        "id": "sSlM3jEwQsZG"
      },
      "source": [
        "This shows the fundamental structure of a PyTorch model: there is an\n",
        "`__init__()` method that defines the layers and other components of a\n",
        "model, and a `forward()` method where the computation gets done. Note\n",
        "that we can print the model, or any of its submodules, to learn about\n",
        "its structure.\n",
        "\n",
        "Common Layer Types\n",
        "==================\n",
        "\n",
        "Linear Layers\n",
        "-------------\n",
        "\n",
        "The most basic type of neural network layer is a *linear* or *fully\n",
        "connected* layer. This is a layer where every input influences every\n",
        "output of the layer to a degree specified by the layer's weights. If a\n",
        "model has *m* inputs and *n* outputs, the weights will be an *m* x *n*\n",
        "matrix. For example:\n"
      ]
    },
    {
      "cell_type": "code",
      "execution_count": 83,
      "metadata": {
        "colab": {
          "base_uri": "https://localhost:8080/"
        },
        "id": "8VCAu9qvQsZG",
        "outputId": "f8dba1dd-2d59-4913-90f8-307fea275431"
      },
      "outputs": [
        {
          "output_type": "stream",
          "name": "stdout",
          "text": [
            "Input:\n",
            "tensor([[0.1372, 0.2218, 0.3781]])\n",
            "\n",
            "\n",
            "Weight and Bias parameters:\n",
            "Parameter containing:\n",
            "tensor([[-0.5340, -0.3371, -0.2644],\n",
            "        [ 0.4428,  0.1569, -0.0083]], requires_grad=True)\n",
            "Parameter containing:\n",
            "tensor([-0.3139,  0.3567], requires_grad=True)\n",
            "\n",
            "\n",
            "Output:\n",
            "tensor([[-0.5619,  0.4491]], grad_fn=<AddmmBackward0>)\n"
          ]
        }
      ],
      "source": [
        "lin = torch.nn.Linear(3, 2)\n",
        "x = torch.rand(1, 3)\n",
        "print('Input:')\n",
        "print(x)\n",
        "\n",
        "print('\\n\\nWeight and Bias parameters:')\n",
        "for param in lin.parameters():\n",
        "    print(param)\n",
        "\n",
        "y = lin(x)\n",
        "print('\\n\\nOutput:')\n",
        "print(y)"
      ]
    },
    {
      "cell_type": "markdown",
      "metadata": {
        "id": "bfd_OtpuQsZG"
      },
      "source": [
        "If you do the matrix multiplication of `x` by the linear layer's\n",
        "weights, and add the biases, you'll find that you get the output vector\n",
        "`y`.\n",
        "\n",
        "One other important feature to note: When we checked the weights of our\n",
        "layer with `lin.weight`, it reported itself as a `Parameter` (which is a\n",
        "subclass of `Tensor`), and let us know that it's tracking gradients with\n",
        "autograd. This is a default behavior for `Parameter` that differs from\n",
        "`Tensor`.\n",
        "\n",
        "Linear layers are used widely in deep learning models. One of the most\n",
        "common places you'll see them is in classifier models, which will\n",
        "usually have one or more linear layers at the end, where the last layer\n",
        "will have *n* outputs, where *n* is the number of classes the classifier\n",
        "addresses.\n",
        "\n",
        "Convolutional Layers\n",
        "====================\n",
        "\n",
        "*Convolutional* layers are built to handle data with a high degree of\n",
        "spatial correlation. They are very commonly used in computer vision,\n",
        "where they detect close groupings of features which the compose into\n",
        "higher-level features. They pop up in other contexts too - for example,\n",
        "in NLP applications, where a word's immediate context (that is, the\n",
        "other words nearby in the sequence) can affect the meaning of a\n",
        "sentence.\n",
        "\n",
        "We saw convolutional layers in action in LeNet5 in an earlier video:\n"
      ]
    },
    {
      "cell_type": "code",
      "execution_count": 84,
      "metadata": {
        "id": "nsoDM5KEQsZG"
      },
      "outputs": [],
      "source": [
        "import torch.functional as F\n",
        "\n",
        "\n",
        "class LeNet(torch.nn.Module):\n",
        "\n",
        "    def __init__(self):\n",
        "        super(LeNet, self).__init__()\n",
        "        # 1 input image channel (black & white), 6 output channels, 5x5 square convolution\n",
        "        # kernel\n",
        "        self.conv1 = torch.nn.Conv2d(1, 6, 5)\n",
        "        self.conv2 = torch.nn.Conv2d(6, 16, 3)\n",
        "        # an affine operation: y = Wx + b\n",
        "        self.fc1 = torch.nn.Linear(16 * 6 * 6, 120)  # 6*6 from image dimension\n",
        "        self.fc2 = torch.nn.Linear(120, 84)\n",
        "        self.fc3 = torch.nn.Linear(84, 10)\n",
        "\n",
        "    def forward(self, x):\n",
        "        # Max pooling over a (2, 2) window\n",
        "        x = F.max_pool2d(F.relu(self.conv1(x)), (2, 2))\n",
        "        # If the size is a square you can only specify a single number\n",
        "        x = F.max_pool2d(F.relu(self.conv2(x)), 2)\n",
        "        x = x.view(-1, self.num_flat_features(x))\n",
        "        x = F.relu(self.fc1(x))\n",
        "        x = F.relu(self.fc2(x))\n",
        "        x = self.fc3(x)\n",
        "        return x\n",
        "\n",
        "    def num_flat_features(self, x):\n",
        "        size = x.size()[1:]  # all dimensions except the batch dimension\n",
        "        num_features = 1\n",
        "        for s in size:\n",
        "            num_features *= s\n",
        "        return num_features"
      ]
    },
    {
      "cell_type": "markdown",
      "metadata": {
        "id": "wPB_NJMJQsZG"
      },
      "source": [
        "Let's break down what's happening in the convolutional layers of this\n",
        "model. Starting with `conv1`:\n",
        "\n",
        "-   LeNet5 is meant to take in a 1x32x32 black & white image. **The\n",
        "    first argument to a convolutional layer's constructor is the number\n",
        "    of input channels.** Here, it is 1. If we were building this model\n",
        "    to look at 3-color channels, it would be 3.\n",
        "-   A convolutional layer is like a window that scans over the image,\n",
        "    looking for a pattern it recognizes. These patterns are called\n",
        "    *features,* and one of the parameters of a convolutional layer is\n",
        "    the number of features we would like it to learn. **This is the\n",
        "    second argument to the constructor is the number of output\n",
        "    features.** Here, we're asking our layer to learn 6 features.\n",
        "-   Just above, I likened the convolutional layer to a window - but how\n",
        "    big is the window? **The third argument is the window or kernel\n",
        "    size.** Here, the \"5\" means we've chosen a 5x5 kernel. (If you want\n",
        "    a kernel with height different from width, you can specify a tuple\n",
        "    for this argument - e.g., `(3, 5)` to get a 3x5 convolution kernel.)\n",
        "\n",
        "The output of a convolutional layer is an *activation map* - a spatial\n",
        "representation of the presence of features in the input tensor. `conv1`\n",
        "will give us an output tensor of 6x28x28; 6 is the number of features,\n",
        "and 28 is the height and width of our map. (The 28 comes from the fact\n",
        "that when scanning a 5-pixel window over a 32-pixel row, there are only\n",
        "28 valid positions.)\n",
        "\n",
        "We then pass the output of the convolution through a ReLU activation\n",
        "function (more on activation functions later), then through a max\n",
        "pooling layer. The max pooling layer takes features near each other in\n",
        "the activation map and groups them together. It does this by reducing\n",
        "the tensor, merging every 2x2 group of cells in the output into a single\n",
        "cell, and assigning that cell the maximum value of the 4 cells that went\n",
        "into it. This gives us a lower-resolution version of the activation map,\n",
        "with dimensions 6x14x14.\n",
        "\n",
        "Our next convolutional layer, `conv2`, expects 6 input channels\n",
        "(corresponding to the 6 features sought by the first layer), has 16\n",
        "output channels, and a 3x3 kernel. It puts out a 16x12x12 activation\n",
        "map, which is again reduced by a max pooling layer to 16x6x6. Prior to\n",
        "passing this output to the linear layers, it is reshaped to a 16 \\* 6 \\*\n",
        "6 = 576-element vector for consumption by the next layer.\n",
        "\n",
        "There are convolutional layers for addressing 1D, 2D, and 3D tensors.\n",
        "There are also many more optional arguments for a conv layer\n",
        "constructor, including stride length(e.g., only scanning every second or\n",
        "every third position) in the input, padding (so you can scan out to the\n",
        "edges of the input), and more. See the\n",
        "[documentation](https://pytorch.org/docs/stable/nn.html#convolution-layers)\n",
        "for more information.\n",
        "\n",
        "Recurrent Layers\n",
        "================\n",
        "\n",
        "*Recurrent neural networks* (or *RNNs)* are used for sequential data\n",
        "-anything from time-series measurements from a scientific instrument to\n",
        "natural language sentences to DNA nucleotides. An RNN does this by\n",
        "maintaining a *hidden state* that acts as a sort of memory for what it\n",
        "has seen in the sequence so far.\n",
        "\n",
        "The internal structure of an RNN layer - or its variants, the LSTM (long\n",
        "short-term memory) and GRU (gated recurrent unit) - is moderately\n",
        "complex and beyond the scope of this video, but we'll show you what one\n",
        "looks like in action with an LSTM-based part-of-speech tagger (a type of\n",
        "classifier that tells you if a word is a noun, verb, etc.):\n"
      ]
    },
    {
      "cell_type": "code",
      "execution_count": 85,
      "metadata": {
        "id": "2gtD9LeUQsZH"
      },
      "outputs": [],
      "source": [
        "class LSTMTagger(torch.nn.Module):\n",
        "\n",
        "    def __init__(self, embedding_dim, hidden_dim, vocab_size, tagset_size):\n",
        "        super(LSTMTagger, self).__init__()\n",
        "        self.hidden_dim = hidden_dim\n",
        "\n",
        "        self.word_embeddings = torch.nn.Embedding(vocab_size, embedding_dim)\n",
        "\n",
        "        # The LSTM takes word embeddings as inputs, and outputs hidden states\n",
        "        # with dimensionality hidden_dim.\n",
        "        self.lstm = torch.nn.LSTM(embedding_dim, hidden_dim)\n",
        "\n",
        "        # The linear layer that maps from hidden state space to tag space\n",
        "        self.hidden2tag = torch.nn.Linear(hidden_dim, tagset_size)\n",
        "\n",
        "    def forward(self, sentence):\n",
        "        embeds = self.word_embeddings(sentence)\n",
        "        lstm_out, _ = self.lstm(embeds.view(len(sentence), 1, -1))\n",
        "        tag_space = self.hidden2tag(lstm_out.view(len(sentence), -1))\n",
        "        tag_scores = F.log_softmax(tag_space, dim=1)\n",
        "        return tag_scores"
      ]
    },
    {
      "cell_type": "markdown",
      "metadata": {
        "id": "vtRhdMydQsZH"
      },
      "source": [
        "The constructor has four arguments:\n",
        "\n",
        "-   `vocab_size` is the number of words in the input vocabulary. Each\n",
        "    word is a one-hot vector (or unit vector) in a\n",
        "    `vocab_size`-dimensional space.\n",
        "-   `tagset_size` is the number of tags in the output set.\n",
        "-   `embedding_dim` is the size of the *embedding* space for the\n",
        "    vocabulary. An embedding maps a vocabulary onto a low-dimensional\n",
        "    space, where words with similar meanings are close together in the\n",
        "    space.\n",
        "-   `hidden_dim` is the size of the LSTM's memory.\n",
        "\n",
        "The input will be a sentence with the words represented as indices of\n",
        "one-hot vectors. The embedding layer will then map these down to an\n",
        "`embedding_dim`-dimensional space. The LSTM takes this sequence of\n",
        "embeddings and iterates over it, fielding an output vector of length\n",
        "`hidden_dim`. The final linear layer acts as a classifier; applying\n",
        "`log_softmax()` to the output of the final layer converts the output\n",
        "into a normalized set of estimated probabilities that a given word maps\n",
        "to a given tag.\n",
        "\n",
        "If you'd like to see this network in action, check out the [Sequence\n",
        "Models and LSTM\n",
        "Networks](https://pytorch.org/tutorials/beginner/nlp/sequence_models_tutorial.html)\n",
        "tutorial on pytorch.org.\n",
        "\n",
        "Transformers\n",
        "============\n",
        "\n",
        "*Transformers* are multi-purpose networks that have taken over the state\n",
        "of the art in NLP with models like BERT. A discussion of transformer\n",
        "architecture is beyond the scope of this video, but PyTorch has a\n",
        "`Transformer` class that allows you to define the overall parameters of\n",
        "a transformer model - the number of attention heads, the number of\n",
        "encoder & decoder layers, dropout and activation functions, etc. (You\n",
        "can even build the BERT model from this single class, with the right\n",
        "parameters!) The `torch.nn.Transformer` class also has classes to\n",
        "encapsulate the individual components (`TransformerEncoder`,\n",
        "`TransformerDecoder`) and subcomponents (`TransformerEncoderLayer`,\n",
        "`TransformerDecoderLayer`). For details, check out the\n",
        "[documentation](https://pytorch.org/docs/stable/nn.html#transformer-layers)\n",
        "on transformer classes.\n",
        "\n",
        "Other Layers and Functions\n",
        "--------------------------\n",
        "\n",
        "Data Manipulation Layers\n",
        "========================\n",
        "\n",
        "There are other layer types that perform important functions in models,\n",
        "but don't participate in the learning process themselves.\n",
        "\n",
        "**Max pooling** (and its twin, min pooling) reduce a tensor by combining\n",
        "cells, and assigning the maximum value of the input cells to the output\n",
        "cell (we saw this). For example:\n"
      ]
    },
    {
      "cell_type": "code",
      "execution_count": 86,
      "metadata": {
        "colab": {
          "base_uri": "https://localhost:8080/"
        },
        "id": "OuSDCn_zQsZH",
        "outputId": "1fce9fb2-8a67-4509-dfa1-485eacebacbc"
      },
      "outputs": [
        {
          "output_type": "stream",
          "name": "stdout",
          "text": [
            "tensor([[[0.8724, 0.0521, 0.5234, 0.2712, 0.8075, 0.6849],\n",
            "         [0.6205, 0.8893, 0.3989, 0.0695, 0.6793, 0.9779],\n",
            "         [0.7896, 0.1310, 0.6721, 0.1847, 0.5465, 0.4129],\n",
            "         [0.7210, 0.7140, 0.5548, 0.6181, 0.5909, 0.7307],\n",
            "         [0.3257, 0.0643, 0.4201, 0.7515, 0.9315, 0.5707],\n",
            "         [0.2225, 0.0919, 0.5892, 0.4374, 0.4969, 0.8219]]])\n",
            "tensor([[[0.8893, 0.9779],\n",
            "         [0.7210, 0.9315]]])\n"
          ]
        }
      ],
      "source": [
        "my_tensor = torch.rand(1, 6, 6)\n",
        "print(my_tensor)\n",
        "\n",
        "maxpool_layer = torch.nn.MaxPool2d(3)\n",
        "print(maxpool_layer(my_tensor))"
      ]
    },
    {
      "cell_type": "markdown",
      "metadata": {
        "id": "VPaHsAs8QsZH"
      },
      "source": [
        "If you look closely at the values above, you'll see that each of the\n",
        "values in the maxpooled output is the maximum value of each quadrant of\n",
        "the 6x6 input.\n",
        "\n",
        "**Normalization layers** re-center and normalize the output of one layer\n",
        "before feeding it to another. Centering and scaling the intermediate\n",
        "tensors has a number of beneficial effects, such as letting you use\n",
        "higher learning rates without exploding/vanishing gradients.\n"
      ]
    },
    {
      "cell_type": "code",
      "execution_count": 87,
      "metadata": {
        "colab": {
          "base_uri": "https://localhost:8080/"
        },
        "id": "CU07nNnrQsZH",
        "outputId": "516b9705-9ad0-404a-ca94-28308017a261"
      },
      "outputs": [
        {
          "output_type": "stream",
          "name": "stdout",
          "text": [
            "tensor([[[14.0815,  7.7938, 18.1404, 13.3007],\n",
            "         [19.6295, 17.2427, 16.1859, 13.0774],\n",
            "         [15.5525, 11.4228, 12.4842, 23.5243],\n",
            "         [16.1281, 18.5413,  6.0246, 10.3449]]])\n",
            "tensor(14.5922)\n",
            "tensor([[[ 0.2041, -1.5016,  1.3052, -0.0077],\n",
            "         [ 1.3154,  0.3012, -0.1479, -1.4687],\n",
            "         [-0.0408, -0.9121, -0.6881,  1.6410],\n",
            "         [ 0.6877,  1.1804, -1.3750, -0.4930]]],\n",
            "       grad_fn=<NativeBatchNormBackward0>)\n",
            "tensor(7.4506e-09, grad_fn=<MeanBackward0>)\n"
          ]
        }
      ],
      "source": [
        "my_tensor = torch.rand(1, 4, 4) * 20 + 5\n",
        "print(my_tensor)\n",
        "\n",
        "print(my_tensor.mean())\n",
        "\n",
        "norm_layer = torch.nn.BatchNorm1d(4)\n",
        "normed_tensor = norm_layer(my_tensor)\n",
        "print(normed_tensor)\n",
        "\n",
        "print(normed_tensor.mean())"
      ]
    },
    {
      "cell_type": "markdown",
      "metadata": {
        "id": "3j9JqU6BQsZI"
      },
      "source": [
        "Running the cell above, we've added a large scaling factor and offset to\n",
        "an input tensor; you should see the input tensor's `mean()` somewhere in\n",
        "the neighborhood of 15. After running it through the normalization\n",
        "layer, you can see that the values are smaller, and grouped around zero\n",
        "- in fact, the mean should be very small (\\> 1e-8).\n",
        "\n",
        "This is beneficial because many activation functions (discussed below)\n",
        "have their strongest gradients near 0, but sometimes suffer from\n",
        "vanishing or exploding gradients for inputs that drive them far away\n",
        "from zero. Keeping the data centered around the area of steepest\n",
        "gradient will tend to mean faster, better learning and higher feasible\n",
        "learning rates.\n",
        "\n",
        "**Dropout layers** are a tool for encouraging *sparse representations*\n",
        "in your model - that is, pushing it to do inference with less data.\n",
        "\n",
        "Dropout layers work by randomly setting parts of the input tensor\n",
        "*during training* - dropout layers are always turned off for inference.\n",
        "This forces the model to learn against this masked or reduced dataset.\n",
        "For example:\n"
      ]
    },
    {
      "cell_type": "code",
      "execution_count": 88,
      "metadata": {
        "colab": {
          "base_uri": "https://localhost:8080/"
        },
        "id": "2pmsgUnYQsZI",
        "outputId": "9e5713e7-fa0f-4bb4-c330-93f3b1251451"
      },
      "outputs": [
        {
          "output_type": "stream",
          "name": "stdout",
          "text": [
            "tensor([[[0.4737, 0.0000, 1.6428, 0.0000],\n",
            "         [0.0000, 1.1499, 0.6046, 0.8485],\n",
            "         [0.0000, 0.0000, 1.2764, 0.0000],\n",
            "         [0.0000, 0.9891, 0.6166, 0.5261]]])\n",
            "tensor([[[0.4737, 0.0000, 0.0000, 0.1840],\n",
            "         [0.0000, 1.1499, 0.6046, 0.0000],\n",
            "         [1.5198, 0.0000, 0.0000, 1.2674],\n",
            "         [0.2531, 0.0000, 0.0000, 0.5261]]])\n"
          ]
        }
      ],
      "source": [
        "my_tensor = torch.rand(1, 4, 4)\n",
        "\n",
        "dropout = torch.nn.Dropout(p=0.4)\n",
        "print(dropout(my_tensor))\n",
        "print(dropout(my_tensor))"
      ]
    },
    {
      "cell_type": "markdown",
      "metadata": {
        "id": "aJcXkg-NQsZI"
      },
      "source": [
        "Above, you can see the effect of dropout on a sample tensor. You can use\n",
        "the optional `p` argument to set the probability of an individual weight\n",
        "dropping out; if you don't it defaults to 0.5.\n",
        "\n",
        "Activation Functions\n",
        "====================\n",
        "\n",
        "Activation functions make deep learning possible. A neural network is\n",
        "really a program - with many parameters - that *simulates a mathematical\n",
        "function*. If all we did was multiple tensors by layer weights\n",
        "repeatedly, we could only simulate *linear functions;* further, there\n",
        "would be no point to having many layers, as the whole network would\n",
        "reduce could be reduced to a single matrix multiplication. Inserting\n",
        "*non-linear* activation functions between layers is what allows a deep\n",
        "learning model to simulate any function, rather than just linear ones.\n",
        "\n",
        "`torch.nn.Module` has objects encapsulating all of the major activation\n",
        "functions including ReLU and its many variants, Tanh, Hardtanh, sigmoid,\n",
        "and more. It also includes other functions, such as Softmax, that are\n",
        "most useful at the output stage of a model.\n",
        "\n",
        "Loss Functions\n",
        "==============\n",
        "\n",
        "Loss functions tell us how far a model's prediction is from the correct\n",
        "answer. PyTorch contains a variety of loss functions, including common\n",
        "MSE (mean squared error = L2 norm), Cross Entropy Loss and Negative\n",
        "Likelihood Loss (useful for classifiers), and others.\n"
      ]
    },
    {
      "cell_type": "code",
      "execution_count": 89,
      "metadata": {
        "id": "oZPmwv0rUyQq"
      },
      "outputs": [],
      "source": [
        "# For tips on running notebooks in Google Colab, see\n",
        "# https://pytorch.org/tutorials/beginner/colab\n",
        "%matplotlib inline"
      ]
    },
    {
      "cell_type": "markdown",
      "metadata": {
        "id": "USX31R2HUyQs"
      },
      "source": [
        "[Introduction](introyt1_tutorial.html) \\|\\|\n",
        "[Tensors](tensors_deeper_tutorial.html) \\|\\|\n",
        "[Autograd](autogradyt_tutorial.html) \\|\\| [Building\n",
        "Models](modelsyt_tutorial.html) \\|\\| **TensorBoard Support** \\|\\|\n",
        "[Training Models](trainingyt.html) \\|\\| [Model\n",
        "Understanding](captumyt.html)\n",
        "\n",
        "PyTorch TensorBoard Support\n",
        "===========================\n",
        "\n",
        "Follow along with the video below or on\n",
        "[youtube](https://www.youtube.com/watch?v=6CEld3hZgqc).\n",
        "\n",
        "``` {.python .jupyter-code-cell}\n",
        "from IPython.display import display, HTML\n",
        "html_code = \"\"\"\n",
        "<div style=\"margin-top:10px; margin-bottom:10px;\">\n",
        "  <iframe width=\"560\" height=\"315\" src=\"https://www.youtube.com/embed/6CEld3hZgqc\" frameborder=\"0\" allow=\"accelerometer; encrypted-media; gyroscope; picture-in-picture\" allowfullscreen></iframe>\n",
        "</div>\n",
        "\"\"\"\n",
        "display(HTML(html_code))\n",
        "```\n",
        "\n",
        "Before You Start\n",
        "----------------\n",
        "\n",
        "To run this tutorial, you'll need to install PyTorch, TorchVision,\n",
        "Matplotlib, and TensorBoard.\n",
        "\n",
        "With `conda`:\n",
        "\n",
        "``` {.sh}\n",
        "conda install pytorch torchvision -c pytorch\n",
        "conda install matplotlib tensorboard\n",
        "```\n",
        "\n",
        "With `pip`:\n",
        "\n",
        "``` {.sh}\n",
        "pip install torch torchvision matplotlib tensorboard\n",
        "```\n",
        "\n",
        "Once the dependencies are installed, restart this notebook in the Python\n",
        "environment where you installed them.\n",
        "\n",
        "Introduction\n",
        "------------\n",
        "\n",
        "In this notebook, we'll be training a variant of LeNet-5 against the\n",
        "Fashion-MNIST dataset. Fashion-MNIST is a set of image tiles depicting\n",
        "various garments, with ten class labels indicating the type of garment\n",
        "depicted.\n"
      ]
    },
    {
      "cell_type": "code",
      "execution_count": null,
      "metadata": {
        "id": "64w6_XR3UyQt"
      },
      "outputs": [],
      "source": [
        "# PyTorch model and training necessities\n",
        "import torch\n",
        "import torch.nn as nn\n",
        "import torch.nn.functional as F\n",
        "import torch.optim as optim\n",
        "\n",
        "# Image datasets and image manipulation\n",
        "import torchvision\n",
        "import torchvision.transforms as transforms\n",
        "\n",
        "# Image display\n",
        "import matplotlib.pyplot as plt\n",
        "import numpy as np\n",
        "\n",
        "# PyTorch TensorBoard support\n",
        "from torch.utils.tensorboard import SummaryWriter\n",
        "\n",
        "# In case you are using an environment that has TensorFlow installed,\n",
        "# such as Google Colab, uncomment the following code to avoid\n",
        "# a bug with saving embeddings to your TensorBoard directory\n",
        "\n",
        "# import tensorflow as tf\n",
        "# import tensorboard as tb\n",
        "# tf.io.gfile = tb.compat.tensorflow_stub.io.gfile"
      ]
    },
    {
      "cell_type": "markdown",
      "metadata": {
        "id": "ydwEzSuIUyQt"
      },
      "source": [
        "Showing Images in TensorBoard\n",
        "=============================\n",
        "\n",
        "Let's start by adding sample images from our dataset to TensorBoard:\n"
      ]
    },
    {
      "cell_type": "code",
      "execution_count": 91,
      "metadata": {
        "colab": {
          "base_uri": "https://localhost:8080/",
          "height": 551
        },
        "id": "dzCkHn4nUyQu",
        "outputId": "fc78c8f1-0f4b-4ade-e35e-16025f4e8b57"
      },
      "outputs": [
        {
          "output_type": "stream",
          "name": "stdout",
          "text": [
            "Downloading http://fashion-mnist.s3-website.eu-central-1.amazonaws.com/train-images-idx3-ubyte.gz\n",
            "Downloading http://fashion-mnist.s3-website.eu-central-1.amazonaws.com/train-images-idx3-ubyte.gz to ./data/FashionMNIST/raw/train-images-idx3-ubyte.gz\n"
          ]
        },
        {
          "output_type": "stream",
          "name": "stderr",
          "text": [
            "100%|██████████| 26.4M/26.4M [00:02<00:00, 11.8MB/s]\n"
          ]
        },
        {
          "output_type": "stream",
          "name": "stdout",
          "text": [
            "Extracting ./data/FashionMNIST/raw/train-images-idx3-ubyte.gz to ./data/FashionMNIST/raw\n",
            "\n",
            "Downloading http://fashion-mnist.s3-website.eu-central-1.amazonaws.com/train-labels-idx1-ubyte.gz\n",
            "Downloading http://fashion-mnist.s3-website.eu-central-1.amazonaws.com/train-labels-idx1-ubyte.gz to ./data/FashionMNIST/raw/train-labels-idx1-ubyte.gz\n"
          ]
        },
        {
          "output_type": "stream",
          "name": "stderr",
          "text": [
            "100%|██████████| 29.5k/29.5k [00:00<00:00, 201kB/s]\n"
          ]
        },
        {
          "output_type": "stream",
          "name": "stdout",
          "text": [
            "Extracting ./data/FashionMNIST/raw/train-labels-idx1-ubyte.gz to ./data/FashionMNIST/raw\n",
            "\n",
            "Downloading http://fashion-mnist.s3-website.eu-central-1.amazonaws.com/t10k-images-idx3-ubyte.gz\n",
            "Downloading http://fashion-mnist.s3-website.eu-central-1.amazonaws.com/t10k-images-idx3-ubyte.gz to ./data/FashionMNIST/raw/t10k-images-idx3-ubyte.gz\n"
          ]
        },
        {
          "output_type": "stream",
          "name": "stderr",
          "text": [
            "100%|██████████| 4.42M/4.42M [00:01<00:00, 3.78MB/s]\n"
          ]
        },
        {
          "output_type": "stream",
          "name": "stdout",
          "text": [
            "Extracting ./data/FashionMNIST/raw/t10k-images-idx3-ubyte.gz to ./data/FashionMNIST/raw\n",
            "\n",
            "Downloading http://fashion-mnist.s3-website.eu-central-1.amazonaws.com/t10k-labels-idx1-ubyte.gz\n",
            "Downloading http://fashion-mnist.s3-website.eu-central-1.amazonaws.com/t10k-labels-idx1-ubyte.gz to ./data/FashionMNIST/raw/t10k-labels-idx1-ubyte.gz\n"
          ]
        },
        {
          "output_type": "stream",
          "name": "stderr",
          "text": [
            "100%|██████████| 5.15k/5.15k [00:00<00:00, 23.9MB/s]"
          ]
        },
        {
          "output_type": "stream",
          "name": "stdout",
          "text": [
            "Extracting ./data/FashionMNIST/raw/t10k-labels-idx1-ubyte.gz to ./data/FashionMNIST/raw\n",
            "\n"
          ]
        },
        {
          "output_type": "stream",
          "name": "stderr",
          "text": [
            "\n"
          ]
        },
        {
          "output_type": "display_data",
          "data": {
            "text/plain": [
              "<Figure size 640x480 with 1 Axes>"
            ],
            "image/png": "[encoded data removed]"
          },
          "metadata": {}
        }
      ],
      "source": [
        "# Gather datasets and prepare them for consumption\n",
        "transform = transforms.Compose(\n",
        "    [transforms.ToTensor(),\n",
        "    transforms.Normalize((0.5,), (0.5,))])\n",
        "\n",
        "# Store separate training and validations splits in ./data\n",
        "training_set = torchvision.datasets.FashionMNIST('./data',\n",
        "    download=True,\n",
        "    train=True,\n",
        "    transform=transform)\n",
        "validation_set = torchvision.datasets.FashionMNIST('./data',\n",
        "    download=True,\n",
        "    train=False,\n",
        "    transform=transform)\n",
        "\n",
        "training_loader = torch.utils.data.DataLoader(training_set,\n",
        "                                              batch_size=4,\n",
        "                                              shuffle=True,\n",
        "                                              num_workers=2)\n",
        "\n",
        "\n",
        "validation_loader = torch.utils.data.DataLoader(validation_set,\n",
        "                                                batch_size=4,\n",
        "                                                shuffle=False,\n",
        "                                                num_workers=2)\n",
        "\n",
        "# Class labels\n",
        "classes = ('T-shirt/top', 'Trouser', 'Pullover', 'Dress', 'Coat',\n",
        "        'Sandal', 'Shirt', 'Sneaker', 'Bag', 'Ankle Boot')\n",
        "\n",
        "# Helper function for inline image display\n",
        "def matplotlib_imshow(img, one_channel=False):\n",
        "    if one_channel:\n",
        "        img = img.mean(dim=0)\n",
        "    img = img / 2 + 0.5     # unnormalize\n",
        "    npimg = img.numpy()\n",
        "    if one_channel:\n",
        "        plt.imshow(npimg, cmap=\"Greys\")\n",
        "    else:\n",
        "        plt.imshow(np.transpose(npimg, (1, 2, 0)))\n",
        "\n",
        "# Extract a batch of 4 images\n",
        "dataiter = iter(training_loader)\n",
        "images, labels = next(dataiter)\n",
        "\n",
        "# Create a grid from the images and show them\n",
        "img_grid = torchvision.utils.make_grid(images)\n",
        "matplotlib_imshow(img_grid, one_channel=True)"
      ]
    },
    {
      "cell_type": "markdown",
      "metadata": {
        "id": "9bk-9LoNUyQu"
      },
      "source": [
        "Above, we used TorchVision and Matplotlib to create a visual grid of a\n",
        "minibatch of our input data. Below, we use the `add_image()` call on\n",
        "`SummaryWriter` to log the image for consumption by TensorBoard, and we\n",
        "also call `flush()` to make sure it's written to disk right away.\n"
      ]
    },
    {
      "cell_type": "code",
      "execution_count": 92,
      "metadata": {
        "id": "I6u2PvnXUyQu"
      },
      "outputs": [],
      "source": [
        "# Default log_dir argument is \"runs\" - but it's good to be specific\n",
        "# torch.utils.tensorboard.SummaryWriter is imported above\n",
        "writer = SummaryWriter('runs/fashion_mnist_experiment_1')\n",
        "\n",
        "# Write image data to TensorBoard log dir\n",
        "writer.add_image('Four Fashion-MNIST Images', img_grid)\n",
        "writer.flush()\n",
        "\n",
        "# To view, start TensorBoard on the command line with:\n",
        "#   tensorboard --logdir=runs\n",
        "# ...and open a browser tab to http://localhost:6006/"
      ]
    },
    {
      "cell_type": "markdown",
      "metadata": {
        "id": "UUdR6hPQUyQu"
      },
      "source": [
        "If you start TensorBoard at the command line and open it in a new\n",
        "browser tab (usually at [localhost:6006](localhost:6006)), you should\n",
        "see the image grid under the IMAGES tab.\n",
        "\n",
        "Graphing Scalars to Visualize Training\n",
        "======================================\n",
        "\n",
        "TensorBoard is useful for tracking the progress and efficacy of your\n",
        "training. Below, we'll run a training loop, track some metrics, and save\n",
        "the data for TensorBoard's consumption.\n",
        "\n",
        "Let's define a model to categorize our image tiles, and an optimizer and\n",
        "loss function for training:\n"
      ]
    },
    {
      "cell_type": "code",
      "execution_count": 95,
      "metadata": {
        "id": "Ndr8Ic_PUyQv"
      },
      "outputs": [],
      "source": [
        "class Net(nn.Module):\n",
        "    def __init__(self):\n",
        "        super(Net, self).__init__()\n",
        "        self.conv1 = nn.Conv2d(1, 6, 5)\n",
        "        self.pool = nn.MaxPool2d(2, 2)\n",
        "        self.conv2 = nn.Conv2d(6, 16, 5)\n",
        "        self.fc1 = nn.Linear(16 * 4 * 4, 120)\n",
        "        self.fc2 = nn.Linear(120, 84)\n",
        "        self.fc3 = nn.Linear(84, 10)\n",
        "\n",
        "    def forward(self, x):\n",
        "        x = self.pool(F.relu(self.conv1(x)))\n",
        "        x = self.pool(F.relu(self.conv2(x)))\n",
        "        x = x.view(-1, 16 * 4 * 4)\n",
        "        x = F.relu(self.fc1(x))\n",
        "        x = F.relu(self.fc2(x))\n",
        "        x = self.fc3(x)\n",
        "        return x\n",
        "\n",
        "\n",
        "net = Net()\n",
        "criterion = nn.CrossEntropyLoss()\n",
        "optimizer = optim.SGD(net.parameters(), lr=0.005, momentum=0.9)"
      ]
    },
    {
      "cell_type": "markdown",
      "metadata": {
        "id": "rbKu8gP1UyQv"
      },
      "source": [
        "Now let's train a single epoch, and evaluate the training vs. validation\n",
        "set losses every 1000 batches:\n"
      ]
    },
    {
      "cell_type": "code",
      "execution_count": 96,
      "metadata": {
        "colab": {
          "base_uri": "https://localhost:8080/"
        },
        "id": "wwHWxmUOUyQv",
        "outputId": "655f4ada-963f-4835-dd3c-843d77215c15"
      },
      "outputs": [
        {
          "output_type": "stream",
          "name": "stdout",
          "text": [
            "2500\n",
            "Batch 1000\n",
            "Batch 2000\n",
            "Batch 3000\n",
            "Batch 4000\n",
            "Batch 5000\n",
            "Batch 6000\n",
            "Batch 7000\n",
            "Batch 8000\n",
            "Batch 9000\n",
            "Batch 10000\n",
            "Batch 11000\n",
            "Batch 12000\n",
            "Batch 13000\n",
            "Batch 14000\n",
            "Batch 15000\n",
            "Finished Training\n"
          ]
        }
      ],
      "source": [
        "print(len(validation_loader))\n",
        "for epoch in range(1):  # loop over the dataset multiple times\n",
        "    running_loss = 0.0\n",
        "\n",
        "    for i, data in enumerate(training_loader, 0):\n",
        "        # basic training loop\n",
        "        inputs, labels = data\n",
        "        optimizer.zero_grad()\n",
        "        outputs = net(inputs)\n",
        "        loss = criterion(outputs, labels)\n",
        "        loss.backward()\n",
        "        optimizer.step()\n",
        "\n",
        "        running_loss += loss.item()\n",
        "        if i % 1000 == 999:    # Every 1000 mini-batches...\n",
        "            print('Batch {}'.format(i + 1))\n",
        "            # Check against the validation set\n",
        "            running_vloss = 0.0\n",
        "\n",
        "            # In evaluation mode some model specific operations can be omitted eg. dropout layer\n",
        "            net.train(False) # Switching to evaluation mode, eg. turning off regularisation\n",
        "            for j, vdata in enumerate(validation_loader, 0):\n",
        "                vinputs, vlabels = vdata\n",
        "                voutputs = net(vinputs)\n",
        "                vloss = criterion(voutputs, vlabels)\n",
        "                running_vloss += vloss.item()\n",
        "            net.train(True) # Switching back to training mode, eg. turning on regularisation\n",
        "\n",
        "            avg_loss = running_loss / 1000\n",
        "            avg_vloss = running_vloss / len(validation_loader)\n",
        "\n",
        "            # Log the running loss averaged per batch\n",
        "            writer.add_scalars('Training vs. Validation Loss',\n",
        "                            { 'Training' : avg_loss, 'Validation' : avg_vloss },\n",
        "                            epoch * len(training_loader) + i)\n",
        "\n",
        "            running_loss = 0.0\n",
        "print('Finished Training')\n",
        "\n",
        "writer.flush()"
      ]
    },
    {
      "cell_type": "markdown",
      "metadata": {
        "id": "q93FVpqRUyQv"
      },
      "source": [
        "Switch to your open TensorBoard and have a look at the SCALARS tab.\n",
        "\n",
        "Visualizing Your Model\n",
        "======================\n",
        "\n",
        "TensorBoard can also be used to examine the data flow within your model.\n",
        "To do this, call the `add_graph()` method with a model and sample input:\n"
      ]
    },
    {
      "cell_type": "code",
      "execution_count": 97,
      "metadata": {
        "id": "JAY9U6_ZUyQw"
      },
      "outputs": [],
      "source": [
        "# Again, grab a single mini-batch of images\n",
        "dataiter = iter(training_loader)\n",
        "images, labels = next(dataiter)\n",
        "\n",
        "# add_graph() will trace the sample input through your model,\n",
        "# and render it as a graph.\n",
        "writer.add_graph(net, images)\n",
        "writer.flush()"
      ]
    },
    {
      "cell_type": "markdown",
      "metadata": {
        "id": "JCjaVLrBUyQw"
      },
      "source": [
        "When you switch over to TensorBoard, you should see a GRAPHS tab.\n",
        "Double-click the \"NET\" node to see the layers and data flow within your\n",
        "model.\n",
        "\n",
        "Visualizing Your Dataset with Embeddings\n",
        "========================================\n",
        "\n",
        "The 28-by-28 image tiles we're using can be modeled as 784-dimensional\n",
        "vectors (28 \\* 28 = 784). It can be instructive to project this to a\n",
        "lower-dimensional representation. The `add_embedding()` method will\n",
        "project a set of data onto the three dimensions with highest variance,\n",
        "and display them as an interactive 3D chart. The `add_embedding()`\n",
        "method does this automatically by projecting to the three dimensions\n",
        "with highest variance.\n",
        "\n",
        "Below, we'll take a sample of our data, and generate such an embedding:\n"
      ]
    },
    {
      "cell_type": "code",
      "execution_count": 98,
      "metadata": {
        "id": "qiJ2b-Z9UyQw"
      },
      "outputs": [],
      "source": [
        "# Select a random subset of data and corresponding labels\n",
        "def select_n_random(data, labels, n=100):\n",
        "    assert len(data) == len(labels)\n",
        "\n",
        "    perm = torch.randperm(len(data))\n",
        "    return data[perm][:n], labels[perm][:n]\n",
        "\n",
        "# Extract a random subset of data\n",
        "images, labels = select_n_random(training_set.data, training_set.targets)\n",
        "\n",
        "# get the class labels for each image\n",
        "class_labels = [classes[label] for label in labels]\n",
        "\n",
        "# log embeddings\n",
        "features = images.view(-1, 28 * 28)\n",
        "writer.add_embedding(features,\n",
        "                    metadata=class_labels,\n",
        "                    label_img=images.unsqueeze(1))\n",
        "writer.flush()\n",
        "writer.close()"
      ]
    },
    {
      "cell_type": "markdown",
      "metadata": {
        "id": "coiViBNuUyQw"
      },
      "source": [
        "Now if you switch to TensorBoard and select the PROJECTOR tab, you\n",
        "should see a 3D representation of the projection. You can rotate and\n",
        "zoom the model. Examine it at large and small scales, and see whether\n",
        "you can spot patterns in the projected data and the clustering of\n",
        "labels.\n",
        "\n",
        "For better visibility, it's recommended to:\n",
        "\n",
        "-   Select \"label\" from the \"Color by\" drop-down on the left.\n",
        "-   Toggle the Night Mode icon along the top to place the light-colored\n",
        "    images on a dark background.\n",
        "\n",
        "Other Resources\n",
        "===============\n",
        "\n",
        "For more information, have a look at:\n",
        "\n",
        "-   PyTorch documentation on\n",
        "    [torch.utils.tensorboard.SummaryWriter](https://pytorch.org/docs/stable/tensorboard.html?highlight=summarywriter)\n",
        "-   Tensorboard tutorial content in the [PyTorch.org\n",
        "    Tutorials](https://pytorch.org/tutorials/)\n",
        "-   For more information about TensorBoard, see the [TensorBoard\n",
        "    documentation](https://www.tensorflow.org/tensorboard)\n"
      ]
    },
    {
      "cell_type": "code",
      "execution_count": 99,
      "metadata": {
        "id": "qCeLAwOcWNWB"
      },
      "outputs": [],
      "source": [
        "# For tips on running notebooks in Google Colab, see\n",
        "# https://pytorch.org/tutorials/beginner/colab\n",
        "%matplotlib inline"
      ]
    },
    {
      "cell_type": "markdown",
      "metadata": {
        "id": "C0Z1tULqWNWD"
      },
      "source": [
        "[Introduction](introyt1_tutorial.html) \\|\\|\n",
        "[Tensors](tensors_deeper_tutorial.html) \\|\\|\n",
        "[Autograd](autogradyt_tutorial.html) \\|\\| [Building\n",
        "Models](modelsyt_tutorial.html) \\|\\| [TensorBoard\n",
        "Support](tensorboardyt_tutorial.html) \\|\\| **Training Models** \\|\\|\n",
        "[Model Understanding](captumyt.html)\n",
        "\n",
        "Training with PyTorch\n",
        "=====================\n",
        "\n",
        "Follow along with the video below or on\n",
        "[youtube](https://www.youtube.com/watch?v=jF43_wj_DCQ).\n",
        "\n",
        "``` {.python .jupyter-code-cell}\n",
        "from IPython.display import display, HTML\n",
        "html_code = \"\"\"\n",
        "<div style=\"margin-top:10px; margin-bottom:10px;\">\n",
        "  <iframe width=\"560\" height=\"315\" src=\"https://www.youtube.com/embed/jF43_wj_DCQ\" frameborder=\"0\" allow=\"accelerometer; encrypted-media; gyroscope; picture-in-picture\" allowfullscreen></iframe>\n",
        "</div>\n",
        "\"\"\"\n",
        "display(HTML(html_code))\n",
        "```\n",
        "\n",
        "Introduction\n",
        "------------\n",
        "\n",
        "In past videos, we've discussed and demonstrated:\n",
        "\n",
        "-   Building models with the neural network layers and functions of the\n",
        "    torch.nn module\n",
        "-   The mechanics of automated gradient computation, which is central to\n",
        "    gradient-based model training\n",
        "-   Using TensorBoard to visualize training progress and other\n",
        "    activities\n",
        "\n",
        "In this video, we'll be adding some new tools to your inventory:\n",
        "\n",
        "-   We'll get familiar with the dataset and dataloader abstractions, and\n",
        "    how they ease the process of feeding data to your model during a\n",
        "    training loop\n",
        "-   We'll discuss specific loss functions and when to use them\n",
        "-   We'll look at PyTorch optimizers, which implement algorithms to\n",
        "    adjust model weights based on the outcome of a loss function\n",
        "\n",
        "Finally, we'll pull all of these together and see a full PyTorch\n",
        "training loop in action.\n",
        "\n",
        "Dataset and DataLoader\n",
        "----------------------\n",
        "\n",
        "The `Dataset` and `DataLoader` classes encapsulate the process of\n",
        "pulling your data from storage and exposing it to your training loop in\n",
        "batches.\n",
        "\n",
        "The `Dataset` is responsible for accessing and processing single\n",
        "instances of data.\n",
        "\n",
        "The `DataLoader` pulls instances of data from the `Dataset` (either\n",
        "automatically or with a sampler that you define), collects them in\n",
        "batches, and returns them for consumption by your training loop. The\n",
        "`DataLoader` works with all kinds of datasets, regardless of the type of\n",
        "data they contain.\n",
        "\n",
        "For this tutorial, we'll be using the Fashion-MNIST dataset provided by\n",
        "TorchVision. We use `torchvision.transforms.Normalize()` to zero-center\n",
        "and normalize the distribution of the image tile content, and download\n",
        "both training and validation data splits.\n"
      ]
    },
    {
      "cell_type": "code",
      "execution_count": 100,
      "metadata": {
        "colab": {
          "base_uri": "https://localhost:8080/"
        },
        "id": "Sko3shI0WNWE",
        "outputId": "2273ae37-d307-496d-9eea-c58b91aa26be"
      },
      "outputs": [
        {
          "output_type": "stream",
          "name": "stdout",
          "text": [
            "Training set has 60000 instances\n",
            "Validation set has 10000 instances\n"
          ]
        }
      ],
      "source": [
        "import torch\n",
        "import torchvision\n",
        "import torchvision.transforms as transforms\n",
        "\n",
        "# PyTorch TensorBoard support\n",
        "from torch.utils.tensorboard import SummaryWriter\n",
        "from datetime import datetime\n",
        "\n",
        "\n",
        "transform = transforms.Compose(\n",
        "    [transforms.ToTensor(),\n",
        "    transforms.Normalize((0.5,), (0.5,))])\n",
        "\n",
        "# Create datasets for training & validation, download if necessary\n",
        "training_set = torchvision.datasets.FashionMNIST('./data', train=True, transform=transform, download=True)\n",
        "validation_set = torchvision.datasets.FashionMNIST('./data', train=False, transform=transform, download=True)\n",
        "\n",
        "# Create data loaders for our datasets; shuffle for training, not for validation\n",
        "training_loader = torch.utils.data.DataLoader(training_set, batch_size=4, shuffle=True)\n",
        "validation_loader = torch.utils.data.DataLoader(validation_set, batch_size=4, shuffle=False)\n",
        "\n",
        "# Class labels\n",
        "classes = ('T-shirt/top', 'Trouser', 'Pullover', 'Dress', 'Coat',\n",
        "        'Sandal', 'Shirt', 'Sneaker', 'Bag', 'Ankle Boot')\n",
        "\n",
        "# Report split sizes\n",
        "print('Training set has {} instances'.format(len(training_set)))\n",
        "print('Validation set has {} instances'.format(len(validation_set)))"
      ]
    },
    {
      "cell_type": "markdown",
      "metadata": {
        "id": "2ksazrXeWNWF"
      },
      "source": [
        "As always, let's visualize the data as a sanity check:\n"
      ]
    },
    {
      "cell_type": "code",
      "execution_count": 101,
      "metadata": {
        "colab": {
          "base_uri": "https://localhost:8080/",
          "height": 212
        },
        "id": "ZL-oTJJXWNWF",
        "outputId": "a123d43d-6c30-4509-8de0-44efc491e8cd"
      },
      "outputs": [
        {
          "output_type": "stream",
          "name": "stdout",
          "text": [
            "Bag  Coat  Pullover  Bag\n"
          ]
        },
        {
          "output_type": "display_data",
          "data": {
            "text/plain": [
              "<Figure size 640x480 with 1 Axes>"
            ],
            "image/png": "[encoded data removed]"
          },
          "metadata": {}
        }
      ],
      "source": [
        "import matplotlib.pyplot as plt\n",
        "import numpy as np\n",
        "\n",
        "# Helper function for inline image display\n",
        "def matplotlib_imshow(img, one_channel=False):\n",
        "    if one_channel:\n",
        "        img = img.mean(dim=0)\n",
        "    img = img / 2 + 0.5     # unnormalize\n",
        "    npimg = img.numpy()\n",
        "    if one_channel:\n",
        "        plt.imshow(npimg, cmap=\"Greys\")\n",
        "    else:\n",
        "        plt.imshow(np.transpose(npimg, (1, 2, 0)))\n",
        "\n",
        "dataiter = iter(training_loader)\n",
        "images, labels = next(dataiter)\n",
        "\n",
        "# Create a grid from the images and show them\n",
        "img_grid = torchvision.utils.make_grid(images)\n",
        "matplotlib_imshow(img_grid, one_channel=True)\n",
        "print('  '.join(classes[labels[j]] for j in range(4)))"
      ]
    },
    {
      "cell_type": "markdown",
      "metadata": {
        "id": "XFmyyi9VWNWF"
      },
      "source": [
        "The Model\n",
        "=========\n",
        "\n",
        "The model we'll use in this example is a variant of LeNet-5 - it should\n",
        "be familiar if you've watched the previous videos in this series.\n"
      ]
    },
    {
      "cell_type": "code",
      "execution_count": 102,
      "metadata": {
        "id": "kYaqGspVWNWF"
      },
      "outputs": [],
      "source": [
        "import torch.nn as nn\n",
        "import torch.nn.functional as F\n",
        "\n",
        "# PyTorch models inherit from torch.nn.Module\n",
        "class GarmentClassifier(nn.Module):\n",
        "    def __init__(self):\n",
        "        super(GarmentClassifier, self).__init__()\n",
        "        self.conv1 = nn.Conv2d(1, 6, 5)\n",
        "        self.pool = nn.MaxPool2d(2, 2)\n",
        "        self.conv2 = nn.Conv2d(6, 16, 5)\n",
        "        self.fc1 = nn.Linear(16 * 4 * 4, 120)\n",
        "        self.fc2 = nn.Linear(120, 84)\n",
        "        self.fc3 = nn.Linear(84, 10)\n",
        "\n",
        "    def forward(self, x):\n",
        "        x = self.pool(F.relu(self.conv1(x)))\n",
        "        x = self.pool(F.relu(self.conv2(x)))\n",
        "        x = x.view(-1, 16 * 4 * 4)\n",
        "        x = F.relu(self.fc1(x))\n",
        "        x = F.relu(self.fc2(x))\n",
        "        x = self.fc3(x)\n",
        "        return x\n",
        "\n",
        "\n",
        "model = GarmentClassifier()"
      ]
    },
    {
      "cell_type": "markdown",
      "metadata": {
        "id": "YmYXRneUWNWG"
      },
      "source": [
        "Loss Function\n",
        "=============\n",
        "\n",
        "For this example, we'll be using a cross-entropy loss. For demonstration\n",
        "purposes, we'll create batches of dummy output and label values, run\n",
        "them through the loss function, and examine the result.\n"
      ]
    },
    {
      "cell_type": "code",
      "execution_count": 103,
      "metadata": {
        "colab": {
          "base_uri": "https://localhost:8080/"
        },
        "id": "JUjlL7kEWNWG",
        "outputId": "a4ec2fad-3c72-4ae6-dcae-57f4acaaa62a"
      },
      "outputs": [
        {
          "output_type": "stream",
          "name": "stdout",
          "text": [
            "tensor([[0.4753, 0.6406, 0.3770, 0.2260, 0.3039, 0.7103, 0.3736, 0.6462, 0.6525,\n",
            "         0.1568],\n",
            "        [0.8526, 0.0800, 0.8026, 0.8590, 0.1236, 0.7815, 0.5574, 0.2931, 0.8521,\n",
            "         0.0931],\n",
            "        [0.2438, 0.6945, 0.0434, 0.3200, 0.6681, 0.7111, 0.3049, 0.3037, 0.3907,\n",
            "         0.7617],\n",
            "        [0.1717, 0.2951, 0.8188, 0.1211, 0.2832, 0.9372, 0.6476, 0.1979, 0.7552,\n",
            "         0.5081]])\n",
            "tensor([1, 5, 3, 7])\n",
            "Total loss for this batch: 2.3274948596954346\n"
          ]
        }
      ],
      "source": [
        "loss_fn = torch.nn.CrossEntropyLoss()\n",
        "\n",
        "# NB: Loss functions expect data in batches, so we're creating batches of 4\n",
        "# Represents the model's confidence in each of the 10 classes for a given input\n",
        "dummy_outputs = torch.rand(4, 10)\n",
        "# Represents the correct class among the 10 being tested\n",
        "dummy_labels = torch.tensor([1, 5, 3, 7])\n",
        "\n",
        "print(dummy_outputs)\n",
        "print(dummy_labels)\n",
        "\n",
        "loss = loss_fn(dummy_outputs, dummy_labels)\n",
        "print('Total loss for this batch: {}'.format(loss.item()))"
      ]
    },
    {
      "cell_type": "markdown",
      "metadata": {
        "id": "tB2owJoWWNWG"
      },
      "source": [
        "Optimizer\n",
        "=========\n",
        "\n",
        "For this example, we'll be using simple [stochastic gradient\n",
        "descent](https://pytorch.org/docs/stable/optim.html) with momentum.\n",
        "\n",
        "It can be instructive to try some variations on this optimization\n",
        "scheme:\n",
        "\n",
        "-   Learning rate determines the size of the steps the optimizer takes.\n",
        "    What does a different learning rate do to the your training results,\n",
        "    in terms of accuracy and convergence time?\n",
        "-   Momentum nudges the optimizer in the direction of strongest gradient\n",
        "    over multiple steps. What does changing this value do to your\n",
        "    results?\n",
        "-   Try some different optimization algorithms, such as averaged SGD,\n",
        "    Adagrad, or Adam. How do your results differ?\n"
      ]
    },
    {
      "cell_type": "code",
      "execution_count": 104,
      "metadata": {
        "id": "yiRfZHJ4WNWG"
      },
      "outputs": [],
      "source": [
        "# Optimizers specified in the torch.optim package\n",
        "optimizer = torch.optim.SGD(model.parameters(), lr=0.005, momentum=0.9)"
      ]
    },
    {
      "cell_type": "markdown",
      "metadata": {
        "id": "reVjfxgWWNWH"
      },
      "source": [
        "The Training Loop\n",
        "=================\n",
        "\n",
        "Below, we have a function that performs one training epoch. It\n",
        "enumerates data from the DataLoader, and on each pass of the loop does\n",
        "the following:\n",
        "\n",
        "-   Gets a batch of training data from the DataLoader\n",
        "-   Zeros the optimizer's gradients\n",
        "-   Performs an inference - that is, gets predictions from the model for\n",
        "    an input batch\n",
        "-   Calculates the loss for that set of predictions vs. the labels on\n",
        "    the dataset\n",
        "-   Calculates the backward gradients over the learning weights\n",
        "-   Tells the optimizer to perform one learning step - that is, adjust\n",
        "    the model's learning weights based on the observed gradients for\n",
        "    this batch, according to the optimization algorithm we chose\n",
        "-   It reports on the loss for every 1000 batches.\n",
        "-   Finally, it reports the average per-batch loss for the last 1000\n",
        "    batches, for comparison with a validation run\n"
      ]
    },
    {
      "cell_type": "code",
      "execution_count": 105,
      "metadata": {
        "id": "QM6CK4FqWNWH"
      },
      "outputs": [],
      "source": [
        "def train_one_epoch(epoch_index, tb_writer):\n",
        "    running_loss = 0.\n",
        "    last_loss = 0.\n",
        "\n",
        "    # Here, we use enumerate(training_loader) instead of\n",
        "    # iter(training_loader) so that we can track the batch\n",
        "    # index and do some intra-epoch reporting\n",
        "    for i, data in enumerate(training_loader):\n",
        "        # Every data instance is an input + label pair\n",
        "        inputs, labels = data\n",
        "\n",
        "        # Zero your gradients for every batch!\n",
        "        optimizer.zero_grad()\n",
        "\n",
        "        # Make predictions for this batch\n",
        "        outputs = model(inputs)\n",
        "\n",
        "        # Compute the loss and its gradients\n",
        "        loss = loss_fn(outputs, labels)\n",
        "        loss.backward()\n",
        "\n",
        "        # Adjust learning weights\n",
        "        optimizer.step()\n",
        "\n",
        "        # Gather data and report\n",
        "        running_loss += loss.item()\n",
        "        if i % 1000 == 999:\n",
        "            last_loss = running_loss / 1000 # loss per batch\n",
        "            print('  batch {} loss: {}'.format(i + 1, last_loss))\n",
        "            tb_x = epoch_index * len(training_loader) + i + 1\n",
        "            tb_writer.add_scalar('Loss/train', last_loss, tb_x)\n",
        "            running_loss = 0.\n",
        "\n",
        "    return last_loss"
      ]
    },
    {
      "cell_type": "markdown",
      "metadata": {
        "id": "zslEafOOWNWH"
      },
      "source": [
        "Per-Epoch Activity\n",
        "==================\n",
        "\n",
        "There are a couple of things we'll want to do once per epoch:\n",
        "\n",
        "-   Perform validation by checking our relative loss on a set of data\n",
        "    that was not used for training, and report this\n",
        "-   Save a copy of the model\n",
        "\n",
        "Here, we'll do our reporting in TensorBoard. This will require going to\n",
        "the command line to start TensorBoard, and opening it in another browser\n",
        "tab.\n"
      ]
    },
    {
      "cell_type": "code",
      "execution_count": 106,
      "metadata": {
        "colab": {
          "base_uri": "https://localhost:8080/"
        },
        "id": "PWU00BvRWNWH",
        "outputId": "b40dbcc7-87b9-436a-f442-b3462baa64d0"
      },
      "outputs": [
        {
          "output_type": "stream",
          "name": "stdout",
          "text": [
            "EPOCH 1:\n",
            "  batch 1000 loss: 1.2407228263523429\n",
            "  batch 2000 loss: 0.7447262428709073\n",
            "  batch 3000 loss: 0.620096411830149\n",
            "  batch 4000 loss: 0.5647598720234164\n",
            "  batch 5000 loss: 0.5412475800080574\n",
            "  batch 6000 loss: 0.5231343562626221\n",
            "  batch 7000 loss: 0.4947164810871618\n",
            "  batch 8000 loss: 0.48562994779022844\n",
            "  batch 9000 loss: 0.4967561713561299\n",
            "  batch 10000 loss: 0.46601515697391005\n",
            "  batch 11000 loss: 0.5022053881804895\n",
            "  batch 12000 loss: 0.4480734685155949\n",
            "  batch 13000 loss: 0.4394713856492917\n",
            "  batch 14000 loss: 0.41659240305376444\n",
            "  batch 15000 loss: 0.4477725848404516\n",
            "LOSS train 0.4477725848404516 valid 0.44510766863822937\n",
            "EPOCH 2:\n",
            "  batch 1000 loss: 0.43757492329342856\n",
            "  batch 2000 loss: 0.43847297872603214\n",
            "  batch 3000 loss: 0.4205772340402673\n",
            "  batch 4000 loss: 0.4392407243750672\n",
            "  batch 5000 loss: 0.4428412042823093\n",
            "  batch 6000 loss: 0.43055014562011024\n",
            "  batch 7000 loss: 0.421192861450746\n",
            "  batch 8000 loss: 0.43543081308624915\n",
            "  batch 9000 loss: 0.4359343656747485\n",
            "  batch 10000 loss: 0.3907226020850138\n",
            "  batch 11000 loss: 0.4014303638163562\n",
            "  batch 12000 loss: 0.42206602667072\n",
            "  batch 13000 loss: 0.40132832458401346\n",
            "  batch 14000 loss: 0.38497698441160877\n",
            "  batch 15000 loss: 0.4017669109104595\n",
            "LOSS train 0.4017669109104595 valid 0.4246806502342224\n",
            "EPOCH 3:\n",
            "  batch 1000 loss: 0.3886701632136676\n",
            "  batch 2000 loss: 0.40931374051882086\n",
            "  batch 3000 loss: 0.38926714051833644\n",
            "  batch 4000 loss: 0.3750786704349859\n",
            "  batch 5000 loss: 0.3986806833298251\n",
            "  batch 6000 loss: 0.3782163248673951\n",
            "  batch 7000 loss: 0.3826220282979407\n",
            "  batch 8000 loss: 0.414090723106523\n",
            "  batch 9000 loss: 0.3582681281080437\n",
            "  batch 10000 loss: 0.3976680791123781\n",
            "  batch 11000 loss: 0.3868282643767133\n",
            "  batch 12000 loss: 0.38914940632669426\n",
            "  batch 13000 loss: 0.3738800481072692\n",
            "  batch 14000 loss: 0.4000602638237415\n",
            "  batch 15000 loss: 0.40576752039153335\n",
            "LOSS train 0.40576752039153335 valid 0.48210474848747253\n",
            "EPOCH 4:\n",
            "  batch 1000 loss: 0.3767613225350253\n",
            "  batch 2000 loss: 0.36555408268521367\n",
            "  batch 3000 loss: 0.3663115859927998\n",
            "  batch 4000 loss: 0.3896344967799877\n",
            "  batch 5000 loss: 0.38999960119922705\n",
            "  batch 6000 loss: 0.3705446690059039\n",
            "  batch 7000 loss: 0.3762089968620583\n",
            "  batch 8000 loss: 0.40330966244289823\n",
            "  batch 9000 loss: 0.3717223956813851\n",
            "  batch 10000 loss: 0.3634884573069121\n",
            "  batch 11000 loss: 0.36339179249014003\n",
            "  batch 12000 loss: 0.3909611837452854\n",
            "  batch 13000 loss: 0.35965683472831145\n",
            "  batch 14000 loss: 0.37414518036280114\n",
            "  batch 15000 loss: 0.3676315444568822\n",
            "LOSS train 0.3676315444568822 valid 0.45128169655799866\n",
            "EPOCH 5:\n",
            "  batch 1000 loss: 0.34796217759230863\n",
            "  batch 2000 loss: 0.3602654289946665\n",
            "  batch 3000 loss: 0.36099091703278147\n",
            "  batch 4000 loss: 0.35408780242273735\n",
            "  batch 5000 loss: 0.39879662548054395\n",
            "  batch 6000 loss: 0.36377085969760437\n",
            "  batch 7000 loss: 0.35676533435107644\n",
            "  batch 8000 loss: 0.36787230979711544\n",
            "  batch 9000 loss: 0.37802856622114905\n",
            "  batch 10000 loss: 0.39079672460106213\n",
            "  batch 11000 loss: 0.3627331130133446\n",
            "  batch 12000 loss: 0.39027069804150394\n",
            "  batch 13000 loss: 0.39672236065694255\n",
            "  batch 14000 loss: 0.37418433097334963\n",
            "  batch 15000 loss: 0.4000975182307741\n",
            "LOSS train 0.4000975182307741 valid 0.4119134843349457\n",
            "EPOCH 6:\n",
            "  batch 1000 loss: 0.3480170789549586\n",
            "  batch 2000 loss: 0.3854119009249293\n",
            "  batch 3000 loss: 0.34476501912330115\n",
            "  batch 4000 loss: 0.34405651585620395\n",
            "  batch 5000 loss: 0.38435056176950066\n",
            "  batch 6000 loss: 0.3731388636252108\n",
            "  batch 7000 loss: 0.38833762551863277\n",
            "  batch 8000 loss: 0.3601046951780639\n",
            "  batch 9000 loss: 0.3776857011414531\n",
            "  batch 10000 loss: 0.4037272329714058\n",
            "  batch 11000 loss: 0.3687267378994129\n",
            "  batch 12000 loss: 0.3630641287803564\n",
            "  batch 13000 loss: 0.3881516797425263\n",
            "  batch 14000 loss: 0.39434053240283423\n",
            "  batch 15000 loss: 0.356654406280715\n",
            "LOSS train 0.356654406280715 valid 0.4154985845088959\n",
            "EPOCH 7:\n",
            "  batch 1000 loss: 0.33523746246569064\n",
            "  batch 2000 loss: 0.38175579631379764\n",
            "  batch 3000 loss: 0.3720834363844714\n",
            "  batch 4000 loss: 0.3611414759279311\n",
            "  batch 5000 loss: 0.38012857042822584\n",
            "  batch 6000 loss: 0.3857534642143655\n",
            "  batch 7000 loss: 0.34864419936590846\n",
            "  batch 8000 loss: 0.3545328563312259\n",
            "  batch 9000 loss: 0.3554392989020398\n",
            "  batch 10000 loss: 0.35878297804652626\n",
            "  batch 11000 loss: 0.3533826794004077\n",
            "  batch 12000 loss: 0.3861461588353616\n",
            "  batch 13000 loss: 0.37055541334257225\n",
            "  batch 14000 loss: 0.35860819685649675\n",
            "  batch 15000 loss: 0.39140348301709255\n",
            "LOSS train 0.39140348301709255 valid 0.42375701665878296\n",
            "EPOCH 8:\n",
            "  batch 1000 loss: 0.3464603700441337\n",
            "  batch 2000 loss: 0.3686634749450271\n",
            "  batch 3000 loss: 0.3458830914425242\n",
            "  batch 4000 loss: 0.3730962783300996\n",
            "  batch 5000 loss: 0.36998869571632725\n",
            "  batch 6000 loss: 0.3822425221699347\n",
            "  batch 7000 loss: 0.35353888107011333\n",
            "  batch 8000 loss: 0.3321226263211864\n",
            "  batch 9000 loss: 0.37515487017586563\n",
            "  batch 10000 loss: 0.36459593228886156\n",
            "  batch 11000 loss: 0.3703027243573272\n",
            "  batch 12000 loss: 0.3609847844354454\n",
            "  batch 13000 loss: 0.35516890714228977\n",
            "  batch 14000 loss: 0.3486767753055339\n",
            "  batch 15000 loss: 0.36581936627123646\n",
            "LOSS train 0.36581936627123646 valid 0.43409478664398193\n",
            "EPOCH 9:\n",
            "  batch 1000 loss: 0.36722395425171717\n",
            "  batch 2000 loss: 0.3591521037979274\n",
            "  batch 3000 loss: 0.3546775277478679\n",
            "  batch 4000 loss: 0.37539751392337184\n",
            "  batch 5000 loss: 0.35384413835240036\n",
            "  batch 6000 loss: 0.3701003686931863\n",
            "  batch 7000 loss: 0.3475863830386452\n",
            "  batch 8000 loss: 0.3549375646019149\n",
            "  batch 9000 loss: 0.33214021999303756\n",
            "  batch 10000 loss: 0.3859449540577934\n",
            "  batch 11000 loss: 0.3770578895435932\n",
            "  batch 12000 loss: 0.35791704311466\n",
            "  batch 13000 loss: 0.3598369216049113\n",
            "  batch 14000 loss: 0.3806263382470033\n",
            "  batch 15000 loss: 0.4008759014360069\n",
            "LOSS train 0.4008759014360069 valid 0.4157424867153168\n",
            "EPOCH 10:\n",
            "  batch 1000 loss: 0.38362518683413\n",
            "  batch 2000 loss: 0.366624843665558\n",
            "  batch 3000 loss: 0.3488114397036467\n",
            "  batch 4000 loss: 0.34589803378969264\n",
            "  batch 5000 loss: 0.36605924070210816\n",
            "  batch 6000 loss: 0.366577764748243\n",
            "  batch 7000 loss: 0.3700189734124615\n",
            "  batch 8000 loss: 0.34361861681604977\n",
            "  batch 9000 loss: 0.4064914622504168\n",
            "  batch 10000 loss: 0.4049768928407552\n",
            "  batch 11000 loss: 0.4260539794296201\n",
            "  batch 12000 loss: 0.42073677151285926\n",
            "  batch 13000 loss: 0.4042966708382404\n",
            "  batch 14000 loss: 0.39174736925415526\n",
            "  batch 15000 loss: 0.40237626881635963\n",
            "LOSS train 0.40237626881635963 valid 0.4351716935634613\n"
          ]
        }
      ],
      "source": [
        "# Initializing in a separate cell so we can easily add more epochs to the same run\n",
        "timestamp = datetime.now().strftime('%Y%m%d_%H%M%S')\n",
        "writer = SummaryWriter('runs/fashion_trainer_{}'.format(timestamp))\n",
        "epoch_number = 0\n",
        "\n",
        "EPOCHS = 10\n",
        "\n",
        "best_vloss = 1_000_000.\n",
        "\n",
        "for epoch in range(EPOCHS):\n",
        "    print('EPOCH {}:'.format(epoch_number + 1))\n",
        "\n",
        "    # Make sure gradient tracking is on, and do a pass over the data\n",
        "    model.train(True)\n",
        "    avg_loss = train_one_epoch(epoch_number, writer)\n",
        "\n",
        "\n",
        "    running_vloss = 0.0\n",
        "    # Set the model to evaluation mode, disabling dropout and using population\n",
        "    # statistics for batch normalization.\n",
        "    model.eval()\n",
        "\n",
        "    # Disable gradient computation and reduce memory consumption.\n",
        "    with torch.no_grad():\n",
        "        for i, vdata in enumerate(validation_loader):\n",
        "            vinputs, vlabels = vdata\n",
        "            voutputs = model(vinputs)\n",
        "            vloss = loss_fn(voutputs, vlabels)\n",
        "            running_vloss += vloss\n",
        "\n",
        "    avg_vloss = running_vloss / (i + 1)\n",
        "    print('LOSS train {} valid {}'.format(avg_loss, avg_vloss))\n",
        "\n",
        "    # Log the running loss averaged per batch\n",
        "    # for both training and validation\n",
        "    writer.add_scalars('Training vs. Validation Loss',\n",
        "                    { 'Training' : avg_loss, 'Validation' : avg_vloss },\n",
        "                    epoch_number + 1)\n",
        "    writer.flush()\n",
        "\n",
        "    # Track best performance, and save the model's state\n",
        "    if avg_vloss < best_vloss:\n",
        "        best_vloss = avg_vloss\n",
        "        model_path = 'model_{}_{}'.format(timestamp, epoch_number)\n",
        "        torch.save(model.state_dict(), model_path)\n",
        "\n",
        "    epoch_number += 1"
      ]
    },
    {
      "cell_type": "markdown",
      "metadata": {
        "id": "GojuG9X0WNWH"
      },
      "source": [
        "To load a saved version of the model:\n",
        "\n",
        "``` {.python}\n",
        "saved_model = GarmentClassifier()\n",
        "saved_model.load_state_dict(torch.load(PATH))\n",
        "```\n",
        "\n",
        "Once you've loaded the model, it's ready for whatever you need it for\n",
        "-more training, inference, or analysis.\n",
        "\n",
        "Note that if your model has constructor parameters that affect model\n",
        "structure, you'll need to provide them and configure the model\n",
        "identically to the state in which it was saved.\n",
        "\n",
        "Other Resources\n",
        "===============\n",
        "\n",
        "-   Docs on the [data\n",
        "    utilities](https://pytorch.org/docs/stable/data.html), including\n",
        "    Dataset and DataLoader, at pytorch.org\n",
        "-   A [note on the use of pinned\n",
        "    memory](https://pytorch.org/docs/stable/notes/cuda.html#cuda-memory-pinning)\n",
        "    for GPU training\n",
        "-   Documentation on the datasets available in\n",
        "    [TorchVision](https://pytorch.org/vision/stable/datasets.html),\n",
        "    [TorchText](https://pytorch.org/text/stable/datasets.html), and\n",
        "    [TorchAudio](https://pytorch.org/audio/stable/datasets.html)\n",
        "-   Documentation on the [loss\n",
        "    functions](https://pytorch.org/docs/stable/nn.html#loss-functions)\n",
        "    available in PyTorch\n",
        "-   Documentation on the [torch.optim\n",
        "    package](https://pytorch.org/docs/stable/optim.html), which includes\n",
        "    optimizers and related tools, such as learning rate scheduling\n",
        "-   A detailed [tutorial on saving and loading\n",
        "    models](https://pytorch.org/tutorials/beginner/saving_loading_models.html)\n",
        "-   The [Tutorials section of\n",
        "    pytorch.org](https://pytorch.org/tutorials/) contains tutorials on a\n",
        "    broad variety of training tasks, including classification in\n",
        "    different domains, generative adversarial networks, reinforcement\n",
        "    learning, and more\n"
      ]
    }
  ],
  "metadata": {
    "accelerator": "GPU",
    "colab": {
      "provenance": [],
      "gpuType": "T4"
    },
    "kernelspec": {
      "display_name": "Python 3",
      "name": "python3"
    },
    "language_info": {
      "codemirror_mode": {
        "name": "ipython",
        "version": 3
      },
      "file_extension": ".py",
      "mimetype": "text/x-python",
      "name": "python",
      "nbconvert_exporter": "python",
      "pygments_lexer": "ipython3",
      "version": "3.10.12"
    }
  },
  "nbformat": 4,
  "nbformat_minor": 0
}